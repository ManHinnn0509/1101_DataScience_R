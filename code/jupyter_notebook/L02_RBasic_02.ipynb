{
 "cells": [
  {
   "cell_type": "markdown",
   "metadata": {},
   "source": [
    "R 語言基礎資料結構 2\n",
    "\n",
    "以下教材部分出自 Wush Wu 所編寫之 R 語言翻轉教室\n",
    "\n",
    "R 語言中，所有的資料都是以向量形式儲存\n",
    "\n",
    "也就是說 R 語言的資料沒有單一的資料型態，只有長度為 1 的向量\n"
   ]
  },
  {
   "cell_type": "code",
   "execution_count": 1,
   "metadata": {},
   "outputs": [
    {
     "data": {
      "text/html": [
       "'character'"
      ],
      "text/latex": [
       "'character'"
      ],
      "text/markdown": [
       "'character'"
      ],
      "text/plain": [
       "[1] \"character\""
      ]
     },
     "metadata": {},
     "output_type": "display_data"
    },
    {
     "data": {
      "text/html": [
       "'character'"
      ],
      "text/latex": [
       "'character'"
      ],
      "text/markdown": [
       "'character'"
      ],
      "text/plain": [
       "[1] \"character\""
      ]
     },
     "metadata": {},
     "output_type": "display_data"
    }
   ],
   "source": [
    "# factor : string 既編碼 (類似Index?) , 用數字形式去表達\n",
    "# ---\n",
    "\n",
    "# class 函式與 mode 函式都可以用來了解某個資料向量的類別\n",
    "# class 函式透露的是使用者自訂的類別\n",
    "# 而 mode 函式，則透露了向量底層是以什麼方式儲存的\n",
    "class(\"FCU\")\n",
    "mode(\"FCU\")"
   ]
  },
  {
   "cell_type": "code",
   "execution_count": 2,
   "metadata": {},
   "outputs": [
    {
     "data": {
      "text/html": [
       "'integer'"
      ],
      "text/latex": [
       "'integer'"
      ],
      "text/markdown": [
       "'integer'"
      ],
      "text/plain": [
       "[1] \"integer\""
      ]
     },
     "metadata": {},
     "output_type": "display_data"
    },
    {
     "data": {
      "text/html": [
       "'numeric'"
      ],
      "text/latex": [
       "'numeric'"
      ],
      "text/markdown": [
       "'numeric'"
      ],
      "text/plain": [
       "[1] \"numeric\""
      ]
     },
     "metadata": {},
     "output_type": "display_data"
    }
   ],
   "source": [
    "class(1L)\n",
    "mode(1L)"
   ]
  },
  {
   "cell_type": "code",
   "execution_count": 5,
   "metadata": {},
   "outputs": [
    {
     "data": {
      "text/html": [
       "'lm'"
      ],
      "text/latex": [
       "'lm'"
      ],
      "text/markdown": [
       "'lm'"
      ],
      "text/plain": [
       "[1] \"lm\""
      ]
     },
     "metadata": {},
     "output_type": "display_data"
    },
    {
     "data": {
      "text/html": [
       "'list'"
      ],
      "text/latex": [
       "'list'"
      ],
      "text/markdown": [
       "'list'"
      ],
      "text/plain": [
       "[1] \"list\""
      ]
     },
     "metadata": {},
     "output_type": "display_data"
    }
   ],
   "source": [
    "g <- lm(dist ~ speed, cars) \n",
    "\n",
    "class(g)\n",
    "mode(g)"
   ]
  },
  {
   "cell_type": "code",
   "execution_count": 6,
   "metadata": {},
   "outputs": [],
   "source": [
    "# 參閱 mode 的 help\n",
    "# 請回答 R 內建的資料，其底層有幾種儲存型式？"
   ]
  },
  {
   "cell_type": "markdown",
   "metadata": {},
   "source": [
    "list 是所謂「R 物件的向量」\n",
    "\n",
    "這裡要特別強調「向量」的概念，因為list是有順序性的。"
   ]
  },
  {
   "cell_type": "code",
   "execution_count": null,
   "metadata": {},
   "outputs": [],
   "source": [
    "# 我們可以用 list() 函式來建立自訂的 list\n",
    "my.list = list(iris = iris, cars = cars, n = 2)\n",
    "\n",
    "# 然後以 str 函式來觀察其結構\n",
    "str(my.list)"
   ]
  },
  {
   "cell_type": "code",
   "execution_count": null,
   "metadata": {},
   "outputs": [],
   "source": [
    "# 在建立的過程中，因為 iris 在前面，所以是向量中的第一個元素(element)\n",
    "# 而 cars 跟在 iris 後面，所以是第二個 element。\n",
    "# 我們可以利用兩個中括號 [[]] 來取出 R 物件向量中各 element 的內容，如\n",
    "my.list[[3]]"
   ]
  },
  {
   "cell_type": "code",
   "execution_count": null,
   "metadata": {},
   "outputs": [],
   "source": [
    "# my.list[[3]] 的類別為何？\n",
    "# my.list[2] 的類別又為何？\n",
    "# 為什麼會有差異？"
   ]
  },
  {
   "cell_type": "code",
   "execution_count": null,
   "metadata": {},
   "outputs": [],
   "source": [
    "# 請嘗試以下列指令再建立一個 list\n",
    "my.list2 <- <- list(iris, cars, 2)\n",
    "\n",
    "# 請以 str 指令比較 my.list 與 my.list2 有什麼不同？"
   ]
  },
  {
   "cell_type": "markdown",
   "metadata": {},
   "source": [
    "list的元素除了用位置做選取之外 (如：my.list[[3]])\n",
    "\n",
    "也可以用名字做選取，在我們建立 my.list 時，其指令為 my.list <- list(iris = iris, cars = cars, n = 2)\n",
    "\n",
    "這代表第一個元素的名字是 \"iris\"，第二個是\"cars\"，第三個是\"n\"\n",
    "\n",
    "而和我們使用x[[3]]的方式類似，我們也可以使用 my.list[[\"n\"]] 來選擇第三個，也就是名字是\"n\"的元素\n",
    "\n",
    "而從 str 函式的暗示中，我們知道在 my.list 的第三個元素被標示為 $n\n",
    "\n",
    "所以我們也可以利用 my.list$n 來取出名字是 \"n\" 的元素"
   ]
  },
  {
   "cell_type": "code",
   "execution_count": 15,
   "metadata": {},
   "outputs": [
    {
     "name": "stdout",
     "output_type": "stream",
     "text": [
      "List of 12\n",
      " $ coefficients : Named num [1:2] -17.58 3.93\n",
      "  ..- attr(*, \"names\")= chr [1:2] \"(Intercept)\" \"speed\"\n",
      " $ residuals    : Named num [1:50] 3.85 11.85 -5.95 12.05 2.12 ...\n",
      "  ..- attr(*, \"names\")= chr [1:50] \"1\" \"2\" \"3\" \"4\" ...\n",
      " $ effects      : Named num [1:50] -303.914 145.552 -8.115 9.885 0.194 ...\n",
      "  ..- attr(*, \"names\")= chr [1:50] \"(Intercept)\" \"speed\" \"\" \"\" ...\n",
      " $ rank         : int 2\n",
      " $ fitted.values: Named num [1:50] -1.85 -1.85 9.95 9.95 13.88 ...\n",
      "  ..- attr(*, \"names\")= chr [1:50] \"1\" \"2\" \"3\" \"4\" ...\n",
      " $ assign       : int [1:2] 0 1\n",
      " $ qr           :List of 5\n",
      "  ..$ qr   : num [1:50, 1:2] -7.071 0.141 0.141 0.141 0.141 ...\n",
      "  .. ..- attr(*, \"dimnames\")=List of 2\n",
      "  .. .. ..$ : chr [1:50] \"1\" \"2\" \"3\" \"4\" ...\n",
      "  .. .. ..$ : chr [1:2] \"(Intercept)\" \"speed\"\n",
      "  .. ..- attr(*, \"assign\")= int [1:2] 0 1\n",
      "  ..$ qraux: num [1:2] 1.14 1.27\n",
      "  ..$ pivot: int [1:2] 1 2\n",
      "  ..$ tol  : num 1e-07\n",
      "  ..$ rank : int 2\n",
      "  ..- attr(*, \"class\")= chr \"qr\"\n",
      " $ df.residual  : int 48\n",
      " $ xlevels      : Named list()\n",
      " $ call         : language lm(formula = dist ~ speed, data = cars)\n",
      " $ terms        :Classes 'terms', 'formula'  language dist ~ speed\n",
      "  .. ..- attr(*, \"variables\")= language list(dist, speed)\n",
      "  .. ..- attr(*, \"factors\")= int [1:2, 1] 0 1\n",
      "  .. .. ..- attr(*, \"dimnames\")=List of 2\n",
      "  .. .. .. ..$ : chr [1:2] \"dist\" \"speed\"\n",
      "  .. .. .. ..$ : chr \"speed\"\n",
      "  .. ..- attr(*, \"term.labels\")= chr \"speed\"\n",
      "  .. ..- attr(*, \"order\")= int 1\n",
      "  .. ..- attr(*, \"intercept\")= int 1\n",
      "  .. ..- attr(*, \"response\")= int 1\n",
      "  .. ..- attr(*, \".Environment\")=<environment: R_GlobalEnv> \n",
      "  .. ..- attr(*, \"predvars\")= language list(dist, speed)\n",
      "  .. ..- attr(*, \"dataClasses\")= Named chr [1:2] \"numeric\" \"numeric\"\n",
      "  .. .. ..- attr(*, \"names\")= chr [1:2] \"dist\" \"speed\"\n",
      " $ model        :'data.frame':\t50 obs. of  2 variables:\n",
      "  ..$ dist : num [1:50] 2 10 4 22 16 10 18 26 34 17 ...\n",
      "  ..$ speed: num [1:50] 4 4 7 7 8 9 10 10 10 11 ...\n",
      "  ..- attr(*, \"terms\")=Classes 'terms', 'formula'  language dist ~ speed\n",
      "  .. .. ..- attr(*, \"variables\")= language list(dist, speed)\n",
      "  .. .. ..- attr(*, \"factors\")= int [1:2, 1] 0 1\n",
      "  .. .. .. ..- attr(*, \"dimnames\")=List of 2\n",
      "  .. .. .. .. ..$ : chr [1:2] \"dist\" \"speed\"\n",
      "  .. .. .. .. ..$ : chr \"speed\"\n",
      "  .. .. ..- attr(*, \"term.labels\")= chr \"speed\"\n",
      "  .. .. ..- attr(*, \"order\")= int 1\n",
      "  .. .. ..- attr(*, \"intercept\")= int 1\n",
      "  .. .. ..- attr(*, \"response\")= int 1\n",
      "  .. .. ..- attr(*, \".Environment\")=<environment: R_GlobalEnv> \n",
      "  .. .. ..- attr(*, \"predvars\")= language list(dist, speed)\n",
      "  .. .. ..- attr(*, \"dataClasses\")= Named chr [1:2] \"numeric\" \"numeric\"\n",
      "  .. .. .. ..- attr(*, \"names\")= chr [1:2] \"dist\" \"speed\"\n",
      " - attr(*, \"class\")= chr \"lm\"\n"
     ]
    }
   ],
   "source": [
    "g <- lm(dist ~ speed, cars)\n",
    "\n",
    "# 請以 str 指令觀察 g 的結構，有什麼發現呢？\n",
    "str(g)\n",
    "\n",
    "# g 是一個線性模型，假如想要取出該模型的係數，應該要如何做？"
   ]
  },
  {
   "cell_type": "markdown",
   "metadata": {},
   "source": [
    "R 語言中，除了類別以外，長度也是 R 物件的重要屬性"
   ]
  },
  {
   "cell_type": "code",
   "execution_count": null,
   "metadata": {},
   "outputs": [],
   "source": [
    "# 執行下列指令後，可得 x 是一個長度為 5 的 numeric 向量\n",
    "x <- 1:5"
   ]
  },
  {
   "cell_type": "code",
   "execution_count": 17,
   "metadata": {},
   "outputs": [
    {
     "data": {
      "text/html": [
       "<ol class=list-inline>\n",
       "\t<li>1</li>\n",
       "\t<li>2</li>\n",
       "\t<li>3</li>\n",
       "\t<li>4</li>\n",
       "\t<li>5</li>\n",
       "\t<li>&lt;NA&gt;</li>\n",
       "\t<li>&lt;NA&gt;</li>\n",
       "\t<li>&lt;NA&gt;</li>\n",
       "\t<li>&lt;NA&gt;</li>\n",
       "\t<li>&lt;NA&gt;</li>\n",
       "</ol>\n"
      ],
      "text/latex": [
       "\\begin{enumerate*}\n",
       "\\item 1\n",
       "\\item 2\n",
       "\\item 3\n",
       "\\item 4\n",
       "\\item 5\n",
       "\\item <NA>\n",
       "\\item <NA>\n",
       "\\item <NA>\n",
       "\\item <NA>\n",
       "\\item <NA>\n",
       "\\end{enumerate*}\n"
      ],
      "text/markdown": [
       "1. 1\n",
       "2. 2\n",
       "3. 3\n",
       "4. 4\n",
       "5. 5\n",
       "6. &lt;NA&gt;\n",
       "7. &lt;NA&gt;\n",
       "8. &lt;NA&gt;\n",
       "9. &lt;NA&gt;\n",
       "10. &lt;NA&gt;\n",
       "\n",
       "\n"
      ],
      "text/plain": [
       " [1]  1  2  3  4  5 NA NA NA NA NA"
      ]
     },
     "metadata": {},
     "output_type": "display_data"
    }
   ],
   "source": [
    "x <- 1:5\n",
    "\n",
    "# length() 函式除了用來取得 R 物件的長度以外\n",
    "# 也可以被用來指定 R 物件的長度，如\n",
    "length(x) <- 10\n",
    "\n",
    "# 請再觀察 x 的模樣\n",
    "x"
   ]
  },
  {
   "cell_type": "code",
   "execution_count": 19,
   "metadata": {},
   "outputs": [
    {
     "data": {
      "text/html": [
       "<ol class=list-inline>\n",
       "\t<li>1</li>\n",
       "\t<li>2</li>\n",
       "\t<li>3</li>\n",
       "\t<li>4</li>\n",
       "\t<li>5</li>\n",
       "\t<li>&lt;NA&gt;</li>\n",
       "\t<li>7</li>\n",
       "\t<li>&lt;NA&gt;</li>\n",
       "\t<li>&lt;NA&gt;</li>\n",
       "\t<li>&lt;NA&gt;</li>\n",
       "</ol>\n"
      ],
      "text/latex": [
       "\\begin{enumerate*}\n",
       "\\item 1\n",
       "\\item 2\n",
       "\\item 3\n",
       "\\item 4\n",
       "\\item 5\n",
       "\\item <NA>\n",
       "\\item 7\n",
       "\\item <NA>\n",
       "\\item <NA>\n",
       "\\item <NA>\n",
       "\\end{enumerate*}\n"
      ],
      "text/markdown": [
       "1. 1\n",
       "2. 2\n",
       "3. 3\n",
       "4. 4\n",
       "5. 5\n",
       "6. &lt;NA&gt;\n",
       "7. 7\n",
       "8. &lt;NA&gt;\n",
       "9. &lt;NA&gt;\n",
       "10. &lt;NA&gt;\n",
       "\n",
       "\n"
      ],
      "text/plain": [
       " [1]  1  2  3  4  5 NA  7 NA NA NA"
      ]
     },
     "metadata": {},
     "output_type": "display_data"
    }
   ],
   "source": [
    "# 請指定 x 的第七個元素為 7，觀察 x 的變化\n",
    "\n",
    "x[7] = 7\n",
    "x"
   ]
  },
  {
   "cell_type": "code",
   "execution_count": 20,
   "metadata": {},
   "outputs": [
    {
     "data": {
      "text/html": [
       "<ol class=list-inline>\n",
       "\t<li>1</li>\n",
       "\t<li>2</li>\n",
       "\t<li>3</li>\n",
       "\t<li>4</li>\n",
       "\t<li>5</li>\n",
       "\t<li>&lt;NA&gt;</li>\n",
       "\t<li>7</li>\n",
       "\t<li>&lt;NA&gt;</li>\n",
       "\t<li>&lt;NA&gt;</li>\n",
       "\t<li>&lt;NA&gt;</li>\n",
       "\t<li>&lt;NA&gt;</li>\n",
       "\t<li>&lt;NA&gt;</li>\n",
       "\t<li>13</li>\n",
       "</ol>\n"
      ],
      "text/latex": [
       "\\begin{enumerate*}\n",
       "\\item 1\n",
       "\\item 2\n",
       "\\item 3\n",
       "\\item 4\n",
       "\\item 5\n",
       "\\item <NA>\n",
       "\\item 7\n",
       "\\item <NA>\n",
       "\\item <NA>\n",
       "\\item <NA>\n",
       "\\item <NA>\n",
       "\\item <NA>\n",
       "\\item 13\n",
       "\\end{enumerate*}\n"
      ],
      "text/markdown": [
       "1. 1\n",
       "2. 2\n",
       "3. 3\n",
       "4. 4\n",
       "5. 5\n",
       "6. &lt;NA&gt;\n",
       "7. 7\n",
       "8. &lt;NA&gt;\n",
       "9. &lt;NA&gt;\n",
       "10. &lt;NA&gt;\n",
       "11. &lt;NA&gt;\n",
       "12. &lt;NA&gt;\n",
       "13. 13\n",
       "\n",
       "\n"
      ],
      "text/plain": [
       " [1]  1  2  3  4  5 NA  7 NA NA NA NA NA 13"
      ]
     },
     "metadata": {},
     "output_type": "display_data"
    }
   ],
   "source": [
    "# 請指定 x 的第 13 個元素為 13，觀察 x 的變化\n",
    "\n",
    "# length(x) <- 13\n",
    "\n",
    "x[13] = 13\n",
    "x"
   ]
  },
  {
   "cell_type": "code",
   "execution_count": 23,
   "metadata": {},
   "outputs": [
    {
     "data": {
      "text/html": [
       "<ol class=list-inline>\n",
       "\t<li>1</li>\n",
       "\t<li>2</li>\n",
       "\t<li>3</li>\n",
       "\t<li>4</li>\n",
       "\t<li>5</li>\n",
       "\t<li>7</li>\n",
       "\t<li>13</li>\n",
       "</ol>\n"
      ],
      "text/latex": [
       "\\begin{enumerate*}\n",
       "\\item 1\n",
       "\\item 2\n",
       "\\item 3\n",
       "\\item 4\n",
       "\\item 5\n",
       "\\item 7\n",
       "\\item 13\n",
       "\\end{enumerate*}\n"
      ],
      "text/markdown": [
       "1. 1\n",
       "2. 2\n",
       "3. 3\n",
       "4. 4\n",
       "5. 5\n",
       "6. 7\n",
       "7. 13\n",
       "\n",
       "\n"
      ],
      "text/plain": [
       "[1]  1  2  3  4  5  7 13"
      ]
     },
     "metadata": {},
     "output_type": "display_data"
    },
    {
     "data": {
      "text/html": [
       "&lt;NA&gt;"
      ],
      "text/latex": [
       "<NA>"
      ],
      "text/markdown": [
       "&lt;NA&gt;"
      ],
      "text/plain": [
       "[1] NA"
      ]
     },
     "metadata": {},
     "output_type": "display_data"
    },
    {
     "data": {
      "text/html": [
       "7"
      ],
      "text/latex": [
       "7"
      ],
      "text/markdown": [
       "7"
      ],
      "text/plain": [
       "[1] 7"
      ]
     },
     "metadata": {},
     "output_type": "display_data"
    }
   ],
   "source": [
    "# 請嘗試將 x 中不是 NA 的元素，複製到另一個向量 x2 中\n",
    "\n",
    "x2 = x[!is.na(x)]\n",
    "x2\n",
    "\n",
    "# They arent the same anymore :0\n",
    "x[6]\n",
    "x2[6]"
   ]
  },
  {
   "cell_type": "markdown",
   "metadata": {},
   "source": [
    "向量是一維的元素組合\n",
    "\n",
    "二維的元素組合就是矩陣 (matrix)\n",
    "\n",
    "而更高維度的元素組合也就是現在很流行的所謂張量 (tensor)，而在 R 中則被稱為是 array"
   ]
  },
  {
   "cell_type": "code",
   "execution_count": 43,
   "metadata": {},
   "outputs": [
    {
     "data": {
      "text/html": [
       "<table>\n",
       "<tbody>\n",
       "\t<tr><td>1 </td><td> 7</td><td>13</td></tr>\n",
       "\t<tr><td>2 </td><td> 8</td><td>14</td></tr>\n",
       "\t<tr><td>3 </td><td> 9</td><td>15</td></tr>\n",
       "\t<tr><td>4 </td><td>10</td><td>16</td></tr>\n",
       "\t<tr><td>5 </td><td>11</td><td>17</td></tr>\n",
       "\t<tr><td>6 </td><td>12</td><td>18</td></tr>\n",
       "</tbody>\n",
       "</table>\n"
      ],
      "text/latex": [
       "\\begin{tabular}{lll}\n",
       "\t 1  &  7 & 13\\\\\n",
       "\t 2  &  8 & 14\\\\\n",
       "\t 3  &  9 & 15\\\\\n",
       "\t 4  & 10 & 16\\\\\n",
       "\t 5  & 11 & 17\\\\\n",
       "\t 6  & 12 & 18\\\\\n",
       "\\end{tabular}\n"
      ],
      "text/markdown": [
       "\n",
       "| 1  |  7 | 13 |\n",
       "| 2  |  8 | 14 |\n",
       "| 3  |  9 | 15 |\n",
       "| 4  | 10 | 16 |\n",
       "| 5  | 11 | 17 |\n",
       "| 6  | 12 | 18 |\n",
       "\n"
      ],
      "text/plain": [
       "     [,1] [,2] [,3]\n",
       "[1,] 1     7   13  \n",
       "[2,] 2     8   14  \n",
       "[3,] 3     9   15  \n",
       "[4,] 4    10   16  \n",
       "[5,] 5    11   17  \n",
       "[6,] 6    12   18  "
      ]
     },
     "metadata": {},
     "output_type": "display_data"
    }
   ],
   "source": [
    "# 我們可以利用matrix這個函數來建立一個矩陣\n",
    "# 舉例來說，matrix(1:18, 6, 3) 就可以建立一個 6 乘 3 的矩陣。 請同學試試看，並把這個矩陣寫入變數 m 。\n",
    "\n",
    "m <- matrix(1:18, 6, 3)\n",
    "m\n",
    "\n",
    "# Also try this\n",
    "# m <- matrix(1:18, 6, 3, byrow=TRUE)\n",
    "# m\n",
    "\n",
    "# dim(m)"
   ]
  },
  {
   "cell_type": "code",
   "execution_count": 34,
   "metadata": {},
   "outputs": [
    {
     "data": {
      "text/plain": [
       "NULL"
      ]
     },
     "metadata": {},
     "output_type": "display_data"
    },
    {
     "data": {
      "text/html": [
       "'function'"
      ],
      "text/latex": [
       "'function'"
      ],
      "text/markdown": [
       "'function'"
      ],
      "text/plain": [
       "[1] \"function\""
      ]
     },
     "metadata": {},
     "output_type": "display_data"
    },
    {
     "data": {
      "text/html": [
       "'function'"
      ],
      "text/latex": [
       "'function'"
      ],
      "text/markdown": [
       "'function'"
      ],
      "text/plain": [
       "[1] \"function\""
      ]
     },
     "metadata": {},
     "output_type": "display_data"
    }
   ],
   "source": [
    "# 利用 attributes(m) 看看 matrix 物件的屬性有什麼？\n",
    "# 利用 class 與 mode 指令觀察 matrix 的類別與儲存型態，有什麼發現？\n",
    "\n",
    "attributes(matrix)\n",
    "\n",
    "class(matrix)\n",
    "mode(matrix)"
   ]
  },
  {
   "cell_type": "code",
   "execution_count": 38,
   "metadata": {},
   "outputs": [
    {
     "data": {
      "text/html": [
       "<ol class=list-inline>\n",
       "\t<li>6</li>\n",
       "\t<li>3</li>\n",
       "</ol>\n"
      ],
      "text/latex": [
       "\\begin{enumerate*}\n",
       "\\item 6\n",
       "\\item 3\n",
       "\\end{enumerate*}\n"
      ],
      "text/markdown": [
       "1. 6\n",
       "2. 3\n",
       "\n",
       "\n"
      ],
      "text/plain": [
       "[1] 6 3"
      ]
     },
     "metadata": {},
     "output_type": "display_data"
    }
   ],
   "source": [
    "# 重要的屬性，R 都會提供內建函數來方便存取。dim() 就是可以存取矩陣維度的函數\n",
    "# 請同學試試看：dim(m)\n",
    "\n",
    "dim(m)"
   ]
  },
  {
   "cell_type": "code",
   "execution_count": 44,
   "metadata": {},
   "outputs": [
    {
     "data": {
      "text/html": [
       "<table>\n",
       "<tbody>\n",
       "\t<tr><td>1 </td><td> 7</td><td>13</td></tr>\n",
       "\t<tr><td>2 </td><td> 8</td><td>14</td></tr>\n",
       "\t<tr><td>3 </td><td> 9</td><td>15</td></tr>\n",
       "\t<tr><td>4 </td><td>10</td><td>16</td></tr>\n",
       "\t<tr><td>5 </td><td>11</td><td>17</td></tr>\n",
       "\t<tr><td>6 </td><td>12</td><td>18</td></tr>\n",
       "</tbody>\n",
       "</table>\n"
      ],
      "text/latex": [
       "\\begin{tabular}{lll}\n",
       "\t 1  &  7 & 13\\\\\n",
       "\t 2  &  8 & 14\\\\\n",
       "\t 3  &  9 & 15\\\\\n",
       "\t 4  & 10 & 16\\\\\n",
       "\t 5  & 11 & 17\\\\\n",
       "\t 6  & 12 & 18\\\\\n",
       "\\end{tabular}\n"
      ],
      "text/markdown": [
       "\n",
       "| 1  |  7 | 13 |\n",
       "| 2  |  8 | 14 |\n",
       "| 3  |  9 | 15 |\n",
       "| 4  | 10 | 16 |\n",
       "| 5  | 11 | 17 |\n",
       "| 6  | 12 | 18 |\n",
       "\n"
      ],
      "text/plain": [
       "     [,1] [,2] [,3]\n",
       "[1,] 1     7   13  \n",
       "[2,] 2     8   14  \n",
       "[3,] 3     9   15  \n",
       "[4,] 4    10   16  \n",
       "[5,] 5    11   17  \n",
       "[6,] 6    12   18  "
      ]
     },
     "metadata": {},
     "output_type": "display_data"
    },
    {
     "data": {
      "text/html": [
       "<table>\n",
       "<tbody>\n",
       "\t<tr><td>1 </td><td>4 </td><td>7 </td><td>10</td><td>13</td><td>16</td></tr>\n",
       "\t<tr><td>2 </td><td>5 </td><td>8 </td><td>11</td><td>14</td><td>17</td></tr>\n",
       "\t<tr><td>3 </td><td>6 </td><td>9 </td><td>12</td><td>15</td><td>18</td></tr>\n",
       "</tbody>\n",
       "</table>\n"
      ],
      "text/latex": [
       "\\begin{tabular}{llllll}\n",
       "\t 1  & 4  & 7  & 10 & 13 & 16\\\\\n",
       "\t 2  & 5  & 8  & 11 & 14 & 17\\\\\n",
       "\t 3  & 6  & 9  & 12 & 15 & 18\\\\\n",
       "\\end{tabular}\n"
      ],
      "text/markdown": [
       "\n",
       "| 1  | 4  | 7  | 10 | 13 | 16 |\n",
       "| 2  | 5  | 8  | 11 | 14 | 17 |\n",
       "| 3  | 6  | 9  | 12 | 15 | 18 |\n",
       "\n"
      ],
      "text/plain": [
       "     [,1] [,2] [,3] [,4] [,5] [,6]\n",
       "[1,] 1    4    7    10   13   16  \n",
       "[2,] 2    5    8    11   14   17  \n",
       "[3,] 3    6    9    12   15   18  "
      ]
     },
     "metadata": {},
     "output_type": "display_data"
    }
   ],
   "source": [
    "# 根據先前操弄向量長度的經驗可知，矩陣的維度應該也是可以操弄的\n",
    "# 請嘗試下列指令 dim(m) <- c(3, 6)，再觀察 m 的樣貌\n",
    "m <- matrix(1:18, 6, 3)\n",
    "m\n",
    "\n",
    "# Same\n",
    "dim(m) <- c(3, 6)\n",
    "# attr(m, \"dim\") <- c(3, 6)\n",
    "\n",
    "m"
   ]
  },
  {
   "cell_type": "code",
   "execution_count": 45,
   "metadata": {},
   "outputs": [
    {
     "data": {
      "text/html": [
       "3"
      ],
      "text/latex": [
       "3"
      ],
      "text/markdown": [
       "3"
      ],
      "text/plain": [
       "[1] 3"
      ]
     },
     "metadata": {},
     "output_type": "display_data"
    },
    {
     "data": {
      "text/html": [
       "6"
      ],
      "text/latex": [
       "6"
      ],
      "text/markdown": [
       "6"
      ],
      "text/plain": [
       "[1] 6"
      ]
     },
     "metadata": {},
     "output_type": "display_data"
    }
   ],
   "source": [
    "# 除了 dim() 以外，還可以利用 nrow() 以及 ncol() 來取得矩陣的行數與列數\n",
    "# 請參照兩者的 help 並且嘗試之\n",
    "\n",
    "# Only for getting attribute(s)\n",
    "# Cannot assign\n",
    "nrow(m)\n",
    "ncol(m)\n"
   ]
  },
  {
   "cell_type": "code",
   "execution_count": 49,
   "metadata": {},
   "outputs": [
    {
     "ename": "ERROR",
     "evalue": "Error in parse(text = x, srcfile = src): <text>:7:7: unexpected string constant\n25: > \n26: \"\n          ^\n",
     "output_type": "error",
     "traceback": [
      "Error in parse(text = x, srcfile = src): <text>:7:7: unexpected string constant\n25: > \n26: \"\n          ^\nTraceback:\n"
     ]
    }
   ],
   "source": [
    "# 除了二維矩陣 (matrix) 之外，R 與也還有更高維度的陣列 (張量)\n",
    "# 我們可以直接更改 m 的維度到更高維。請同學試試看：dim(m) <- c(3, 3, 2)\n",
    "\n",
    "dim(m) <- c(3, 3, 2)\n",
    "m\n",
    "\n",
    "# - R Studio -\n",
    "\n",
    "# > m <- matrix(1:18, 6, 3)\n",
    "# > dim(m) <- c(3, 3, 2)\n",
    "# > m\n",
    "# , , 1\n",
    "# \n",
    "# [,1] [,2] [,3]\n",
    "# [1,]    1    4    7\n",
    "# [2,]    2    5    8\n",
    "# [3,]    3    6    9\n",
    "# \n",
    "# , , 2\n",
    "# \n",
    "# [,1] [,2] [,3]\n",
    "# [1,]   10   13   16\n",
    "# [2,]   11   14   17\n",
    "# [3,]   12   15   18\n",
    "# \n",
    "# > "
   ]
  },
  {
   "cell_type": "code",
   "execution_count": 50,
   "metadata": {},
   "outputs": [
    {
     "data": {
      "text/html": [
       "<ol class=list-inline>\n",
       "\t<li>1</li>\n",
       "\t<li>2</li>\n",
       "\t<li>3</li>\n",
       "\t<li>4</li>\n",
       "\t<li>5</li>\n",
       "\t<li>6</li>\n",
       "\t<li>7</li>\n",
       "\t<li>8</li>\n",
       "\t<li>9</li>\n",
       "\t<li>10</li>\n",
       "\t<li>11</li>\n",
       "\t<li>12</li>\n",
       "\t<li>13</li>\n",
       "\t<li>14</li>\n",
       "\t<li>15</li>\n",
       "\t<li>16</li>\n",
       "\t<li>17</li>\n",
       "\t<li>18</li>\n",
       "</ol>\n"
      ],
      "text/latex": [
       "\\begin{enumerate*}\n",
       "\\item 1\n",
       "\\item 2\n",
       "\\item 3\n",
       "\\item 4\n",
       "\\item 5\n",
       "\\item 6\n",
       "\\item 7\n",
       "\\item 8\n",
       "\\item 9\n",
       "\\item 10\n",
       "\\item 11\n",
       "\\item 12\n",
       "\\item 13\n",
       "\\item 14\n",
       "\\item 15\n",
       "\\item 16\n",
       "\\item 17\n",
       "\\item 18\n",
       "\\end{enumerate*}\n"
      ],
      "text/markdown": [
       "1. 1\n",
       "2. 2\n",
       "3. 3\n",
       "4. 4\n",
       "5. 5\n",
       "6. 6\n",
       "7. 7\n",
       "8. 8\n",
       "9. 9\n",
       "10. 10\n",
       "11. 11\n",
       "12. 12\n",
       "13. 13\n",
       "14. 14\n",
       "15. 15\n",
       "16. 16\n",
       "17. 17\n",
       "18. 18\n",
       "\n",
       "\n"
      ],
      "text/plain": [
       ", , 1\n",
       "\n",
       "     [,1] [,2] [,3]\n",
       "[1,]    1    4    7\n",
       "[2,]    2    5    8\n",
       "[3,]    3    6    9\n",
       "\n",
       ", , 2\n",
       "\n",
       "     [,1] [,2] [,3]\n",
       "[1,]   10   13   16\n",
       "[2,]   11   14   17\n",
       "[3,]   12   15   18\n"
      ]
     },
     "metadata": {},
     "output_type": "display_data"
    }
   ],
   "source": [
    "# 我們也可以用 array() 函式直接產生高維陣列 (張量)，如\n",
    "array(1:18, dim = c(3,3,2))\n",
    "\n",
    "# > t = array(1:18, dim = c(3,3,2))\n",
    "# > t\n",
    "# , , 1\n",
    "# \n",
    "# [,1] [,2] [,3]\n",
    "# [1,]    1    4    7\n",
    "# [2,]    2    5    8\n",
    "# [3,]    3    6    9\n",
    "# \n",
    "# , , 2\n",
    "# \n",
    "# [,1] [,2] [,3]\n",
    "# [1,]   10   13   16\n",
    "# [2,]   11   14   17\n",
    "# [3,]   12   15   18"
   ]
  },
  {
   "cell_type": "code",
   "execution_count": null,
   "metadata": {},
   "outputs": [],
   "source": [
    "# 不過 jupyter notebook 並未實作張量的顯示，需要使用 R 或 RStudio 才能看到差別"
   ]
  },
  {
   "cell_type": "code",
   "execution_count": 51,
   "metadata": {},
   "outputs": [
    {
     "data": {
      "text/html": [
       "<table>\n",
       "<tbody>\n",
       "\t<tr><td>1 </td><td>4 </td><td>7 </td><td>10</td><td>13</td><td>16</td></tr>\n",
       "\t<tr><td>2 </td><td>5 </td><td>8 </td><td>11</td><td>14</td><td>17</td></tr>\n",
       "\t<tr><td>3 </td><td>6 </td><td>9 </td><td>12</td><td>15</td><td>18</td></tr>\n",
       "</tbody>\n",
       "</table>\n"
      ],
      "text/latex": [
       "\\begin{tabular}{llllll}\n",
       "\t 1  & 4  & 7  & 10 & 13 & 16\\\\\n",
       "\t 2  & 5  & 8  & 11 & 14 & 17\\\\\n",
       "\t 3  & 6  & 9  & 12 & 15 & 18\\\\\n",
       "\\end{tabular}\n"
      ],
      "text/markdown": [
       "\n",
       "| 1  | 4  | 7  | 10 | 13 | 16 |\n",
       "| 2  | 5  | 8  | 11 | 14 | 17 |\n",
       "| 3  | 6  | 9  | 12 | 15 | 18 |\n",
       "\n"
      ],
      "text/plain": [
       "     [,1] [,2] [,3] [,4] [,5] [,6]\n",
       "[1,] 1    4    7    10   13   16  \n",
       "[2,] 2    5    8    11   14   17  \n",
       "[3,] 3    6    9    12   15   18  "
      ]
     },
     "metadata": {},
     "output_type": "display_data"
    },
    {
     "data": {
      "text/html": [
       "1"
      ],
      "text/latex": [
       "1"
      ],
      "text/markdown": [
       "1"
      ],
      "text/plain": [
       "[1] 1"
      ]
     },
     "metadata": {},
     "output_type": "display_data"
    },
    {
     "data": {
      "text/html": [
       "2"
      ],
      "text/latex": [
       "2"
      ],
      "text/markdown": [
       "2"
      ],
      "text/plain": [
       "[1] 2"
      ]
     },
     "metadata": {},
     "output_type": "display_data"
    },
    {
     "data": {
      "text/html": [
       "3"
      ],
      "text/latex": [
       "3"
      ],
      "text/markdown": [
       "3"
      ],
      "text/plain": [
       "[1] 3"
      ]
     },
     "metadata": {},
     "output_type": "display_data"
    },
    {
     "data": {
      "text/html": [
       "4"
      ],
      "text/latex": [
       "4"
      ],
      "text/markdown": [
       "4"
      ],
      "text/plain": [
       "[1] 4"
      ]
     },
     "metadata": {},
     "output_type": "display_data"
    }
   ],
   "source": [
    "# 在R 中，矩陣的資料順序是：c(m[1,1], m[2,1], m[3,1], ...)\n",
    "# 也就是說，如果我們下指令：matrix(1:18, 3, 6)， 則 m[1,1]會是 1, m[2,1]會是2, m[3,1]是3, m[1,2]是4, 以此類推。\n",
    "m <- matrix(1:18, 3 , 6)\n",
    "m\n",
    "m[1,1]\n",
    "m[2,1]\n",
    "m[3,1]\n",
    "m[1,2]"
   ]
  },
  {
   "cell_type": "code",
   "execution_count": 55,
   "metadata": {},
   "outputs": [
    {
     "name": "stdout",
     "output_type": "stream",
     "text": [
      "m"
     ]
    },
    {
     "data": {
      "text/html": [
       "<table>\n",
       "<tbody>\n",
       "\t<tr><td>1 </td><td>4 </td><td>7 </td><td>10</td><td>13</td><td>16</td></tr>\n",
       "\t<tr><td>2 </td><td>5 </td><td>8 </td><td>11</td><td>14</td><td>17</td></tr>\n",
       "\t<tr><td>3 </td><td>6 </td><td>9 </td><td>12</td><td>15</td><td>18</td></tr>\n",
       "</tbody>\n",
       "</table>\n"
      ],
      "text/latex": [
       "\\begin{tabular}{llllll}\n",
       "\t 1  & 4  & 7  & 10 & 13 & 16\\\\\n",
       "\t 2  & 5  & 8  & 11 & 14 & 17\\\\\n",
       "\t 3  & 6  & 9  & 12 & 15 & 18\\\\\n",
       "\\end{tabular}\n"
      ],
      "text/markdown": [
       "\n",
       "| 1  | 4  | 7  | 10 | 13 | 16 |\n",
       "| 2  | 5  | 8  | 11 | 14 | 17 |\n",
       "| 3  | 6  | 9  | 12 | 15 | 18 |\n",
       "\n"
      ],
      "text/plain": [
       "     [,1] [,2] [,3] [,4] [,5] [,6]\n",
       "[1,] 1    4    7    10   13   16  \n",
       "[2,] 2    5    8    11   14   17  \n",
       "[3,] 3    6    9    12   15   18  "
      ]
     },
     "metadata": {},
     "output_type": "display_data"
    },
    {
     "name": "stdout",
     "output_type": "stream",
     "text": [
      "m2"
     ]
    },
    {
     "data": {
      "text/html": [
       "<table>\n",
       "<tbody>\n",
       "\t<tr><td> 1</td><td> 2</td><td> 3</td><td> 4</td><td> 5</td><td> 6</td></tr>\n",
       "\t<tr><td> 7</td><td> 8</td><td> 9</td><td>10</td><td>11</td><td>12</td></tr>\n",
       "\t<tr><td>13</td><td>14</td><td>15</td><td>16</td><td>17</td><td>18</td></tr>\n",
       "</tbody>\n",
       "</table>\n"
      ],
      "text/latex": [
       "\\begin{tabular}{llllll}\n",
       "\t  1 &  2 &  3 &  4 &  5 &  6\\\\\n",
       "\t  7 &  8 &  9 & 10 & 11 & 12\\\\\n",
       "\t 13 & 14 & 15 & 16 & 17 & 18\\\\\n",
       "\\end{tabular}\n"
      ],
      "text/markdown": [
       "\n",
       "|  1 |  2 |  3 |  4 |  5 |  6 |\n",
       "|  7 |  8 |  9 | 10 | 11 | 12 |\n",
       "| 13 | 14 | 15 | 16 | 17 | 18 |\n",
       "\n"
      ],
      "text/plain": [
       "     [,1] [,2] [,3] [,4] [,5] [,6]\n",
       "[1,]  1    2    3    4    5    6  \n",
       "[2,]  7    8    9   10   11   12  \n",
       "[3,] 13   14   15   16   17   18  "
      ]
     },
     "metadata": {},
     "output_type": "display_data"
    }
   ],
   "source": [
    "# 但是我們也可以嘗試不同的建立方式，如：\n",
    "m2 <- matrix(1:18, 3 , 6, byrow = T)\n",
    "\n",
    "# 請重複前一個 cell 的觀察步驟，觀察 m2 與 m 有什麼不同\n",
    "\n",
    "\n",
    "\n",
    "# From previous cell\n",
    "m <- matrix(1:18, 3 , 6)\n",
    "\n",
    "\n",
    "cat(\"m\")\n",
    "m\n",
    "\n",
    "cat(\"m2\")\n",
    "m2"
   ]
  },
  {
   "cell_type": "code",
   "execution_count": 61,
   "metadata": {},
   "outputs": [
    {
     "data": {
      "text/html": [
       "<ol class=list-inline>\n",
       "\t<li>1</li>\n",
       "\t<li>4</li>\n",
       "\t<li>7</li>\n",
       "\t<li>10</li>\n",
       "\t<li>13</li>\n",
       "\t<li>16</li>\n",
       "</ol>\n"
      ],
      "text/latex": [
       "\\begin{enumerate*}\n",
       "\\item 1\n",
       "\\item 4\n",
       "\\item 7\n",
       "\\item 10\n",
       "\\item 13\n",
       "\\item 16\n",
       "\\end{enumerate*}\n"
      ],
      "text/markdown": [
       "1. 1\n",
       "2. 4\n",
       "3. 7\n",
       "4. 10\n",
       "5. 13\n",
       "6. 16\n",
       "\n",
       "\n"
      ],
      "text/plain": [
       "[1]  1  4  7 10 13 16"
      ]
     },
     "metadata": {},
     "output_type": "display_data"
    },
    {
     "data": {
      "text/html": [
       "<ol class=list-inline>\n",
       "\t<li>4</li>\n",
       "\t<li>5</li>\n",
       "\t<li>6</li>\n",
       "</ol>\n"
      ],
      "text/latex": [
       "\\begin{enumerate*}\n",
       "\\item 4\n",
       "\\item 5\n",
       "\\item 6\n",
       "\\end{enumerate*}\n"
      ],
      "text/markdown": [
       "1. 4\n",
       "2. 5\n",
       "3. 6\n",
       "\n",
       "\n"
      ],
      "text/plain": [
       "[1] 4 5 6"
      ]
     },
     "metadata": {},
     "output_type": "display_data"
    },
    {
     "data": {
      "text/html": [
       "<table>\n",
       "<tbody>\n",
       "\t<tr><td>1 </td><td>4 </td><td>7 </td><td>10</td><td>13</td><td>16</td></tr>\n",
       "\t<tr><td>2 </td><td>5 </td><td>8 </td><td>11</td><td>14</td><td>17</td></tr>\n",
       "\t<tr><td>3 </td><td>6 </td><td>9 </td><td>12</td><td>15</td><td>18</td></tr>\n",
       "</tbody>\n",
       "</table>\n"
      ],
      "text/latex": [
       "\\begin{tabular}{llllll}\n",
       "\t 1  & 4  & 7  & 10 & 13 & 16\\\\\n",
       "\t 2  & 5  & 8  & 11 & 14 & 17\\\\\n",
       "\t 3  & 6  & 9  & 12 & 15 & 18\\\\\n",
       "\\end{tabular}\n"
      ],
      "text/markdown": [
       "\n",
       "| 1  | 4  | 7  | 10 | 13 | 16 |\n",
       "| 2  | 5  | 8  | 11 | 14 | 17 |\n",
       "| 3  | 6  | 9  | 12 | 15 | 18 |\n",
       "\n"
      ],
      "text/plain": [
       "     [,1] [,2] [,3] [,4] [,5] [,6]\n",
       "[1,] 1    4    7    10   13   16  \n",
       "[2,] 2    5    8    11   14   17  \n",
       "[3,] 3    6    9    12   15   18  "
      ]
     },
     "metadata": {},
     "output_type": "display_data"
    },
    {
     "data": {
      "text/html": [
       "'matrix'"
      ],
      "text/latex": [
       "'matrix'"
      ],
      "text/markdown": [
       "'matrix'"
      ],
      "text/plain": [
       "[1] \"matrix\""
      ]
     },
     "metadata": {},
     "output_type": "display_data"
    },
    {
     "data": {
      "text/html": [
       "'integer'"
      ],
      "text/latex": [
       "'integer'"
      ],
      "text/markdown": [
       "'integer'"
      ],
      "text/plain": [
       "[1] \"integer\""
      ]
     },
     "metadata": {},
     "output_type": "display_data"
    },
    {
     "data": {
      "text/html": [
       "'integer'"
      ],
      "text/latex": [
       "'integer'"
      ],
      "text/markdown": [
       "'integer'"
      ],
      "text/plain": [
       "[1] \"integer\""
      ]
     },
     "metadata": {},
     "output_type": "display_data"
    },
    {
     "data": {
      "text/html": [
       "'matrix'"
      ],
      "text/latex": [
       "'matrix'"
      ],
      "text/markdown": [
       "'matrix'"
      ],
      "text/plain": [
       "[1] \"matrix\""
      ]
     },
     "metadata": {},
     "output_type": "display_data"
    }
   ],
   "source": [
    "# 在矩陣的存取介面中 m[i, j] 代表要取出矩陣 m 第 i 列 第 j 欄(行) 的元素\n",
    "# 如若 i 或 j 並未指定數值，則將取出整列 (欄、行) 的元素，如\n",
    "m[1,]\n",
    "m[,2]\n",
    "m[,]\n",
    "\n",
    "# 請觀察上述輸出的 class，有什麼不同？\n",
    "\n",
    "class(m)     # matrix\n",
    "class(m[1,]) # integer\n",
    "class(m[,2]) # integer\n",
    "class(m[,])  # matrix"
   ]
  },
  {
   "cell_type": "code",
   "execution_count": null,
   "metadata": {},
   "outputs": [],
   "source": [
    "# R 語言預設會根據輸出的維度來調整輸出資料的型態\n",
    "# 但是在資料整理時，如此作法有時候會帶來一些困擾\n",
    "# 實務上可以增加一個 drop 參數，來避免這樣的問題，如\n",
    "m[1,,drop = FALSE]\n",
    "\n",
    "# 試觀察上述資料的類別，有什麼變化？"
   ]
  },
  {
   "cell_type": "markdown",
   "metadata": {},
   "source": [
    "接著，我們要介紹一個在R 中很有名的物件。這個物件的設計，完全滿足了近代對結構化資料分析的需求。\n",
    "\n",
    "包含 Apache Spark、Python 的 pandas 套件都有受到這個設計的影響\n",
    "\n",
    "這個物件就是R 的data.frame。\n",
    "\n",
    "vector/matrix/tensor 源於線性代數的數值計算，有同質性的限制，也就是其中所有的元素都必須是同樣的型態\n",
    "\n",
    "這在資料分析上並不實際，因為一般分析的資料，通常並不會全部都是相同的資料型態\n",
    "\n",
    "在結構化的資料中，通常資料是以表格的形式，而各欄位會有自己的型態，例如是：數值型態、類別型態等等。\n",
    "\n",
    "R 的data.frame就是要表現出二維表格特性的物件\n",
    "\n",
    "首先，data.frame是一種list。因為表格的各欄是型態不一的向量，所以我們需要用list來裝不同型態的向量。\n",
    "\n",
    "第二，因為表格的資料是結構化的，所以data.frame存放的值會有格式上的限制\n",
    "\n",
    "具體來說，data.frame的各個元素必須是以下幾種類型之一：\n",
    "\n",
    "數值(numeric)、字串(character)、布林(logical)、類別(factor)、數值矩陣(numeric matrix)、 list或data.frame。\n",
    "\n",
    "最重要的是，因為data.frame代表的是二維表格，所以每一個值的長度須一致\n",
    "\n",
    "(若為矩陣或data.frame，則是列 (row) 的數量需一致)，此特性可以在整理資料時提供很大的幫助。"
   ]
  },
  {
   "cell_type": "code",
   "execution_count": 64,
   "metadata": {},
   "outputs": [
    {
     "data": {
      "text/html": [
       "<table>\n",
       "<thead><tr><th scope=col>class</th><th scope=col>id</th><th scope=col>homeworks.1</th><th scope=col>homeworks.2</th></tr></thead>\n",
       "<tbody>\n",
       "\t<tr><td>Data Mining</td><td> 1         </td><td>88         </td><td>69         </td></tr>\n",
       "\t<tr><td>Data Mining</td><td> 2         </td><td>60         </td><td>75         </td></tr>\n",
       "\t<tr><td>Data Mining</td><td> 3         </td><td>82         </td><td>73         </td></tr>\n",
       "\t<tr><td>Data Mining</td><td> 4         </td><td>70         </td><td>67         </td></tr>\n",
       "\t<tr><td>Data Mining</td><td> 5         </td><td>80         </td><td>72         </td></tr>\n",
       "\t<tr><td>Data Mining</td><td> 6         </td><td>71         </td><td>96         </td></tr>\n",
       "\t<tr><td>Data Mining</td><td> 7         </td><td>69         </td><td>63         </td></tr>\n",
       "\t<tr><td>Data Mining</td><td> 8         </td><td>65         </td><td>86         </td></tr>\n",
       "\t<tr><td>Data Mining</td><td> 9         </td><td>54         </td><td>62         </td></tr>\n",
       "\t<tr><td>Data Mining</td><td>10         </td><td>89         </td><td>63         </td></tr>\n",
       "</tbody>\n",
       "</table>\n"
      ],
      "text/latex": [
       "\\begin{tabular}{r|llll}\n",
       " class & id & homeworks.1 & homeworks.2\\\\\n",
       "\\hline\n",
       "\t Data Mining &  1          & 88          & 69         \\\\\n",
       "\t Data Mining &  2          & 60          & 75         \\\\\n",
       "\t Data Mining &  3          & 82          & 73         \\\\\n",
       "\t Data Mining &  4          & 70          & 67         \\\\\n",
       "\t Data Mining &  5          & 80          & 72         \\\\\n",
       "\t Data Mining &  6          & 71          & 96         \\\\\n",
       "\t Data Mining &  7          & 69          & 63         \\\\\n",
       "\t Data Mining &  8          & 65          & 86         \\\\\n",
       "\t Data Mining &  9          & 54          & 62         \\\\\n",
       "\t Data Mining & 10          & 89          & 63         \\\\\n",
       "\\end{tabular}\n"
      ],
      "text/markdown": [
       "\n",
       "| class | id | homeworks.1 | homeworks.2 |\n",
       "|---|---|---|---|\n",
       "| Data Mining |  1          | 88          | 69          |\n",
       "| Data Mining |  2          | 60          | 75          |\n",
       "| Data Mining |  3          | 82          | 73          |\n",
       "| Data Mining |  4          | 70          | 67          |\n",
       "| Data Mining |  5          | 80          | 72          |\n",
       "| Data Mining |  6          | 71          | 96          |\n",
       "| Data Mining |  7          | 69          | 63          |\n",
       "| Data Mining |  8          | 65          | 86          |\n",
       "| Data Mining |  9          | 54          | 62          |\n",
       "| Data Mining | 10          | 89          | 63          |\n",
       "\n"
      ],
      "text/plain": [
       "   class       id homeworks.1 homeworks.2\n",
       "1  Data Mining  1 88          69         \n",
       "2  Data Mining  2 60          75         \n",
       "3  Data Mining  3 82          73         \n",
       "4  Data Mining  4 70          67         \n",
       "5  Data Mining  5 80          72         \n",
       "6  Data Mining  6 71          96         \n",
       "7  Data Mining  7 69          63         \n",
       "8  Data Mining  8 65          86         \n",
       "9  Data Mining  9 54          62         \n",
       "10 Data Mining 10 89          63         "
      ]
     },
     "metadata": {},
     "output_type": "display_data"
    }
   ],
   "source": [
    "# 在R 之中，可以使用 data.frame() 函式來建立一個data.frame\n",
    "# 如 data.frame(class = \"Data Mining\", id = 1:10, homeworks = matrix(floor(rnorm(20, 75, 10)), nrow=10, ncol=2)) \n",
    "# 並且將此 data.frame 存到變數 df\n",
    "df <- data.frame(\n",
    "    class = \"Data Mining\",\n",
    "    id = 1:10,\n",
    "    homeworks = matrix(\n",
    "        floor(rnorm(20, 75, 10)),\n",
    "        nrow=10,\n",
    "        ncol=2\n",
    "    )\n",
    ") \n",
    "df"
   ]
  },
  {
   "cell_type": "code",
   "execution_count": null,
   "metadata": {},
   "outputs": [],
   "source": [
    "# 請以 str() 觀察 df，有什麼發現？"
   ]
  },
  {
   "cell_type": "code",
   "execution_count": 76,
   "metadata": {},
   "outputs": [
    {
     "data": {
      "text/html": [
       "<ol class=list-inline>\n",
       "\t<li>Data Mining</li>\n",
       "\t<li>Data Mining</li>\n",
       "\t<li>Data Mining</li>\n",
       "\t<li>Data Mining</li>\n",
       "\t<li>Data Mining</li>\n",
       "\t<li>Data Mining</li>\n",
       "\t<li>Data Mining</li>\n",
       "\t<li>Data Mining</li>\n",
       "\t<li>Data Mining</li>\n",
       "\t<li>Data Mining</li>\n",
       "</ol>\n",
       "\n",
       "<details>\n",
       "\t<summary style=display:list-item;cursor:pointer>\n",
       "\t\t<strong>Levels</strong>:\n",
       "\t</summary>\n",
       "\t'Data Mining'\n",
       "</details>"
      ],
      "text/latex": [
       "\\begin{enumerate*}\n",
       "\\item Data Mining\n",
       "\\item Data Mining\n",
       "\\item Data Mining\n",
       "\\item Data Mining\n",
       "\\item Data Mining\n",
       "\\item Data Mining\n",
       "\\item Data Mining\n",
       "\\item Data Mining\n",
       "\\item Data Mining\n",
       "\\item Data Mining\n",
       "\\end{enumerate*}\n",
       "\n",
       "\\emph{Levels}: 'Data Mining'"
      ],
      "text/markdown": [
       "1. Data Mining\n",
       "2. Data Mining\n",
       "3. Data Mining\n",
       "4. Data Mining\n",
       "5. Data Mining\n",
       "6. Data Mining\n",
       "7. Data Mining\n",
       "8. Data Mining\n",
       "9. Data Mining\n",
       "10. Data Mining\n",
       "\n",
       "\n",
       "\n",
       "**Levels**: 'Data Mining'"
      ],
      "text/plain": [
       " [1] Data Mining Data Mining Data Mining Data Mining Data Mining Data Mining\n",
       " [7] Data Mining Data Mining Data Mining Data Mining\n",
       "Levels: Data Mining"
      ]
     },
     "metadata": {},
     "output_type": "display_data"
    },
    {
     "data": {
      "text/html": [
       "1"
      ],
      "text/latex": [
       "1"
      ],
      "text/markdown": [
       "1"
      ],
      "text/plain": [
       "[1] 1"
      ]
     },
     "metadata": {},
     "output_type": "display_data"
    },
    {
     "data": {
      "text/html": [
       "1"
      ],
      "text/latex": [
       "1"
      ],
      "text/markdown": [
       "1"
      ],
      "text/plain": [
       "[1] 1"
      ]
     },
     "metadata": {},
     "output_type": "display_data"
    },
    {
     "data": {
      "text/html": [
       "1"
      ],
      "text/latex": [
       "1"
      ],
      "text/markdown": [
       "1"
      ],
      "text/plain": [
       "[1] 1"
      ]
     },
     "metadata": {},
     "output_type": "display_data"
    },
    {
     "data": {
      "text/html": [
       "1"
      ],
      "text/latex": [
       "1"
      ],
      "text/markdown": [
       "1"
      ],
      "text/plain": [
       "[1] 1"
      ]
     },
     "metadata": {},
     "output_type": "display_data"
    },
    {
     "data": {
      "text/html": [
       "1"
      ],
      "text/latex": [
       "1"
      ],
      "text/markdown": [
       "1"
      ],
      "text/plain": [
       "[1] 1"
      ]
     },
     "metadata": {},
     "output_type": "display_data"
    }
   ],
   "source": [
    "# data.frame 同時兼容 list 與 matrix 的存取機制\n",
    "# 根據上述的說法以及觀察的結論，假如我想要取出 df 的第 1 欄 (行) 有哪些寫法？\n",
    "\n",
    "# ^ Get \"Data Mining\"\n",
    "# df[,1]\n",
    "# df[, \"class\"]\n",
    "# df[[1]]\n",
    "# df[[\"class\"]]\n",
    "df$class\n",
    "\n",
    "# 又假如我想要取得第一列第二欄的資料又有什麼寫法？\n",
    "df[1,2] # First id (1)\n",
    "df[1, \"id\"]\n",
    "df[[2]][1]\n",
    "df[[\"id\"]][1]\n",
    "df$id[1]\n",
    "\n",
    "\n",
    "# 此外，假如我想要取得 scores.1 及格的學生的 id 又應該如何做？"
   ]
  },
  {
   "cell_type": "code",
   "execution_count": 77,
   "metadata": {
    "scrolled": false
   },
   "outputs": [
    {
     "data": {
      "text/html": [
       "<ol class=list-inline>\n",
       "\t<li>'class'</li>\n",
       "\t<li>'id'</li>\n",
       "\t<li>'homeworks.1'</li>\n",
       "\t<li>'homeworks.2'</li>\n",
       "</ol>\n"
      ],
      "text/latex": [
       "\\begin{enumerate*}\n",
       "\\item 'class'\n",
       "\\item 'id'\n",
       "\\item 'homeworks.1'\n",
       "\\item 'homeworks.2'\n",
       "\\end{enumerate*}\n"
      ],
      "text/markdown": [
       "1. 'class'\n",
       "2. 'id'\n",
       "3. 'homeworks.1'\n",
       "4. 'homeworks.2'\n",
       "\n",
       "\n"
      ],
      "text/plain": [
       "[1] \"class\"       \"id\"          \"homeworks.1\" \"homeworks.2\""
      ]
     },
     "metadata": {},
     "output_type": "display_data"
    },
    {
     "data": {
      "text/html": [
       "<ol class=list-inline>\n",
       "\t<li>'class'</li>\n",
       "\t<li>'id'</li>\n",
       "\t<li>'homeworks.1'</li>\n",
       "\t<li>'homeworks.2'</li>\n",
       "</ol>\n"
      ],
      "text/latex": [
       "\\begin{enumerate*}\n",
       "\\item 'class'\n",
       "\\item 'id'\n",
       "\\item 'homeworks.1'\n",
       "\\item 'homeworks.2'\n",
       "\\end{enumerate*}\n"
      ],
      "text/markdown": [
       "1. 'class'\n",
       "2. 'id'\n",
       "3. 'homeworks.1'\n",
       "4. 'homeworks.2'\n",
       "\n",
       "\n"
      ],
      "text/plain": [
       "[1] \"class\"       \"id\"          \"homeworks.1\" \"homeworks.2\""
      ]
     },
     "metadata": {},
     "output_type": "display_data"
    }
   ],
   "source": [
    "# colnames() 函式可以取得 data.frame 的欄位名稱\n",
    "colnames(df)\n",
    "\n",
    "# 但同時，names() 似乎也有相同的作用，這是為什麼呢？\n",
    "names(df)\n",
    "\n",
    "\n",
    "# colnames() can be used for getting & setting\n",
    "# colnames(df) <- c(.......)"
   ]
  },
  {
   "cell_type": "code",
   "execution_count": 81,
   "metadata": {},
   "outputs": [
    {
     "data": {
      "text/html": [
       "<dl class=dl-horizontal>\n",
       "\t<dt>a</dt>\n",
       "\t\t<dd>1</dd>\n",
       "\t<dt>b</dt>\n",
       "\t\t<dd>2</dd>\n",
       "\t<dt>c</dt>\n",
       "\t\t<dd>3</dd>\n",
       "\t<dt>d</dt>\n",
       "\t\t<dd>4</dd>\n",
       "\t<dt>e</dt>\n",
       "\t\t<dd>5</dd>\n",
       "</dl>\n"
      ],
      "text/latex": [
       "\\begin{description*}\n",
       "\\item[a] 1\n",
       "\\item[b] 2\n",
       "\\item[c] 3\n",
       "\\item[d] 4\n",
       "\\item[e] 5\n",
       "\\end{description*}\n"
      ],
      "text/markdown": [
       "a\n",
       ":   1b\n",
       ":   2c\n",
       ":   3d\n",
       ":   4e\n",
       ":   5\n",
       "\n"
      ],
      "text/plain": [
       "a b c d e \n",
       "1 2 3 4 5 "
      ]
     },
     "metadata": {},
     "output_type": "display_data"
    },
    {
     "data": {
      "text/html": [
       "<ol class=list-inline>\n",
       "\t<li>'a'</li>\n",
       "\t<li>'b'</li>\n",
       "\t<li>'c'</li>\n",
       "\t<li>'d'</li>\n",
       "\t<li>'e'</li>\n",
       "</ol>\n"
      ],
      "text/latex": [
       "\\begin{enumerate*}\n",
       "\\item 'a'\n",
       "\\item 'b'\n",
       "\\item 'c'\n",
       "\\item 'd'\n",
       "\\item 'e'\n",
       "\\end{enumerate*}\n"
      ],
      "text/markdown": [
       "1. 'a'\n",
       "2. 'b'\n",
       "3. 'c'\n",
       "4. 'd'\n",
       "5. 'e'\n",
       "\n",
       "\n"
      ],
      "text/plain": [
       "[1] \"a\" \"b\" \"c\" \"d\" \"e\""
      ]
     },
     "metadata": {},
     "output_type": "display_data"
    },
    {
     "data": {
      "text/plain": [
       "NULL"
      ]
     },
     "metadata": {},
     "output_type": "display_data"
    }
   ],
   "source": [
    "# 向量用colnames()係冇用\n",
    "\n",
    "a <- 1:5\n",
    "names(a) <- c(\"a\", \"b\", \"c\", \"d\", \"e\")\n",
    "\n",
    "a\n",
    "names(a)\n",
    "colnames(a)"
   ]
  },
  {
   "cell_type": "code",
   "execution_count": 88,
   "metadata": {},
   "outputs": [
    {
     "data": {
      "text/html": [
       "<table>\n",
       "<thead><tr><th scope=col>class</th><th scope=col>id</th><th scope=col>homeworks.1</th><th scope=col>homeworks.2</th><th scope=col>report</th><th scope=col>report3</th></tr></thead>\n",
       "<tbody>\n",
       "\t<tr><td>Data Mining</td><td> 1         </td><td>88         </td><td>69         </td><td>68         </td><td>67         </td></tr>\n",
       "\t<tr><td>Data Mining</td><td> 2         </td><td>60         </td><td>75         </td><td>62         </td><td>58         </td></tr>\n",
       "\t<tr><td>Data Mining</td><td> 3         </td><td>82         </td><td>73         </td><td>64         </td><td>67         </td></tr>\n",
       "\t<tr><td>Data Mining</td><td> 4         </td><td>70         </td><td>67         </td><td>56         </td><td>58         </td></tr>\n",
       "\t<tr><td>Data Mining</td><td> 5         </td><td>80         </td><td>72         </td><td>43         </td><td>67         </td></tr>\n",
       "\t<tr><td>Data Mining</td><td> 6         </td><td>71         </td><td>96         </td><td>52         </td><td>58         </td></tr>\n",
       "\t<tr><td>Data Mining</td><td> 7         </td><td>69         </td><td>63         </td><td>76         </td><td>67         </td></tr>\n",
       "\t<tr><td>Data Mining</td><td> 8         </td><td>65         </td><td>86         </td><td>64         </td><td>58         </td></tr>\n",
       "\t<tr><td>Data Mining</td><td> 9         </td><td>54         </td><td>62         </td><td>65         </td><td>67         </td></tr>\n",
       "\t<tr><td>Data Mining</td><td>10         </td><td>89         </td><td>63         </td><td>72         </td><td>58         </td></tr>\n",
       "</tbody>\n",
       "</table>\n"
      ],
      "text/latex": [
       "\\begin{tabular}{r|llllll}\n",
       " class & id & homeworks.1 & homeworks.2 & report & report3\\\\\n",
       "\\hline\n",
       "\t Data Mining &  1          & 88          & 69          & 68          & 67         \\\\\n",
       "\t Data Mining &  2          & 60          & 75          & 62          & 58         \\\\\n",
       "\t Data Mining &  3          & 82          & 73          & 64          & 67         \\\\\n",
       "\t Data Mining &  4          & 70          & 67          & 56          & 58         \\\\\n",
       "\t Data Mining &  5          & 80          & 72          & 43          & 67         \\\\\n",
       "\t Data Mining &  6          & 71          & 96          & 52          & 58         \\\\\n",
       "\t Data Mining &  7          & 69          & 63          & 76          & 67         \\\\\n",
       "\t Data Mining &  8          & 65          & 86          & 64          & 58         \\\\\n",
       "\t Data Mining &  9          & 54          & 62          & 65          & 67         \\\\\n",
       "\t Data Mining & 10          & 89          & 63          & 72          & 58         \\\\\n",
       "\\end{tabular}\n"
      ],
      "text/markdown": [
       "\n",
       "| class | id | homeworks.1 | homeworks.2 | report | report3 |\n",
       "|---|---|---|---|---|---|\n",
       "| Data Mining |  1          | 88          | 69          | 68          | 67          |\n",
       "| Data Mining |  2          | 60          | 75          | 62          | 58          |\n",
       "| Data Mining |  3          | 82          | 73          | 64          | 67          |\n",
       "| Data Mining |  4          | 70          | 67          | 56          | 58          |\n",
       "| Data Mining |  5          | 80          | 72          | 43          | 67          |\n",
       "| Data Mining |  6          | 71          | 96          | 52          | 58          |\n",
       "| Data Mining |  7          | 69          | 63          | 76          | 67          |\n",
       "| Data Mining |  8          | 65          | 86          | 64          | 58          |\n",
       "| Data Mining |  9          | 54          | 62          | 65          | 67          |\n",
       "| Data Mining | 10          | 89          | 63          | 72          | 58          |\n",
       "\n"
      ],
      "text/plain": [
       "   class       id homeworks.1 homeworks.2 report report3\n",
       "1  Data Mining  1 88          69          68     67     \n",
       "2  Data Mining  2 60          75          62     58     \n",
       "3  Data Mining  3 82          73          64     67     \n",
       "4  Data Mining  4 70          67          56     58     \n",
       "5  Data Mining  5 80          72          43     67     \n",
       "6  Data Mining  6 71          96          52     58     \n",
       "7  Data Mining  7 69          63          76     67     \n",
       "8  Data Mining  8 65          86          64     58     \n",
       "9  Data Mining  9 54          62          65     67     \n",
       "10 Data Mining 10 89          63          72     58     "
      ]
     },
     "metadata": {},
     "output_type": "display_data"
    },
    {
     "data": {
      "text/html": [
       "<table>\n",
       "<thead><tr><th scope=col>class</th><th scope=col>id</th><th scope=col>homeworks.1</th><th scope=col>homeworks.2</th><th scope=col>report</th><th scope=col>report3</th><th scope=col>report2</th></tr></thead>\n",
       "<tbody>\n",
       "\t<tr><td>Data Mining</td><td> 1         </td><td>88         </td><td>69         </td><td>68         </td><td>36         </td><td>51         </td></tr>\n",
       "\t<tr><td>Data Mining</td><td> 2         </td><td>60         </td><td>75         </td><td>62         </td><td>49         </td><td>54         </td></tr>\n",
       "\t<tr><td>Data Mining</td><td> 3         </td><td>82         </td><td>73         </td><td>64         </td><td>36         </td><td>51         </td></tr>\n",
       "\t<tr><td>Data Mining</td><td> 4         </td><td>70         </td><td>67         </td><td>56         </td><td>49         </td><td>54         </td></tr>\n",
       "\t<tr><td>Data Mining</td><td> 5         </td><td>80         </td><td>72         </td><td>43         </td><td>36         </td><td>51         </td></tr>\n",
       "\t<tr><td>Data Mining</td><td> 6         </td><td>71         </td><td>96         </td><td>52         </td><td>49         </td><td>54         </td></tr>\n",
       "\t<tr><td>Data Mining</td><td> 7         </td><td>69         </td><td>63         </td><td>76         </td><td>36         </td><td>51         </td></tr>\n",
       "\t<tr><td>Data Mining</td><td> 8         </td><td>65         </td><td>86         </td><td>64         </td><td>49         </td><td>54         </td></tr>\n",
       "\t<tr><td>Data Mining</td><td> 9         </td><td>54         </td><td>62         </td><td>65         </td><td>36         </td><td>51         </td></tr>\n",
       "\t<tr><td>Data Mining</td><td>10         </td><td>89         </td><td>63         </td><td>72         </td><td>49         </td><td>54         </td></tr>\n",
       "</tbody>\n",
       "</table>\n"
      ],
      "text/latex": [
       "\\begin{tabular}{r|lllllll}\n",
       " class & id & homeworks.1 & homeworks.2 & report & report3 & report2\\\\\n",
       "\\hline\n",
       "\t Data Mining &  1          & 88          & 69          & 68          & 36          & 51         \\\\\n",
       "\t Data Mining &  2          & 60          & 75          & 62          & 49          & 54         \\\\\n",
       "\t Data Mining &  3          & 82          & 73          & 64          & 36          & 51         \\\\\n",
       "\t Data Mining &  4          & 70          & 67          & 56          & 49          & 54         \\\\\n",
       "\t Data Mining &  5          & 80          & 72          & 43          & 36          & 51         \\\\\n",
       "\t Data Mining &  6          & 71          & 96          & 52          & 49          & 54         \\\\\n",
       "\t Data Mining &  7          & 69          & 63          & 76          & 36          & 51         \\\\\n",
       "\t Data Mining &  8          & 65          & 86          & 64          & 49          & 54         \\\\\n",
       "\t Data Mining &  9          & 54          & 62          & 65          & 36          & 51         \\\\\n",
       "\t Data Mining & 10          & 89          & 63          & 72          & 49          & 54         \\\\\n",
       "\\end{tabular}\n"
      ],
      "text/markdown": [
       "\n",
       "| class | id | homeworks.1 | homeworks.2 | report | report3 | report2 |\n",
       "|---|---|---|---|---|---|---|\n",
       "| Data Mining |  1          | 88          | 69          | 68          | 36          | 51          |\n",
       "| Data Mining |  2          | 60          | 75          | 62          | 49          | 54          |\n",
       "| Data Mining |  3          | 82          | 73          | 64          | 36          | 51          |\n",
       "| Data Mining |  4          | 70          | 67          | 56          | 49          | 54          |\n",
       "| Data Mining |  5          | 80          | 72          | 43          | 36          | 51          |\n",
       "| Data Mining |  6          | 71          | 96          | 52          | 49          | 54          |\n",
       "| Data Mining |  7          | 69          | 63          | 76          | 36          | 51          |\n",
       "| Data Mining |  8          | 65          | 86          | 64          | 49          | 54          |\n",
       "| Data Mining |  9          | 54          | 62          | 65          | 36          | 51          |\n",
       "| Data Mining | 10          | 89          | 63          | 72          | 49          | 54          |\n",
       "\n"
      ],
      "text/plain": [
       "   class       id homeworks.1 homeworks.2 report report3 report2\n",
       "1  Data Mining  1 88          69          68     36      51     \n",
       "2  Data Mining  2 60          75          62     49      54     \n",
       "3  Data Mining  3 82          73          64     36      51     \n",
       "4  Data Mining  4 70          67          56     49      54     \n",
       "5  Data Mining  5 80          72          43     36      51     \n",
       "6  Data Mining  6 71          96          52     49      54     \n",
       "7  Data Mining  7 69          63          76     36      51     \n",
       "8  Data Mining  8 65          86          64     49      54     \n",
       "9  Data Mining  9 54          62          65     36      51     \n",
       "10 Data Mining 10 89          63          72     49      54     "
      ]
     },
     "metadata": {},
     "output_type": "display_data"
    }
   ],
   "source": [
    "# *新增一個欄位*\n",
    "\n",
    "# 由於 data.frame 具有 list 的特性，所以假如要新增一個欄位也是十分容易的，如\n",
    "df$report = floor(rnorm(10, 60, 10))\n",
    "df\n",
    "\n",
    "# 假如輸入的資料數量與 data.frame 的 dimension 不合會怎樣呢？\n",
    "df$report2 = floor(rnorm(2, 60, 10))\n",
    "df$report3 = floor(rnorm(2, 60, 10))\n",
    "df\n",
    "\n",
    "# The dimension has to be the same\n",
    "# Since its treated like matrix"
   ]
  },
  {
   "cell_type": "markdown",
   "metadata": {},
   "source": [
    "練習一: 以 iris 資料表練習 data.frame 的存取"
   ]
  },
  {
   "cell_type": "code",
   "execution_count": 124,
   "metadata": {
    "scrolled": true
   },
   "outputs": [
    {
     "data": {
      "text/html": [
       "150"
      ],
      "text/latex": [
       "150"
      ],
      "text/markdown": [
       "150"
      ],
      "text/plain": [
       "[1] 150"
      ]
     },
     "metadata": {},
     "output_type": "display_data"
    },
    {
     "data": {
      "text/html": [
       "5"
      ],
      "text/latex": [
       "5"
      ],
      "text/markdown": [
       "5"
      ],
      "text/plain": [
       "[1] 5"
      ]
     },
     "metadata": {},
     "output_type": "display_data"
    },
    {
     "data": {
      "text/html": [
       "50"
      ],
      "text/latex": [
       "50"
      ],
      "text/markdown": [
       "50"
      ],
      "text/plain": [
       "[1] 50"
      ]
     },
     "metadata": {},
     "output_type": "display_data"
    },
    {
     "data": {
      "text/html": [
       "5.006"
      ],
      "text/latex": [
       "5.006"
      ],
      "text/markdown": [
       "5.006"
      ],
      "text/plain": [
       "[1] 5.006"
      ]
     },
     "metadata": {},
     "output_type": "display_data"
    },
    {
     "data": {
      "text/html": [
       "1.462"
      ],
      "text/latex": [
       "1.462"
      ],
      "text/markdown": [
       "1.462"
      ],
      "text/plain": [
       "[1] 1.462"
      ]
     },
     "metadata": {},
     "output_type": "display_data"
    },
    {
     "data": {
      "text/html": [
       "5.936"
      ],
      "text/latex": [
       "5.936"
      ],
      "text/markdown": [
       "5.936"
      ],
      "text/plain": [
       "[1] 5.936"
      ]
     },
     "metadata": {},
     "output_type": "display_data"
    },
    {
     "data": {
      "text/html": [
       "4.26"
      ],
      "text/latex": [
       "4.26"
      ],
      "text/markdown": [
       "4.26"
      ],
      "text/plain": [
       "[1] 4.26"
      ]
     },
     "metadata": {},
     "output_type": "display_data"
    },
    {
     "data": {
      "text/html": [
       "6.588"
      ],
      "text/latex": [
       "6.588"
      ],
      "text/markdown": [
       "6.588"
      ],
      "text/plain": [
       "[1] 6.588"
      ]
     },
     "metadata": {},
     "output_type": "display_data"
    },
    {
     "data": {
      "text/html": [
       "5.552"
      ],
      "text/latex": [
       "5.552"
      ],
      "text/markdown": [
       "5.552"
      ],
      "text/plain": [
       "[1] 5.552"
      ]
     },
     "metadata": {},
     "output_type": "display_data"
    },
    {
     "data": {
      "text/html": [
       "22"
      ],
      "text/latex": [
       "22"
      ],
      "text/markdown": [
       "22"
      ],
      "text/plain": [
       "[1] 22"
      ]
     },
     "metadata": {},
     "output_type": "display_data"
    },
    {
     "data": {
      "text/html": [
       "47"
      ],
      "text/latex": [
       "47"
      ],
      "text/markdown": [
       "47"
      ],
      "text/plain": [
       "[1] 47"
      ]
     },
     "metadata": {},
     "output_type": "display_data"
    },
    {
     "data": {
      "text/html": [
       "49"
      ],
      "text/latex": [
       "49"
      ],
      "text/markdown": [
       "49"
      ],
      "text/plain": [
       "[1] 49"
      ]
     },
     "metadata": {},
     "output_type": "display_data"
    }
   ],
   "source": [
    "# 請練習以 data.frame 的存取方式 回答下列問題\n",
    "\n",
    "# iris\n",
    "\n",
    "# iris 資料表共有幾筆資料？\n",
    "length(iris[,5])\n",
    "# nrow(iris)\n",
    "\n",
    "# iris 資料表中個樣本記載了幾種不同的屬性？\n",
    "length(iris[1,])\n",
    "\n",
    "# iris 資料表中，有幾筆樣本其品種為 setosa\n",
    "length(iris[,5][iris[,5] == \"setosa\"])\n",
    "# sum(iris$Species == \"setosa\")\n",
    "\n",
    "# 分別計算各品種之其花瓣與花萼長度的平均數值，你發現了什麼？\n",
    "\n",
    "# 花瓣 Petal\n",
    "# 花萼 Sepal\n",
    "\n",
    "\n",
    "mean(iris[,1][iris[,5] == \"setosa\"]) # Sepal.Length\n",
    "mean(iris[,3][iris[,5] == \"setosa\"]) # Petal.Length\n",
    "\n",
    "mean(iris[,1][iris[,5] == \"versicolor\"]) # Sepal.Length\n",
    "mean(iris[,3][iris[,5] == \"versicolor\"]) # Petal.Length\n",
    "\n",
    "mean(iris[,1][iris[,5] == \"virginica\"]) # Sepal.Length\n",
    "mean(iris[,3][iris[,5] == \"virginica\"]) # Petal.Length\n",
    "\n",
    "# Another way\n",
    "# with(iris, mean(Petal.Length[Species == \"setosa\"]))\n",
    "\n",
    "\n",
    "# 各品種中，花萼長度超過 5 cm 的樣本各有幾株？\n",
    "sum(iris$Sepal.Length[iris$Species == \"setosa\"] > 5)\n",
    "sum(iris$Sepal.Length[iris$Species == \"versicolor\"] > 5)\n",
    "sum(iris$Sepal.Length[iris$Species == \"virginica\"] > 5)\n",
    "\n",
    "# versicolor 品種的樣本中，其花萼長度大於 virginica 品種之平均花萼長度 的樣本有幾株？\n",
    "# 在 iris 資料表中新增一個欄位記載各樣本花瓣與花萼的總長\n",
    "# iris 資料表中，花辦與花萼之總長最長的一株樣本，是什麼品種的？\n",
    "# 資料集中，各品種花瓣與花萼之長度總和的平均各為多少？"
   ]
  },
  {
   "cell_type": "code",
   "execution_count": 115,
   "metadata": {
    "collapsed": true
   },
   "outputs": [
    {
     "data": {
      "text/html": [
       "<table>\n",
       "<thead><tr><th scope=col>Sepal.Length</th><th scope=col>Sepal.Width</th><th scope=col>Petal.Length</th><th scope=col>Petal.Width</th><th scope=col>Species</th></tr></thead>\n",
       "<tbody>\n",
       "\t<tr><td>5.1   </td><td>3.5   </td><td>1.4   </td><td>0.2   </td><td>setosa</td></tr>\n",
       "\t<tr><td>4.9   </td><td>3.0   </td><td>1.4   </td><td>0.2   </td><td>setosa</td></tr>\n",
       "\t<tr><td>4.7   </td><td>3.2   </td><td>1.3   </td><td>0.2   </td><td>setosa</td></tr>\n",
       "\t<tr><td>4.6   </td><td>3.1   </td><td>1.5   </td><td>0.2   </td><td>setosa</td></tr>\n",
       "\t<tr><td>5.0   </td><td>3.6   </td><td>1.4   </td><td>0.2   </td><td>setosa</td></tr>\n",
       "\t<tr><td>5.4   </td><td>3.9   </td><td>1.7   </td><td>0.4   </td><td>setosa</td></tr>\n",
       "\t<tr><td>4.6   </td><td>3.4   </td><td>1.4   </td><td>0.3   </td><td>setosa</td></tr>\n",
       "\t<tr><td>5.0   </td><td>3.4   </td><td>1.5   </td><td>0.2   </td><td>setosa</td></tr>\n",
       "\t<tr><td>4.4   </td><td>2.9   </td><td>1.4   </td><td>0.2   </td><td>setosa</td></tr>\n",
       "\t<tr><td>4.9   </td><td>3.1   </td><td>1.5   </td><td>0.1   </td><td>setosa</td></tr>\n",
       "\t<tr><td>5.4   </td><td>3.7   </td><td>1.5   </td><td>0.2   </td><td>setosa</td></tr>\n",
       "\t<tr><td>4.8   </td><td>3.4   </td><td>1.6   </td><td>0.2   </td><td>setosa</td></tr>\n",
       "\t<tr><td>4.8   </td><td>3.0   </td><td>1.4   </td><td>0.1   </td><td>setosa</td></tr>\n",
       "\t<tr><td>4.3   </td><td>3.0   </td><td>1.1   </td><td>0.1   </td><td>setosa</td></tr>\n",
       "\t<tr><td>5.8   </td><td>4.0   </td><td>1.2   </td><td>0.2   </td><td>setosa</td></tr>\n",
       "\t<tr><td>5.7   </td><td>4.4   </td><td>1.5   </td><td>0.4   </td><td>setosa</td></tr>\n",
       "\t<tr><td>5.4   </td><td>3.9   </td><td>1.3   </td><td>0.4   </td><td>setosa</td></tr>\n",
       "\t<tr><td>5.1   </td><td>3.5   </td><td>1.4   </td><td>0.3   </td><td>setosa</td></tr>\n",
       "\t<tr><td>5.7   </td><td>3.8   </td><td>1.7   </td><td>0.3   </td><td>setosa</td></tr>\n",
       "\t<tr><td>5.1   </td><td>3.8   </td><td>1.5   </td><td>0.3   </td><td>setosa</td></tr>\n",
       "\t<tr><td>5.4   </td><td>3.4   </td><td>1.7   </td><td>0.2   </td><td>setosa</td></tr>\n",
       "\t<tr><td>5.1   </td><td>3.7   </td><td>1.5   </td><td>0.4   </td><td>setosa</td></tr>\n",
       "\t<tr><td>4.6   </td><td>3.6   </td><td>1.0   </td><td>0.2   </td><td>setosa</td></tr>\n",
       "\t<tr><td>5.1   </td><td>3.3   </td><td>1.7   </td><td>0.5   </td><td>setosa</td></tr>\n",
       "\t<tr><td>4.8   </td><td>3.4   </td><td>1.9   </td><td>0.2   </td><td>setosa</td></tr>\n",
       "\t<tr><td>5.0   </td><td>3.0   </td><td>1.6   </td><td>0.2   </td><td>setosa</td></tr>\n",
       "\t<tr><td>5.0   </td><td>3.4   </td><td>1.6   </td><td>0.4   </td><td>setosa</td></tr>\n",
       "\t<tr><td>5.2   </td><td>3.5   </td><td>1.5   </td><td>0.2   </td><td>setosa</td></tr>\n",
       "\t<tr><td>5.2   </td><td>3.4   </td><td>1.4   </td><td>0.2   </td><td>setosa</td></tr>\n",
       "\t<tr><td>4.7   </td><td>3.2   </td><td>1.6   </td><td>0.2   </td><td>setosa</td></tr>\n",
       "\t<tr><td>...</td><td>...</td><td>...</td><td>...</td><td>...</td></tr>\n",
       "\t<tr><td>6.9      </td><td>3.2      </td><td>5.7      </td><td>2.3      </td><td>virginica</td></tr>\n",
       "\t<tr><td>5.6      </td><td>2.8      </td><td>4.9      </td><td>2.0      </td><td>virginica</td></tr>\n",
       "\t<tr><td>7.7      </td><td>2.8      </td><td>6.7      </td><td>2.0      </td><td>virginica</td></tr>\n",
       "\t<tr><td>6.3      </td><td>2.7      </td><td>4.9      </td><td>1.8      </td><td>virginica</td></tr>\n",
       "\t<tr><td>6.7      </td><td>3.3      </td><td>5.7      </td><td>2.1      </td><td>virginica</td></tr>\n",
       "\t<tr><td>7.2      </td><td>3.2      </td><td>6.0      </td><td>1.8      </td><td>virginica</td></tr>\n",
       "\t<tr><td>6.2      </td><td>2.8      </td><td>4.8      </td><td>1.8      </td><td>virginica</td></tr>\n",
       "\t<tr><td>6.1      </td><td>3.0      </td><td>4.9      </td><td>1.8      </td><td>virginica</td></tr>\n",
       "\t<tr><td>6.4      </td><td>2.8      </td><td>5.6      </td><td>2.1      </td><td>virginica</td></tr>\n",
       "\t<tr><td>7.2      </td><td>3.0      </td><td>5.8      </td><td>1.6      </td><td>virginica</td></tr>\n",
       "\t<tr><td>7.4      </td><td>2.8      </td><td>6.1      </td><td>1.9      </td><td>virginica</td></tr>\n",
       "\t<tr><td>7.9      </td><td>3.8      </td><td>6.4      </td><td>2.0      </td><td>virginica</td></tr>\n",
       "\t<tr><td>6.4      </td><td>2.8      </td><td>5.6      </td><td>2.2      </td><td>virginica</td></tr>\n",
       "\t<tr><td>6.3      </td><td>2.8      </td><td>5.1      </td><td>1.5      </td><td>virginica</td></tr>\n",
       "\t<tr><td>6.1      </td><td>2.6      </td><td>5.6      </td><td>1.4      </td><td>virginica</td></tr>\n",
       "\t<tr><td>7.7      </td><td>3.0      </td><td>6.1      </td><td>2.3      </td><td>virginica</td></tr>\n",
       "\t<tr><td>6.3      </td><td>3.4      </td><td>5.6      </td><td>2.4      </td><td>virginica</td></tr>\n",
       "\t<tr><td>6.4      </td><td>3.1      </td><td>5.5      </td><td>1.8      </td><td>virginica</td></tr>\n",
       "\t<tr><td>6.0      </td><td>3.0      </td><td>4.8      </td><td>1.8      </td><td>virginica</td></tr>\n",
       "\t<tr><td>6.9      </td><td>3.1      </td><td>5.4      </td><td>2.1      </td><td>virginica</td></tr>\n",
       "\t<tr><td>6.7      </td><td>3.1      </td><td>5.6      </td><td>2.4      </td><td>virginica</td></tr>\n",
       "\t<tr><td>6.9      </td><td>3.1      </td><td>5.1      </td><td>2.3      </td><td>virginica</td></tr>\n",
       "\t<tr><td>5.8      </td><td>2.7      </td><td>5.1      </td><td>1.9      </td><td>virginica</td></tr>\n",
       "\t<tr><td>6.8      </td><td>3.2      </td><td>5.9      </td><td>2.3      </td><td>virginica</td></tr>\n",
       "\t<tr><td>6.7      </td><td>3.3      </td><td>5.7      </td><td>2.5      </td><td>virginica</td></tr>\n",
       "\t<tr><td>6.7      </td><td>3.0      </td><td>5.2      </td><td>2.3      </td><td>virginica</td></tr>\n",
       "\t<tr><td>6.3      </td><td>2.5      </td><td>5.0      </td><td>1.9      </td><td>virginica</td></tr>\n",
       "\t<tr><td>6.5      </td><td>3.0      </td><td>5.2      </td><td>2.0      </td><td>virginica</td></tr>\n",
       "\t<tr><td>6.2      </td><td>3.4      </td><td>5.4      </td><td>2.3      </td><td>virginica</td></tr>\n",
       "\t<tr><td>5.9      </td><td>3.0      </td><td>5.1      </td><td>1.8      </td><td>virginica</td></tr>\n",
       "</tbody>\n",
       "</table>\n"
      ],
      "text/latex": [
       "\\begin{tabular}{r|lllll}\n",
       " Sepal.Length & Sepal.Width & Petal.Length & Petal.Width & Species\\\\\n",
       "\\hline\n",
       "\t 5.1    & 3.5    & 1.4    & 0.2    & setosa\\\\\n",
       "\t 4.9    & 3.0    & 1.4    & 0.2    & setosa\\\\\n",
       "\t 4.7    & 3.2    & 1.3    & 0.2    & setosa\\\\\n",
       "\t 4.6    & 3.1    & 1.5    & 0.2    & setosa\\\\\n",
       "\t 5.0    & 3.6    & 1.4    & 0.2    & setosa\\\\\n",
       "\t 5.4    & 3.9    & 1.7    & 0.4    & setosa\\\\\n",
       "\t 4.6    & 3.4    & 1.4    & 0.3    & setosa\\\\\n",
       "\t 5.0    & 3.4    & 1.5    & 0.2    & setosa\\\\\n",
       "\t 4.4    & 2.9    & 1.4    & 0.2    & setosa\\\\\n",
       "\t 4.9    & 3.1    & 1.5    & 0.1    & setosa\\\\\n",
       "\t 5.4    & 3.7    & 1.5    & 0.2    & setosa\\\\\n",
       "\t 4.8    & 3.4    & 1.6    & 0.2    & setosa\\\\\n",
       "\t 4.8    & 3.0    & 1.4    & 0.1    & setosa\\\\\n",
       "\t 4.3    & 3.0    & 1.1    & 0.1    & setosa\\\\\n",
       "\t 5.8    & 4.0    & 1.2    & 0.2    & setosa\\\\\n",
       "\t 5.7    & 4.4    & 1.5    & 0.4    & setosa\\\\\n",
       "\t 5.4    & 3.9    & 1.3    & 0.4    & setosa\\\\\n",
       "\t 5.1    & 3.5    & 1.4    & 0.3    & setosa\\\\\n",
       "\t 5.7    & 3.8    & 1.7    & 0.3    & setosa\\\\\n",
       "\t 5.1    & 3.8    & 1.5    & 0.3    & setosa\\\\\n",
       "\t 5.4    & 3.4    & 1.7    & 0.2    & setosa\\\\\n",
       "\t 5.1    & 3.7    & 1.5    & 0.4    & setosa\\\\\n",
       "\t 4.6    & 3.6    & 1.0    & 0.2    & setosa\\\\\n",
       "\t 5.1    & 3.3    & 1.7    & 0.5    & setosa\\\\\n",
       "\t 4.8    & 3.4    & 1.9    & 0.2    & setosa\\\\\n",
       "\t 5.0    & 3.0    & 1.6    & 0.2    & setosa\\\\\n",
       "\t 5.0    & 3.4    & 1.6    & 0.4    & setosa\\\\\n",
       "\t 5.2    & 3.5    & 1.5    & 0.2    & setosa\\\\\n",
       "\t 5.2    & 3.4    & 1.4    & 0.2    & setosa\\\\\n",
       "\t 4.7    & 3.2    & 1.6    & 0.2    & setosa\\\\\n",
       "\t ... & ... & ... & ... & ...\\\\\n",
       "\t 6.9       & 3.2       & 5.7       & 2.3       & virginica\\\\\n",
       "\t 5.6       & 2.8       & 4.9       & 2.0       & virginica\\\\\n",
       "\t 7.7       & 2.8       & 6.7       & 2.0       & virginica\\\\\n",
       "\t 6.3       & 2.7       & 4.9       & 1.8       & virginica\\\\\n",
       "\t 6.7       & 3.3       & 5.7       & 2.1       & virginica\\\\\n",
       "\t 7.2       & 3.2       & 6.0       & 1.8       & virginica\\\\\n",
       "\t 6.2       & 2.8       & 4.8       & 1.8       & virginica\\\\\n",
       "\t 6.1       & 3.0       & 4.9       & 1.8       & virginica\\\\\n",
       "\t 6.4       & 2.8       & 5.6       & 2.1       & virginica\\\\\n",
       "\t 7.2       & 3.0       & 5.8       & 1.6       & virginica\\\\\n",
       "\t 7.4       & 2.8       & 6.1       & 1.9       & virginica\\\\\n",
       "\t 7.9       & 3.8       & 6.4       & 2.0       & virginica\\\\\n",
       "\t 6.4       & 2.8       & 5.6       & 2.2       & virginica\\\\\n",
       "\t 6.3       & 2.8       & 5.1       & 1.5       & virginica\\\\\n",
       "\t 6.1       & 2.6       & 5.6       & 1.4       & virginica\\\\\n",
       "\t 7.7       & 3.0       & 6.1       & 2.3       & virginica\\\\\n",
       "\t 6.3       & 3.4       & 5.6       & 2.4       & virginica\\\\\n",
       "\t 6.4       & 3.1       & 5.5       & 1.8       & virginica\\\\\n",
       "\t 6.0       & 3.0       & 4.8       & 1.8       & virginica\\\\\n",
       "\t 6.9       & 3.1       & 5.4       & 2.1       & virginica\\\\\n",
       "\t 6.7       & 3.1       & 5.6       & 2.4       & virginica\\\\\n",
       "\t 6.9       & 3.1       & 5.1       & 2.3       & virginica\\\\\n",
       "\t 5.8       & 2.7       & 5.1       & 1.9       & virginica\\\\\n",
       "\t 6.8       & 3.2       & 5.9       & 2.3       & virginica\\\\\n",
       "\t 6.7       & 3.3       & 5.7       & 2.5       & virginica\\\\\n",
       "\t 6.7       & 3.0       & 5.2       & 2.3       & virginica\\\\\n",
       "\t 6.3       & 2.5       & 5.0       & 1.9       & virginica\\\\\n",
       "\t 6.5       & 3.0       & 5.2       & 2.0       & virginica\\\\\n",
       "\t 6.2       & 3.4       & 5.4       & 2.3       & virginica\\\\\n",
       "\t 5.9       & 3.0       & 5.1       & 1.8       & virginica\\\\\n",
       "\\end{tabular}\n"
      ],
      "text/markdown": [
       "\n",
       "| Sepal.Length | Sepal.Width | Petal.Length | Petal.Width | Species |\n",
       "|---|---|---|---|---|\n",
       "| 5.1    | 3.5    | 1.4    | 0.2    | setosa |\n",
       "| 4.9    | 3.0    | 1.4    | 0.2    | setosa |\n",
       "| 4.7    | 3.2    | 1.3    | 0.2    | setosa |\n",
       "| 4.6    | 3.1    | 1.5    | 0.2    | setosa |\n",
       "| 5.0    | 3.6    | 1.4    | 0.2    | setosa |\n",
       "| 5.4    | 3.9    | 1.7    | 0.4    | setosa |\n",
       "| 4.6    | 3.4    | 1.4    | 0.3    | setosa |\n",
       "| 5.0    | 3.4    | 1.5    | 0.2    | setosa |\n",
       "| 4.4    | 2.9    | 1.4    | 0.2    | setosa |\n",
       "| 4.9    | 3.1    | 1.5    | 0.1    | setosa |\n",
       "| 5.4    | 3.7    | 1.5    | 0.2    | setosa |\n",
       "| 4.8    | 3.4    | 1.6    | 0.2    | setosa |\n",
       "| 4.8    | 3.0    | 1.4    | 0.1    | setosa |\n",
       "| 4.3    | 3.0    | 1.1    | 0.1    | setosa |\n",
       "| 5.8    | 4.0    | 1.2    | 0.2    | setosa |\n",
       "| 5.7    | 4.4    | 1.5    | 0.4    | setosa |\n",
       "| 5.4    | 3.9    | 1.3    | 0.4    | setosa |\n",
       "| 5.1    | 3.5    | 1.4    | 0.3    | setosa |\n",
       "| 5.7    | 3.8    | 1.7    | 0.3    | setosa |\n",
       "| 5.1    | 3.8    | 1.5    | 0.3    | setosa |\n",
       "| 5.4    | 3.4    | 1.7    | 0.2    | setosa |\n",
       "| 5.1    | 3.7    | 1.5    | 0.4    | setosa |\n",
       "| 4.6    | 3.6    | 1.0    | 0.2    | setosa |\n",
       "| 5.1    | 3.3    | 1.7    | 0.5    | setosa |\n",
       "| 4.8    | 3.4    | 1.9    | 0.2    | setosa |\n",
       "| 5.0    | 3.0    | 1.6    | 0.2    | setosa |\n",
       "| 5.0    | 3.4    | 1.6    | 0.4    | setosa |\n",
       "| 5.2    | 3.5    | 1.5    | 0.2    | setosa |\n",
       "| 5.2    | 3.4    | 1.4    | 0.2    | setosa |\n",
       "| 4.7    | 3.2    | 1.6    | 0.2    | setosa |\n",
       "| ... | ... | ... | ... | ... |\n",
       "| 6.9       | 3.2       | 5.7       | 2.3       | virginica |\n",
       "| 5.6       | 2.8       | 4.9       | 2.0       | virginica |\n",
       "| 7.7       | 2.8       | 6.7       | 2.0       | virginica |\n",
       "| 6.3       | 2.7       | 4.9       | 1.8       | virginica |\n",
       "| 6.7       | 3.3       | 5.7       | 2.1       | virginica |\n",
       "| 7.2       | 3.2       | 6.0       | 1.8       | virginica |\n",
       "| 6.2       | 2.8       | 4.8       | 1.8       | virginica |\n",
       "| 6.1       | 3.0       | 4.9       | 1.8       | virginica |\n",
       "| 6.4       | 2.8       | 5.6       | 2.1       | virginica |\n",
       "| 7.2       | 3.0       | 5.8       | 1.6       | virginica |\n",
       "| 7.4       | 2.8       | 6.1       | 1.9       | virginica |\n",
       "| 7.9       | 3.8       | 6.4       | 2.0       | virginica |\n",
       "| 6.4       | 2.8       | 5.6       | 2.2       | virginica |\n",
       "| 6.3       | 2.8       | 5.1       | 1.5       | virginica |\n",
       "| 6.1       | 2.6       | 5.6       | 1.4       | virginica |\n",
       "| 7.7       | 3.0       | 6.1       | 2.3       | virginica |\n",
       "| 6.3       | 3.4       | 5.6       | 2.4       | virginica |\n",
       "| 6.4       | 3.1       | 5.5       | 1.8       | virginica |\n",
       "| 6.0       | 3.0       | 4.8       | 1.8       | virginica |\n",
       "| 6.9       | 3.1       | 5.4       | 2.1       | virginica |\n",
       "| 6.7       | 3.1       | 5.6       | 2.4       | virginica |\n",
       "| 6.9       | 3.1       | 5.1       | 2.3       | virginica |\n",
       "| 5.8       | 2.7       | 5.1       | 1.9       | virginica |\n",
       "| 6.8       | 3.2       | 5.9       | 2.3       | virginica |\n",
       "| 6.7       | 3.3       | 5.7       | 2.5       | virginica |\n",
       "| 6.7       | 3.0       | 5.2       | 2.3       | virginica |\n",
       "| 6.3       | 2.5       | 5.0       | 1.9       | virginica |\n",
       "| 6.5       | 3.0       | 5.2       | 2.0       | virginica |\n",
       "| 6.2       | 3.4       | 5.4       | 2.3       | virginica |\n",
       "| 5.9       | 3.0       | 5.1       | 1.8       | virginica |\n",
       "\n"
      ],
      "text/plain": [
       "    Sepal.Length Sepal.Width Petal.Length Petal.Width Species  \n",
       "1   5.1          3.5         1.4          0.2         setosa   \n",
       "2   4.9          3.0         1.4          0.2         setosa   \n",
       "3   4.7          3.2         1.3          0.2         setosa   \n",
       "4   4.6          3.1         1.5          0.2         setosa   \n",
       "5   5.0          3.6         1.4          0.2         setosa   \n",
       "6   5.4          3.9         1.7          0.4         setosa   \n",
       "7   4.6          3.4         1.4          0.3         setosa   \n",
       "8   5.0          3.4         1.5          0.2         setosa   \n",
       "9   4.4          2.9         1.4          0.2         setosa   \n",
       "10  4.9          3.1         1.5          0.1         setosa   \n",
       "11  5.4          3.7         1.5          0.2         setosa   \n",
       "12  4.8          3.4         1.6          0.2         setosa   \n",
       "13  4.8          3.0         1.4          0.1         setosa   \n",
       "14  4.3          3.0         1.1          0.1         setosa   \n",
       "15  5.8          4.0         1.2          0.2         setosa   \n",
       "16  5.7          4.4         1.5          0.4         setosa   \n",
       "17  5.4          3.9         1.3          0.4         setosa   \n",
       "18  5.1          3.5         1.4          0.3         setosa   \n",
       "19  5.7          3.8         1.7          0.3         setosa   \n",
       "20  5.1          3.8         1.5          0.3         setosa   \n",
       "21  5.4          3.4         1.7          0.2         setosa   \n",
       "22  5.1          3.7         1.5          0.4         setosa   \n",
       "23  4.6          3.6         1.0          0.2         setosa   \n",
       "24  5.1          3.3         1.7          0.5         setosa   \n",
       "25  4.8          3.4         1.9          0.2         setosa   \n",
       "26  5.0          3.0         1.6          0.2         setosa   \n",
       "27  5.0          3.4         1.6          0.4         setosa   \n",
       "28  5.2          3.5         1.5          0.2         setosa   \n",
       "29  5.2          3.4         1.4          0.2         setosa   \n",
       "30  4.7          3.2         1.6          0.2         setosa   \n",
       "... ...          ...         ...          ...         ...      \n",
       "121 6.9          3.2         5.7          2.3         virginica\n",
       "122 5.6          2.8         4.9          2.0         virginica\n",
       "123 7.7          2.8         6.7          2.0         virginica\n",
       "124 6.3          2.7         4.9          1.8         virginica\n",
       "125 6.7          3.3         5.7          2.1         virginica\n",
       "126 7.2          3.2         6.0          1.8         virginica\n",
       "127 6.2          2.8         4.8          1.8         virginica\n",
       "128 6.1          3.0         4.9          1.8         virginica\n",
       "129 6.4          2.8         5.6          2.1         virginica\n",
       "130 7.2          3.0         5.8          1.6         virginica\n",
       "131 7.4          2.8         6.1          1.9         virginica\n",
       "132 7.9          3.8         6.4          2.0         virginica\n",
       "133 6.4          2.8         5.6          2.2         virginica\n",
       "134 6.3          2.8         5.1          1.5         virginica\n",
       "135 6.1          2.6         5.6          1.4         virginica\n",
       "136 7.7          3.0         6.1          2.3         virginica\n",
       "137 6.3          3.4         5.6          2.4         virginica\n",
       "138 6.4          3.1         5.5          1.8         virginica\n",
       "139 6.0          3.0         4.8          1.8         virginica\n",
       "140 6.9          3.1         5.4          2.1         virginica\n",
       "141 6.7          3.1         5.6          2.4         virginica\n",
       "142 6.9          3.1         5.1          2.3         virginica\n",
       "143 5.8          2.7         5.1          1.9         virginica\n",
       "144 6.8          3.2         5.9          2.3         virginica\n",
       "145 6.7          3.3         5.7          2.5         virginica\n",
       "146 6.7          3.0         5.2          2.3         virginica\n",
       "147 6.3          2.5         5.0          1.9         virginica\n",
       "148 6.5          3.0         5.2          2.0         virginica\n",
       "149 6.2          3.4         5.4          2.3         virginica\n",
       "150 5.9          3.0         5.1          1.8         virginica"
      ]
     },
     "metadata": {},
     "output_type": "display_data"
    }
   ],
   "source": [
    "iris"
   ]
  },
  {
   "cell_type": "markdown",
   "metadata": {},
   "source": [
    "介紹過了 R 的幾種基本資料型態\n",
    "\n",
    "我們將以 matrix 與 data.frame 為基礎\n",
    "\n",
    "帶入部分在 R 中進行線性代數計算以及統計建模的概念\n",
    "\n",
    "但在此之前，我們先介紹在 R 之中進行矩陣運算的方法"
   ]
  },
  {
   "cell_type": "code",
   "execution_count": 8,
   "metadata": {},
   "outputs": [
    {
     "name": "stdout",
     "output_type": "stream",
     "text": [
      "a"
     ]
    },
    {
     "data": {
      "text/html": [
       "<table>\n",
       "<tbody>\n",
       "\t<tr><td>1</td><td>3</td><td>5</td></tr>\n",
       "\t<tr><td>2</td><td>4</td><td>6</td></tr>\n",
       "</tbody>\n",
       "</table>\n"
      ],
      "text/latex": [
       "\\begin{tabular}{lll}\n",
       "\t 1 & 3 & 5\\\\\n",
       "\t 2 & 4 & 6\\\\\n",
       "\\end{tabular}\n"
      ],
      "text/markdown": [
       "\n",
       "| 1 | 3 | 5 |\n",
       "| 2 | 4 | 6 |\n",
       "\n"
      ],
      "text/plain": [
       "     [,1] [,2] [,3]\n",
       "[1,] 1    3    5   \n",
       "[2,] 2    4    6   "
      ]
     },
     "metadata": {},
     "output_type": "display_data"
    },
    {
     "name": "stdout",
     "output_type": "stream",
     "text": [
      "b"
     ]
    },
    {
     "data": {
      "text/html": [
       "<table>\n",
       "<tbody>\n",
       "\t<tr><td>3</td><td>6</td></tr>\n",
       "\t<tr><td>4</td><td>7</td></tr>\n",
       "\t<tr><td>5</td><td>8</td></tr>\n",
       "</tbody>\n",
       "</table>\n"
      ],
      "text/latex": [
       "\\begin{tabular}{ll}\n",
       "\t 3 & 6\\\\\n",
       "\t 4 & 7\\\\\n",
       "\t 5 & 8\\\\\n",
       "\\end{tabular}\n"
      ],
      "text/markdown": [
       "\n",
       "| 3 | 6 |\n",
       "| 4 | 7 |\n",
       "| 5 | 8 |\n",
       "\n"
      ],
      "text/plain": [
       "     [,1] [,2]\n",
       "[1,] 3    6   \n",
       "[2,] 4    7   \n",
       "[3,] 5    8   "
      ]
     },
     "metadata": {},
     "output_type": "display_data"
    },
    {
     "name": "stdout",
     "output_type": "stream",
     "text": [
      "result"
     ]
    },
    {
     "data": {
      "text/html": [
       "<table>\n",
       "<tbody>\n",
       "\t<tr><td>40</td><td>67</td></tr>\n",
       "\t<tr><td>52</td><td>88</td></tr>\n",
       "</tbody>\n",
       "</table>\n"
      ],
      "text/latex": [
       "\\begin{tabular}{ll}\n",
       "\t 40 & 67\\\\\n",
       "\t 52 & 88\\\\\n",
       "\\end{tabular}\n"
      ],
      "text/markdown": [
       "\n",
       "| 40 | 67 |\n",
       "| 52 | 88 |\n",
       "\n"
      ],
      "text/plain": [
       "     [,1] [,2]\n",
       "[1,] 40   67  \n",
       "[2,] 52   88  "
      ]
     },
     "metadata": {},
     "output_type": "display_data"
    }
   ],
   "source": [
    "# 在R 中兩個矩陣要作矩陣乘法，就是使用 %*% 這個運算符號\n",
    "# 請各位試試看 matrix(1:6, 2, 3) %*% matrix(3:8, 3, 2) 會得到什麼\n",
    "a = matrix(1:6, 2, 3)\n",
    "b = matrix(3:8, 3, 2)\n",
    "\n",
    "cat(\"a\")\n",
    "a\n",
    "\n",
    "cat(\"b\")\n",
    "b\n",
    "\n",
    "cat(\"result\")\n",
    "a %*% b"
   ]
  },
  {
   "cell_type": "code",
   "execution_count": 14,
   "metadata": {},
   "outputs": [
    {
     "data": {
      "text/html": [
       "<table>\n",
       "<tbody>\n",
       "\t<tr><td>14</td></tr>\n",
       "</tbody>\n",
       "</table>\n"
      ],
      "text/latex": [
       "\\begin{tabular}{l}\n",
       "\t 14\\\\\n",
       "\\end{tabular}\n"
      ],
      "text/markdown": [
       "\n",
       "| 14 |\n",
       "\n"
      ],
      "text/plain": [
       "     [,1]\n",
       "[1,] 14  "
      ]
     },
     "metadata": {},
     "output_type": "display_data"
    },
    {
     "name": "stdout",
     "output_type": "stream",
     "text": [
      "-----"
     ]
    },
    {
     "data": {
      "text/html": [
       "<ol class=list-inline>\n",
       "\t<li>1</li>\n",
       "\t<li>2</li>\n",
       "\t<li>3</li>\n",
       "</ol>\n"
      ],
      "text/latex": [
       "\\begin{enumerate*}\n",
       "\\item 1\n",
       "\\item 2\n",
       "\\item 3\n",
       "\\end{enumerate*}\n"
      ],
      "text/markdown": [
       "1. 1\n",
       "2. 2\n",
       "3. 3\n",
       "\n",
       "\n"
      ],
      "text/plain": [
       "[1] 1 2 3"
      ]
     },
     "metadata": {},
     "output_type": "display_data"
    },
    {
     "data": {
      "text/html": [
       "'integer'"
      ],
      "text/latex": [
       "'integer'"
      ],
      "text/markdown": [
       "'integer'"
      ],
      "text/plain": [
       "[1] \"integer\""
      ]
     },
     "metadata": {},
     "output_type": "display_data"
    },
    {
     "data": {
      "text/html": [
       "<ol class=list-inline>\n",
       "\t<li>1</li>\n",
       "\t<li>2</li>\n",
       "\t<li>3</li>\n",
       "</ol>\n"
      ],
      "text/latex": [
       "\\begin{enumerate*}\n",
       "\\item 1\n",
       "\\item 2\n",
       "\\item 3\n",
       "\\end{enumerate*}\n"
      ],
      "text/markdown": [
       "1. 1\n",
       "2. 2\n",
       "3. 3\n",
       "\n",
       "\n"
      ],
      "text/plain": [
       "[1] 1 2 3"
      ]
     },
     "metadata": {},
     "output_type": "display_data"
    },
    {
     "data": {
      "text/html": [
       "'integer'"
      ],
      "text/latex": [
       "'integer'"
      ],
      "text/markdown": [
       "'integer'"
      ],
      "text/plain": [
       "[1] \"integer\""
      ]
     },
     "metadata": {},
     "output_type": "display_data"
    },
    {
     "data": {
      "text/html": [
       "<table>\n",
       "<tbody>\n",
       "\t<tr><td>14</td></tr>\n",
       "</tbody>\n",
       "</table>\n"
      ],
      "text/latex": [
       "\\begin{tabular}{l}\n",
       "\t 14\\\\\n",
       "\\end{tabular}\n"
      ],
      "text/markdown": [
       "\n",
       "| 14 |\n",
       "\n"
      ],
      "text/plain": [
       "     [,1]\n",
       "[1,] 14  "
      ]
     },
     "metadata": {},
     "output_type": "display_data"
    },
    {
     "data": {
      "text/html": [
       "'matrix'"
      ],
      "text/latex": [
       "'matrix'"
      ],
      "text/markdown": [
       "'matrix'"
      ],
      "text/plain": [
       "[1] \"matrix\""
      ]
     },
     "metadata": {},
     "output_type": "display_data"
    },
    {
     "data": {
      "text/html": [
       "<table>\n",
       "<tbody>\n",
       "\t<tr><td>14</td></tr>\n",
       "</tbody>\n",
       "</table>\n"
      ],
      "text/latex": [
       "\\begin{tabular}{l}\n",
       "\t 14\\\\\n",
       "\\end{tabular}\n"
      ],
      "text/markdown": [
       "\n",
       "| 14 |\n",
       "\n"
      ],
      "text/plain": [
       "     [,1]\n",
       "[1,] 14  "
      ]
     },
     "metadata": {},
     "output_type": "display_data"
    },
    {
     "data": {
      "text/html": [
       "'matrix'"
      ],
      "text/latex": [
       "'matrix'"
      ],
      "text/markdown": [
       "'matrix'"
      ],
      "text/plain": [
       "[1] \"matrix\""
      ]
     },
     "metadata": {},
     "output_type": "display_data"
    }
   ],
   "source": [
    "# 當兩個向量使用 %*% 做運算，會得到他們的內積\n",
    "# 請各位試試看 1:3 %*% 1:3 會得到什麼\n",
    "\n",
    "1:3 %*% 1:3\n",
    "cat(\"-----\")\n",
    "\n",
    "t1 = 1:3\n",
    "t2 = 1:3\n",
    "\n",
    "t1\n",
    "class(t1)\n",
    "\n",
    "t2\n",
    "class(t2)\n",
    "\n",
    "# ---\n",
    "\n",
    "result = t1 %*% t2\n",
    "result\n",
    "class(result)\n",
    "\n",
    "# ---\n",
    "\n",
    "r2 = c(1, 2, 3) %*% c(1, 2, 3)\n",
    "r2\n",
    "class(r2)"
   ]
  },
  {
   "cell_type": "code",
   "execution_count": 29,
   "metadata": {
    "scrolled": true
   },
   "outputs": [
    {
     "data": {
      "text/html": [
       "<table>\n",
       "<tbody>\n",
       "\t<tr><td>1</td><td>4</td><td>7</td></tr>\n",
       "\t<tr><td>2</td><td>5</td><td>8</td></tr>\n",
       "\t<tr><td>3</td><td>6</td><td>9</td></tr>\n",
       "</tbody>\n",
       "</table>\n"
      ],
      "text/latex": [
       "\\begin{tabular}{lll}\n",
       "\t 1 & 4 & 7\\\\\n",
       "\t 2 & 5 & 8\\\\\n",
       "\t 3 & 6 & 9\\\\\n",
       "\\end{tabular}\n"
      ],
      "text/markdown": [
       "\n",
       "| 1 | 4 | 7 |\n",
       "| 2 | 5 | 8 |\n",
       "| 3 | 6 | 9 |\n",
       "\n"
      ],
      "text/plain": [
       "     [,1] [,2] [,3]\n",
       "[1,] 1    4    7   \n",
       "[2,] 2    5    8   \n",
       "[3,] 3    6    9   "
      ]
     },
     "metadata": {},
     "output_type": "display_data"
    },
    {
     "data": {
      "text/html": [
       "<table>\n",
       "<tbody>\n",
       "\t<tr><td>30</td></tr>\n",
       "\t<tr><td>36</td></tr>\n",
       "\t<tr><td>42</td></tr>\n",
       "</tbody>\n",
       "</table>\n"
      ],
      "text/latex": [
       "\\begin{tabular}{l}\n",
       "\t 30\\\\\n",
       "\t 36\\\\\n",
       "\t 42\\\\\n",
       "\\end{tabular}\n"
      ],
      "text/markdown": [
       "\n",
       "| 30 |\n",
       "| 36 |\n",
       "| 42 |\n",
       "\n"
      ],
      "text/plain": [
       "     [,1]\n",
       "[1,] 30  \n",
       "[2,] 36  \n",
       "[3,] 42  "
      ]
     },
     "metadata": {},
     "output_type": "display_data"
    }
   ],
   "source": [
    "# 當矩陣乘向量的時候，單一向量會被視為行向量\n",
    "# 最後會得到矩陣每個列和單一向量的內積，形成一個新的行向量\n",
    "# 請各位嘗試 matrix(1:9,3,3) %*% 1:3\n",
    "\n",
    "# ?????? 5 get\n",
    "# Calculation, see: https://i.imgur.com/9n50o2w.png\n",
    "\n",
    "m = matrix(1:9,3,3)\n",
    "m\n",
    "\n",
    "m %*% 1:3\n",
    "\n",
    "# 1    1 2 3\n",
    "# 2 -> 1 2 3\n",
    "# 3    1 2 3"
   ]
  },
  {
   "cell_type": "code",
   "execution_count": 35,
   "metadata": {},
   "outputs": [
    {
     "data": {
      "text/html": [
       "<table>\n",
       "<tbody>\n",
       "\t<tr><td>1</td><td>4</td><td>7</td></tr>\n",
       "\t<tr><td>2</td><td>5</td><td>8</td></tr>\n",
       "\t<tr><td>3</td><td>6</td><td>9</td></tr>\n",
       "</tbody>\n",
       "</table>\n"
      ],
      "text/latex": [
       "\\begin{tabular}{lll}\n",
       "\t 1 & 4 & 7\\\\\n",
       "\t 2 & 5 & 8\\\\\n",
       "\t 3 & 6 & 9\\\\\n",
       "\\end{tabular}\n"
      ],
      "text/markdown": [
       "\n",
       "| 1 | 4 | 7 |\n",
       "| 2 | 5 | 8 |\n",
       "| 3 | 6 | 9 |\n",
       "\n"
      ],
      "text/plain": [
       "     [,1] [,2] [,3]\n",
       "[1,] 1    4    7   \n",
       "[2,] 2    5    8   \n",
       "[3,] 3    6    9   "
      ]
     },
     "metadata": {},
     "output_type": "display_data"
    },
    {
     "data": {
      "text/html": [
       "<table>\n",
       "<tbody>\n",
       "\t<tr><td>1 </td><td> 6</td><td>11</td></tr>\n",
       "\t<tr><td>2 </td><td> 7</td><td>12</td></tr>\n",
       "\t<tr><td>3 </td><td> 8</td><td>13</td></tr>\n",
       "\t<tr><td>4 </td><td> 9</td><td>14</td></tr>\n",
       "\t<tr><td>5 </td><td>10</td><td>15</td></tr>\n",
       "</tbody>\n",
       "</table>\n"
      ],
      "text/latex": [
       "\\begin{tabular}{lll}\n",
       "\t 1  &  6 & 11\\\\\n",
       "\t 2  &  7 & 12\\\\\n",
       "\t 3  &  8 & 13\\\\\n",
       "\t 4  &  9 & 14\\\\\n",
       "\t 5  & 10 & 15\\\\\n",
       "\\end{tabular}\n"
      ],
      "text/markdown": [
       "\n",
       "| 1  |  6 | 11 |\n",
       "| 2  |  7 | 12 |\n",
       "| 3  |  8 | 13 |\n",
       "| 4  |  9 | 14 |\n",
       "| 5  | 10 | 15 |\n",
       "\n"
      ],
      "text/plain": [
       "     [,1] [,2] [,3]\n",
       "[1,] 1     6   11  \n",
       "[2,] 2     7   12  \n",
       "[3,] 3     8   13  \n",
       "[4,] 4     9   14  \n",
       "[5,] 5    10   15  "
      ]
     },
     "metadata": {},
     "output_type": "display_data"
    },
    {
     "name": "stdout",
     "output_type": "stream",
     "text": [
      "result"
     ]
    },
    {
     "data": {
      "text/html": [
       "<table>\n",
       "<tbody>\n",
       "\t<tr><td>102</td><td>114</td><td>126</td><td>138</td><td>150</td></tr>\n",
       "\t<tr><td>120</td><td>135</td><td>150</td><td>165</td><td>180</td></tr>\n",
       "\t<tr><td>138</td><td>156</td><td>174</td><td>192</td><td>210</td></tr>\n",
       "</tbody>\n",
       "</table>\n"
      ],
      "text/latex": [
       "\\begin{tabular}{lllll}\n",
       "\t 102 & 114 & 126 & 138 & 150\\\\\n",
       "\t 120 & 135 & 150 & 165 & 180\\\\\n",
       "\t 138 & 156 & 174 & 192 & 210\\\\\n",
       "\\end{tabular}\n"
      ],
      "text/markdown": [
       "\n",
       "| 102 | 114 | 126 | 138 | 150 |\n",
       "| 120 | 135 | 150 | 165 | 180 |\n",
       "| 138 | 156 | 174 | 192 | 210 |\n",
       "\n"
      ],
      "text/plain": [
       "     [,1] [,2] [,3] [,4] [,5]\n",
       "[1,] 102  114  126  138  150 \n",
       "[2,] 120  135  150  165  180 \n",
       "[3,] 138  156  174  192  210 "
      ]
     },
     "metadata": {},
     "output_type": "display_data"
    },
    {
     "name": "stdout",
     "output_type": "stream",
     "text": [
      "t(b)"
     ]
    },
    {
     "data": {
      "text/html": [
       "<table>\n",
       "<tbody>\n",
       "\t<tr><td> 1</td><td> 2</td><td> 3</td><td> 4</td><td> 5</td></tr>\n",
       "\t<tr><td> 6</td><td> 7</td><td> 8</td><td> 9</td><td>10</td></tr>\n",
       "\t<tr><td>11</td><td>12</td><td>13</td><td>14</td><td>15</td></tr>\n",
       "</tbody>\n",
       "</table>\n"
      ],
      "text/latex": [
       "\\begin{tabular}{lllll}\n",
       "\t  1 &  2 &  3 &  4 &  5\\\\\n",
       "\t  6 &  7 &  8 &  9 & 10\\\\\n",
       "\t 11 & 12 & 13 & 14 & 15\\\\\n",
       "\\end{tabular}\n"
      ],
      "text/markdown": [
       "\n",
       "|  1 |  2 |  3 |  4 |  5 |\n",
       "|  6 |  7 |  8 |  9 | 10 |\n",
       "| 11 | 12 | 13 | 14 | 15 |\n",
       "\n"
      ],
      "text/plain": [
       "     [,1] [,2] [,3] [,4] [,5]\n",
       "[1,]  1    2    3    4    5  \n",
       "[2,]  6    7    8    9   10  \n",
       "[3,] 11   12   13   14   15  "
      ]
     },
     "metadata": {},
     "output_type": "display_data"
    }
   ],
   "source": [
    "# 矩陣乘法需要滿足維度相對應的限制 如\n",
    "# matrix(1:9, 3, 3) 與 matrix(1:15, 5, 3) 由於維度不對應，是無法相乘的\n",
    "# 這時候我們需要利用 t() 轉置後者，使得維度相對應\n",
    "# 請參閱 t() 的 help，完成上述矩陣的乘法\n",
    "\n",
    "# ERROR\n",
    "# matrix(1:9, 3, 3) %*% matrix(1:15, 5, 3)\n",
    "\n",
    "# nrow <- this has to be the same?\n",
    "a = matrix(1:9, 3, 3)\n",
    "b = matrix(1:15, 5, 3)\n",
    "\n",
    "a\n",
    "b\n",
    "\n",
    "cat(\"result\")\n",
    "a %*% t(b)\n",
    "\n",
    "cat(\"t(b)\")\n",
    "t(b)\n",
    "\n",
    "# help(matrix)"
   ]
  },
  {
   "cell_type": "code",
   "execution_count": 36,
   "metadata": {},
   "outputs": [
    {
     "data": {
      "text/html": [
       "<table>\n",
       "<tbody>\n",
       "\t<tr><td>1</td><td>0</td><td>0</td></tr>\n",
       "\t<tr><td>0</td><td>1</td><td>0</td></tr>\n",
       "\t<tr><td>0</td><td>0</td><td>1</td></tr>\n",
       "</tbody>\n",
       "</table>\n"
      ],
      "text/latex": [
       "\\begin{tabular}{lll}\n",
       "\t 1 & 0 & 0\\\\\n",
       "\t 0 & 1 & 0\\\\\n",
       "\t 0 & 0 & 1\\\\\n",
       "\\end{tabular}\n"
      ],
      "text/markdown": [
       "\n",
       "| 1 | 0 | 0 |\n",
       "| 0 | 1 | 0 |\n",
       "| 0 | 0 | 1 |\n",
       "\n"
      ],
      "text/plain": [
       "     [,1] [,2] [,3]\n",
       "[1,] 1    0    0   \n",
       "[2,] 0    1    0   \n",
       "[3,] 0    0    1   "
      ]
     },
     "metadata": {},
     "output_type": "display_data"
    }
   ],
   "source": [
    "# 我們可以用diag()快速建構對角化的矩陣\n",
    "# 舉例來說：diag(1, 3)會建立出3 乘3 的單位矩陣。請試試看。\n",
    "\n",
    "diag(1, 3)"
   ]
  },
  {
   "cell_type": "code",
   "execution_count": 39,
   "metadata": {},
   "outputs": [
    {
     "data": {
      "text/html": [
       "<ol class=list-inline>\n",
       "\t<li>6</li>\n",
       "\t<li>-1</li>\n",
       "</ol>\n"
      ],
      "text/latex": [
       "\\begin{enumerate*}\n",
       "\\item 6\n",
       "\\item -1\n",
       "\\end{enumerate*}\n"
      ],
      "text/markdown": [
       "1. 6\n",
       "2. -1\n",
       "\n",
       "\n"
      ],
      "text/plain": [
       "[1]  6 -1"
      ]
     },
     "metadata": {},
     "output_type": "display_data"
    }
   ],
   "source": [
    "# 如果已知A %*% x = b，給定A 和b ，我們就可以用solve 解出 x 。 \n",
    "# 舉例來說，若 A 是 matrix(1:4, 2, 2) 而 b 是c(3, 8)，solve(A, b) 即可以給出x。 \n",
    "A <- matrix(1:4, 2, 2)\n",
    "b <- c(3,8)\n",
    "\n",
    "# A * x = b\n",
    "# ^ solve() is for finding matrix (x)\n",
    "\n",
    "# 所以請同學直接解出 x 將其存到 變數 x 之中，並且實際驗算\n",
    "\n",
    "x = solve(A, b)\n",
    "x"
   ]
  },
  {
   "cell_type": "code",
   "execution_count": 41,
   "metadata": {},
   "outputs": [
    {
     "data": {
      "text/html": [
       "<table>\n",
       "<tbody>\n",
       "\t<tr><td>1</td><td>3</td></tr>\n",
       "\t<tr><td>2</td><td>4</td></tr>\n",
       "</tbody>\n",
       "</table>\n"
      ],
      "text/latex": [
       "\\begin{tabular}{ll}\n",
       "\t 1 & 3\\\\\n",
       "\t 2 & 4\\\\\n",
       "\\end{tabular}\n"
      ],
      "text/markdown": [
       "\n",
       "| 1 | 3 |\n",
       "| 2 | 4 |\n",
       "\n"
      ],
      "text/plain": [
       "     [,1] [,2]\n",
       "[1,] 1    3   \n",
       "[2,] 2    4   "
      ]
     },
     "metadata": {},
     "output_type": "display_data"
    },
    {
     "data": {
      "text/html": [
       "<table>\n",
       "<tbody>\n",
       "\t<tr><td>-2  </td><td> 1.5</td></tr>\n",
       "\t<tr><td> 1  </td><td>-0.5</td></tr>\n",
       "</tbody>\n",
       "</table>\n"
      ],
      "text/latex": [
       "\\begin{tabular}{ll}\n",
       "\t -2   &  1.5\\\\\n",
       "\t  1   & -0.5\\\\\n",
       "\\end{tabular}\n"
      ],
      "text/markdown": [
       "\n",
       "| -2   |  1.5 |\n",
       "|  1   | -0.5 |\n",
       "\n"
      ],
      "text/plain": [
       "     [,1] [,2]\n",
       "[1,] -2    1.5\n",
       "[2,]  1   -0.5"
      ]
     },
     "metadata": {},
     "output_type": "display_data"
    }
   ],
   "source": [
    "# 如果直接使用solve(A)，則 R 會算出A 的反矩陣\n",
    "# 矩陣反矩陣相承會變成單位矩陣，請各位同學嘗試之\n",
    "\n",
    "A\n",
    "solve(A) # Inverse matrix"
   ]
  },
  {
   "cell_type": "code",
   "execution_count": 48,
   "metadata": {},
   "outputs": [
    {
     "data": {
      "text/html": [
       "<table>\n",
       "<tbody>\n",
       "\t<tr><td>1</td><td>3</td></tr>\n",
       "\t<tr><td>2</td><td>4</td></tr>\n",
       "</tbody>\n",
       "</table>\n"
      ],
      "text/latex": [
       "\\begin{tabular}{ll}\n",
       "\t 1 & 3\\\\\n",
       "\t 2 & 4\\\\\n",
       "\\end{tabular}\n"
      ],
      "text/markdown": [
       "\n",
       "| 1 | 3 |\n",
       "| 2 | 4 |\n",
       "\n"
      ],
      "text/plain": [
       "     [,1] [,2]\n",
       "[1,] 1    3   \n",
       "[2,] 2    4   "
      ]
     },
     "metadata": {},
     "output_type": "display_data"
    },
    {
     "data": {
      "text/plain": [
       "eigen() decomposition\n",
       "$values\n",
       "[1]  5.3722813 -0.3722813\n",
       "\n",
       "$vectors\n",
       "           [,1]       [,2]\n",
       "[1,] -0.5657675 -0.9093767\n",
       "[2,] -0.8245648  0.4159736\n"
      ]
     },
     "metadata": {},
     "output_type": "display_data"
    },
    {
     "name": "stdout",
     "output_type": "stream",
     "text": [
      "---\n",
      "List of 2\n",
      " $ values : num [1:2] 5.372 -0.372\n",
      " $ vectors: num [1:2, 1:2] -0.566 -0.825 -0.909 0.416\n",
      " - attr(*, \"class\")= chr \"eigen\"\n"
     ]
    }
   ],
   "source": [
    "# 使用eigen(A)則可以解出 A 的特徵值(eigenvalues)和特徵向量(eigenvectors)\n",
    "# 請各位先以 str() 觀察 eigen(A) 的結構\n",
    "A\n",
    "eigen(A)\n",
    "cat(\"---\\n\")\n",
    "str(eigen(A))\n",
    "\n",
    "# 然後嘗試 (A %*% eigen(A)$vectors / eigen(A)$vectors)[1,] 是否與其 eigenvalues 相同呢？"
   ]
  },
  {
   "cell_type": "code",
   "execution_count": null,
   "metadata": {},
   "outputs": [],
   "source": []
  },
  {
   "cell_type": "markdown",
   "metadata": {},
   "source": [
    "練習二：手刻以最小方差法進行線性回歸"
   ]
  },
  {
   "cell_type": "code",
   "execution_count": 49,
   "metadata": {},
   "outputs": [
    {
     "data": {
      "text/html": [
       "<ol class=list-inline>\n",
       "\t<li>3.11832523467395</li>\n",
       "\t<li>2.40997893535043</li>\n",
       "\t<li>-1.89318396534257</li>\n",
       "\t<li>-6.75425072982409</li>\n",
       "\t<li>-8.62337438105149</li>\n",
       "\t<li>-6.70148664225538</li>\n",
       "\t<li>-3.67495762550921</li>\n",
       "\t<li>-3.24575953951946</li>\n",
       "\t<li>-6.72789051346045</li>\n",
       "\t<li>-11.8392907768243</li>\n",
       "</ol>\n"
      ],
      "text/latex": [
       "\\begin{enumerate*}\n",
       "\\item 3.11832523467395\n",
       "\\item 2.40997893535043\n",
       "\\item -1.89318396534257\n",
       "\\item -6.75425072982409\n",
       "\\item -8.62337438105149\n",
       "\\item -6.70148664225538\n",
       "\\item -3.67495762550921\n",
       "\\item -3.24575953951946\n",
       "\\item -6.72789051346045\n",
       "\\item -11.8392907768243\n",
       "\\end{enumerate*}\n"
      ],
      "text/markdown": [
       "1. 3.11832523467395\n",
       "2. 2.40997893535043\n",
       "3. -1.89318396534257\n",
       "4. -6.75425072982409\n",
       "5. -8.62337438105149\n",
       "6. -6.70148664225538\n",
       "7. -3.67495762550921\n",
       "8. -3.24575953951946\n",
       "9. -6.72789051346045\n",
       "10. -11.8392907768243\n",
       "\n",
       "\n"
      ],
      "text/plain": [
       " [1]   3.118325   2.409979  -1.893184  -6.754251  -8.623374  -6.701487\n",
       " [7]  -3.674958  -3.245760  -6.727891 -11.839291"
      ]
     },
     "metadata": {},
     "output_type": "display_data"
    },
    {
     "data": {
      "text/html": [
       "<ol class=list-inline>\n",
       "\t<li>1.87370508967136</li>\n",
       "\t<li>2.55615192280741</li>\n",
       "\t<li>-0.328915275274181</li>\n",
       "\t<li>-7.61117106887477</li>\n",
       "\t<li>-9.77614739058921</li>\n",
       "\t<li>-5.98356680965064</li>\n",
       "\t<li>-3.94558124082564</li>\n",
       "\t<li>-4.9085753197596</li>\n",
       "\t<li>-7.88346129807678</li>\n",
       "\t<li>-12.5695440317219</li>\n",
       "</ol>\n"
      ],
      "text/latex": [
       "\\begin{enumerate*}\n",
       "\\item 1.87370508967136\n",
       "\\item 2.55615192280741\n",
       "\\item -0.328915275274181\n",
       "\\item -7.61117106887477\n",
       "\\item -9.77614739058921\n",
       "\\item -5.98356680965064\n",
       "\\item -3.94558124082564\n",
       "\\item -4.9085753197596\n",
       "\\item -7.88346129807678\n",
       "\\item -12.5695440317219\n",
       "\\end{enumerate*}\n"
      ],
      "text/markdown": [
       "1. 1.87370508967136\n",
       "2. 2.55615192280741\n",
       "3. -0.328915275274181\n",
       "4. -7.61117106887477\n",
       "5. -9.77614739058921\n",
       "6. -5.98356680965064\n",
       "7. -3.94558124082564\n",
       "8. -4.9085753197596\n",
       "9. -7.88346129807678\n",
       "10. -12.5695440317219\n",
       "\n",
       "\n"
      ],
      "text/plain": [
       " [1]   1.8737051   2.5561519  -0.3289153  -7.6111711  -9.7761474  -5.9835668\n",
       " [7]  -3.9455812  -4.9085753  -7.8834613 -12.5695440"
      ]
     },
     "metadata": {},
     "output_type": "display_data"
    }
   ],
   "source": [
    "#' 給定一個矩陣X，\n",
    "X <- cbind(x1 = 1, x2 = 1:10, x3 = sin(1:10))\n",
    "#' 以及一個長度為3 的向量 beta。\n",
    "beta <- c(0.5, -1, 4.3)\n",
    "\n",
    "#' 我們稱`X[,1] 為x1, X[,2] 為x2, X[,3] 為 x3\n",
    "#' 向量y 的值是 x1 * beta[1] + x2 * beta[2] + x3 * beta[3]，\n",
    "#' 請用矩陣乘法`%*%`算出向量y。\n",
    "#'     dim(y) 應該是 c(10, 1)\n",
    "\n",
    "x1 = X[,1]\n",
    "x2 = X[,2]\n",
    "x3 = X[,3]\n",
    "\n",
    "# y <- NULL # 請將 NULL 替換成你的程式碼，算出正確的答案\n",
    "y <- x1 * beta[1] + x2 * beta[2] + x3 * beta[3]\n",
    "y\n",
    "\n",
    "#' epsilon 是一個隨機產生的雜訊向量，\n",
    "epsilon <- c(-1.24462014500259, 0.146172987456978, 1.56426869006839, -0.856920339050681,\n",
    "    -1.15277300953772, 0.717919832604741, -0.270623615316431, -1.66281578024014,\n",
    "    -1.15557078461633, -0.730253254897595)\n",
    "\n",
    "#' 我們讓y 參雜了雜訊。\n",
    "y <- y + epsilon\n",
    "\n",
    "y"
   ]
  },
  {
   "cell_type": "code",
   "execution_count": 74,
   "metadata": {},
   "outputs": [
    {
     "data": {
      "text/html": [
       "<ol class=list-inline>\n",
       "\t<li>1.87370508967136</li>\n",
       "\t<li>2.55615192280741</li>\n",
       "\t<li>-0.328915275274181</li>\n",
       "\t<li>-7.61117106887477</li>\n",
       "\t<li>-9.77614739058921</li>\n",
       "\t<li>-5.98356680965064</li>\n",
       "\t<li>-3.94558124082564</li>\n",
       "\t<li>-4.9085753197596</li>\n",
       "\t<li>-7.88346129807678</li>\n",
       "\t<li>-12.5695440317219</li>\n",
       "</ol>\n"
      ],
      "text/latex": [
       "\\begin{enumerate*}\n",
       "\\item 1.87370508967136\n",
       "\\item 2.55615192280741\n",
       "\\item -0.328915275274181\n",
       "\\item -7.61117106887477\n",
       "\\item -9.77614739058921\n",
       "\\item -5.98356680965064\n",
       "\\item -3.94558124082564\n",
       "\\item -4.9085753197596\n",
       "\\item -7.88346129807678\n",
       "\\item -12.5695440317219\n",
       "\\end{enumerate*}\n"
      ],
      "text/markdown": [
       "1. 1.87370508967136\n",
       "2. 2.55615192280741\n",
       "3. -0.328915275274181\n",
       "4. -7.61117106887477\n",
       "5. -9.77614739058921\n",
       "6. -5.98356680965064\n",
       "7. -3.94558124082564\n",
       "8. -4.9085753197596\n",
       "9. -7.88346129807678\n",
       "10. -12.5695440317219\n",
       "\n",
       "\n"
      ],
      "text/plain": [
       " [1]   1.8737051   2.5561519  -0.3289153  -7.6111711  -9.7761474  -5.9835668\n",
       " [7]  -3.9455812  -4.9085753  -7.8834613 -12.5695440"
      ]
     },
     "metadata": {},
     "output_type": "display_data"
    },
    {
     "data": {
      "text/html": [
       "'matrix'"
      ],
      "text/latex": [
       "'matrix'"
      ],
      "text/markdown": [
       "'matrix'"
      ],
      "text/plain": [
       "[1] \"matrix\""
      ]
     },
     "metadata": {},
     "output_type": "display_data"
    },
    {
     "data": {
      "text/html": [
       "<ol class=list-inline>\n",
       "\t<li>3</li>\n",
       "\t<li>1</li>\n",
       "</ol>\n"
      ],
      "text/latex": [
       "\\begin{enumerate*}\n",
       "\\item 3\n",
       "\\item 1\n",
       "\\end{enumerate*}\n"
      ],
      "text/markdown": [
       "1. 3\n",
       "2. 1\n",
       "\n",
       "\n"
      ],
      "text/plain": [
       "[1] 3 1"
      ]
     },
     "metadata": {},
     "output_type": "display_data"
    },
    {
     "data": {
      "text/html": [
       "<ol class=list-inline>\n",
       "\t<li>'x1'</li>\n",
       "\t<li>'x2'</li>\n",
       "\t<li>'x3'</li>\n",
       "</ol>\n"
      ],
      "text/latex": [
       "\\begin{enumerate*}\n",
       "\\item 'x1'\n",
       "\\item 'x2'\n",
       "\\item 'x3'\n",
       "\\end{enumerate*}\n"
      ],
      "text/markdown": [
       "1. 'x1'\n",
       "2. 'x2'\n",
       "3. 'x3'\n",
       "\n",
       "\n"
      ],
      "text/plain": [
       "[1] \"x1\" \"x2\" \"x3\""
      ]
     },
     "metadata": {},
     "output_type": "display_data"
    },
    {
     "name": "stdout",
     "output_type": "stream",
     "text": [
      "beta"
     ]
    },
    {
     "data": {
      "text/html": [
       "<ol class=list-inline>\n",
       "\t<li>0.5</li>\n",
       "\t<li>-1</li>\n",
       "\t<li>4.3</li>\n",
       "</ol>\n"
      ],
      "text/latex": [
       "\\begin{enumerate*}\n",
       "\\item 0.5\n",
       "\\item -1\n",
       "\\item 4.3\n",
       "\\end{enumerate*}\n"
      ],
      "text/markdown": [
       "1. 0.5\n",
       "2. -1\n",
       "3. 4.3\n",
       "\n",
       "\n"
      ],
      "text/plain": [
       "[1]  0.5 -1.0  4.3"
      ]
     },
     "metadata": {},
     "output_type": "display_data"
    },
    {
     "name": "stdout",
     "output_type": "stream",
     "text": [
      "bata.hat"
     ]
    },
    {
     "data": {
      "text/html": [
       "<table>\n",
       "<tbody>\n",
       "\t<tr><th scope=row>x1</th><td> 0.6597662</td></tr>\n",
       "\t<tr><th scope=row>x2</th><td>-1.1094563</td></tr>\n",
       "\t<tr><th scope=row>x3</th><td> 4.1421324</td></tr>\n",
       "</tbody>\n",
       "</table>\n"
      ],
      "text/latex": [
       "\\begin{tabular}{r|l}\n",
       "\tx1 &  0.6597662\\\\\n",
       "\tx2 & -1.1094563\\\\\n",
       "\tx3 &  4.1421324\\\\\n",
       "\\end{tabular}\n"
      ],
      "text/markdown": [
       "\n",
       "| x1 |  0.6597662 |\n",
       "| x2 | -1.1094563 |\n",
       "| x3 |  4.1421324 |\n",
       "\n"
      ],
      "text/plain": [
       "   [,1]      \n",
       "x1  0.6597662\n",
       "x2 -1.1094563\n",
       "x3  4.1421324"
      ]
     },
     "metadata": {},
     "output_type": "display_data"
    },
    {
     "data": {
      "text/html": [
       "'matrix'"
      ],
      "text/latex": [
       "'matrix'"
      ],
      "text/markdown": [
       "'matrix'"
      ],
      "text/plain": [
       "[1] \"matrix\""
      ]
     },
     "metadata": {},
     "output_type": "display_data"
    },
    {
     "data": {
      "text/html": [
       "<ol class=list-inline>\n",
       "\t<li>4</li>\n",
       "\t<li>1</li>\n",
       "</ol>\n"
      ],
      "text/latex": [
       "\\begin{enumerate*}\n",
       "\\item 4\n",
       "\\item 1\n",
       "\\end{enumerate*}\n"
      ],
      "text/markdown": [
       "1. 4\n",
       "2. 1\n",
       "\n",
       "\n"
      ],
      "text/plain": [
       "[1] 4 1"
      ]
     },
     "metadata": {},
     "output_type": "display_data"
    },
    {
     "data": {
      "text/html": [
       "<ol class=list-inline>\n",
       "\t<li>'(Intercept)'</li>\n",
       "\t<li>'TypeMississippi'</li>\n",
       "\t<li>'Treatmentchilled'</li>\n",
       "\t<li>'conc'</li>\n",
       "</ol>\n"
      ],
      "text/latex": [
       "\\begin{enumerate*}\n",
       "\\item '(Intercept)'\n",
       "\\item 'TypeMississippi'\n",
       "\\item 'Treatmentchilled'\n",
       "\\item 'conc'\n",
       "\\end{enumerate*}\n"
      ],
      "text/markdown": [
       "1. '(Intercept)'\n",
       "2. 'TypeMississippi'\n",
       "3. 'Treatmentchilled'\n",
       "4. 'conc'\n",
       "\n",
       "\n"
      ],
      "text/plain": [
       "[1] \"(Intercept)\"      \"TypeMississippi\"  \"Treatmentchilled\" \"conc\"            "
      ]
     },
     "metadata": {},
     "output_type": "display_data"
    },
    {
     "name": "stdout",
     "output_type": "stream",
     "text": [
      "-----\n"
     ]
    },
    {
     "data": {
      "text/html": [
       "'list'"
      ],
      "text/latex": [
       "'list'"
      ],
      "text/markdown": [
       "'list'"
      ],
      "text/plain": [
       "[1] \"list\""
      ]
     },
     "metadata": {},
     "output_type": "display_data"
    },
    {
     "data": {
      "text/plain": [
       "\n",
       "Call:\n",
       "lm(formula = uptake ~ Type + Treatment + conc, data = CO2)\n",
       "\n",
       "Residuals:\n",
       "    Min      1Q  Median      3Q     Max \n",
       "-17.344  -2.826   1.070   4.137  11.267 \n",
       "\n",
       "Coefficients:\n",
       "                   Estimate Std. Error t value Pr(>|t|)    \n",
       "(Intercept)       29.259814   1.538928  19.013  < 2e-16 ***\n",
       "TypeMississippi  -12.659524   1.351439  -9.367 1.67e-14 ***\n",
       "Treatmentchilled  -6.859524   1.351439  -5.076 2.46e-06 ***\n",
       "conc               0.017731   0.002297   7.719 2.87e-11 ***\n",
       "---\n",
       "Signif. codes:  0 '***' 0.001 '**' 0.01 '*' 0.05 '.' 0.1 ' ' 1\n",
       "\n",
       "Residual standard error: 6.193 on 80 degrees of freedom\n",
       "Multiple R-squared:  0.6839,\tAdjusted R-squared:  0.6721 \n",
       "F-statistic:  57.7 on 3 and 80 DF,  p-value: < 2.2e-16\n"
      ]
     },
     "metadata": {},
     "output_type": "display_data"
    }
   ],
   "source": [
    "#' 給定一個矩陣X，\n",
    "X <- cbind(x1 = 1, x2 = 1:10, x3 = sin(1:10))\n",
    "\n",
    "#' 以及一個長度為3 的向量 beta。\n",
    "beta <- c(0.5, -1, 4.3)\n",
    "\n",
    "#' 我們稱`X[,1] 為x1, X[,2] 為x2, X[,3] 為 x3\n",
    "#' 向量y 的值是 x1 * beta[1] + x2 * beta[2] + x3 * beta[3]，\n",
    "#' 請用矩陣乘法`%*%`算出向量y。\n",
    "#'     dim(y) 應該是 c(10, 1)\n",
    "\n",
    "x1 = X[,1]\n",
    "x2 = X[,2]\n",
    "x3 = X[,3]\n",
    "\n",
    "# y <- NULL # 請將 NULL 替換成你的程式碼，算出正確的答案\n",
    "y <- x1 * beta[1] + x2 * beta[2] + x3 * beta[3]\n",
    "\n",
    "#' epsilon 是一個隨機產生的雜訊向量，\n",
    "epsilon <- c(-1.24462014500259, 0.146172987456978, 1.56426869006839, -0.856920339050681,\n",
    "    -1.15277300953772, 0.717919832604741, -0.270623615316431, -1.66281578024014,\n",
    "    -1.15557078461633, -0.730253254897595)\n",
    "\n",
    "#' 我們讓y 參雜了雜訊。\n",
    "y <- y + epsilon\n",
    "y\n",
    "\n",
    "# --------------------------------------------------------------------------------------------------------\n",
    "\n",
    "#' 假設我們只知道X和y ，而看不到epsilon和beta。根據X 和y ，要如何找出beta?\n",
    "#' 這是一個標準的迴歸分析問題:\n",
    "#' 在握有X 和Y 等資料之後，尋找資料之間的線性關係（即beta）。\n",
    "#' 例如，我們先前曾經尋找過車速與煞車滑行距離之間的關係。\n",
    "#'\n",
    "#' 請參考<https://en.wikipedia.org/wiki/Ordinary_least_squares#Estimation>裡的公式：\n",
    "#' $(X^T X)^{-1} X^T y$（方程式的圖片版： <http://i.imgur.com/Aykv7W3.png>），利用這章學到的矩陣乘法，與線性代數函式，算出beta的估計值。\n",
    "#'\n",
    "#' 你可以寫很多行的程式碼，但是請把結果存到beta.hat這個變數之中\n",
    "#' ps. class(beta.hat) 應該要是 matrix\n",
    "#'     dim(beta.hat) 應該是 c(3, 1)\n",
    "#'     rownames(beta.hat) 應該是 c(\"x1\", \"x2\", \"x3\")\n",
    "\n",
    "# beta.hat <- NULL # 請將NULL替換成你的程式碼\n",
    "beta.hat <- solve(t(X) %*% X) %*% t(X) %*% y\n",
    "\n",
    "class(beta.hat) # 應該要是 matrix\n",
    "dim(beta.hat) # 應該是 c(3, 1)\n",
    "rownames(beta.hat) # 應該是 c(\"x1\", \"x2\", \"x3\")\n",
    "\n",
    "# --------------------------------------------------------------------------------------------------------\n",
    "\n",
    "#' 請各位比較 beta.hat 和  beta 的數值\n",
    "cat(\"beta\")\n",
    "beta\n",
    "\n",
    "cat(\"bata.hat\")\n",
    "beta.hat\n",
    "\n",
    "# --------------------------------------------------------------------------------------------------------\n",
    "\n",
    "#' 接下來我們引入 CO2 資料表的資料，來實踐上述的方法\n",
    "#' 首先利用 model.matrix() 函式 來建立資料矩陣如下：\n",
    "\n",
    "X <- model.matrix(~ Type + Treatment + conc, CO2)\n",
    "\n",
    "#' 如此就建立了一個基於 Type、Treatment 和 conc 的矩陣\n",
    "\n",
    "#' 我們以 uptake 的值放入 y 之中，作為迴歸的目標\n",
    "y <- CO2$uptake\n",
    "\n",
    "#' 同樣請各位利用 <https://en.wikipedia.org/wiki/Ordinary_least_squares#Estimation> 的公式\n",
    "#' 利用迴歸的演算法，\n",
    "#' 找出 beta.hat，也就是 X 與 y 之間的線性迴歸係數，描述 X 與 y 的關係\n",
    "#' 理論上讓 X %*% beta.hat 的結果 (存成 y.hat) 會很靠近 y\n",
    "#' ps. class(beta.hat) 應該為matrix\n",
    "#'     dim(beta.hat) 應該為 c(4, 1)\n",
    "#'     rownames(beta.hat) 應該為 c(\"(Intercept)\",\"TypeMississippi\",\"Treatmentchilled\",\"conc\")\n",
    "\n",
    "# beta.hat <- NULL\n",
    "beta.hat <- solve(t(X) %*% X) %*% t(X) %*% y\n",
    "y.hat <- X %*% beta.hat\n",
    "\n",
    "class(beta.hat)\n",
    "dim(beta.hat)\n",
    "rownames(beta.hat)\n",
    "\n",
    "\n",
    "\n",
    "#' 這邊我們可以計算X %*% beta.hat 和 y 的correlation（提示：用函數`cor`）\n",
    "my.corr <- cor(X %*% beta.hat, y)\n",
    "\n",
    "#' my.corr 的平方，就是迴歸分析時常提到的：R-squared。\n",
    "#' 很多分析師會用這個數據來判斷這個模型好不好。\n",
    "#' 在R 裡面跑迴歸分析，可以簡單用`lm`這個函數來進行線性迴歸：\n",
    "g <- lm(uptake ~ Type + Treatment + conc, CO2)\n",
    "\n",
    "#' g 這個物件就會包含我們剛剛算過得答案\n",
    "# g\n",
    "\n",
    "#' g$coef就會是beta.hat\n",
    "# g$coefficients\n",
    "\n",
    "#' g$fitted.value就會是X %*% beta.hat\n",
    "# g$fitted.value\n",
    "\n",
    "#' summary(g)則會顯示各個參數的t 檢定，以及整個模型的R-squared\n",
    "g.s <- summary(g)\n",
    "\n",
    "#' mode(g.s)顯示它是一個list。\n",
    "cat(\"-----\\n\")\n",
    "mode(g.s)\n",
    "g.s\n",
    "\n",
    "#' 請取出上述線性迴歸的 R-squared 數值，並且與 my.corr 的平方做比較\n",
    "\n",
    "# 請以 cars 資料表為例，再做一次練習\n"
   ]
  },
  {
   "cell_type": "code",
   "execution_count": null,
   "metadata": {},
   "outputs": [],
   "source": []
  }
 ],
 "metadata": {
  "kernelspec": {
   "display_name": "R",
   "language": "R",
   "name": "ir"
  },
  "language_info": {
   "codemirror_mode": "r",
   "file_extension": ".r",
   "mimetype": "text/x-r-source",
   "name": "R",
   "pygments_lexer": "r",
   "version": "3.6.1"
  }
 },
 "nbformat": 4,
 "nbformat_minor": 2
}
