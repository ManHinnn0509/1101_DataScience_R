{
 "cells": [
  {
   "cell_type": "markdown",
   "metadata": {
    "collapsed": true
   },
   "source": [
    "A priori在拉丁語中指「來自以前」，被用來命名經典的挖掘資料關聯性演算法 Apriori\n",
    "\n",
    "Apriori 採用迭代的方法先搜索出第一項集的各Item支持度，並剪去低於最小支持度的第一項集\n",
    "\n",
    "得到第二項集後再剪去低於最小支持度的第二項集，依次類推下去直到無法找到項集為止"
   ]
  },
  {
   "cell_type": "code",
   "execution_count": 4,
   "metadata": {},
   "outputs": [
    {
     "name": "stdout",
     "output_type": "stream",
     "text": [
      "               _                           \n",
      "platform       x86_64-w64-mingw32          \n",
      "arch           x86_64                      \n",
      "os             mingw32                     \n",
      "system         x86_64, mingw32             \n",
      "status                                     \n",
      "major          3                           \n",
      "minor          6.1                         \n",
      "year           2019                        \n",
      "month          07                          \n",
      "day            05                          \n",
      "svn rev        76782                       \n",
      "language       R                           \n",
      "version.string R version 3.6.1 (2019-07-05)\n",
      "nickname       Action of the Toes          \n"
     ]
    }
   ],
   "source": [
    "print(R.version)"
   ]
  },
  {
   "cell_type": "code",
   "execution_count": 1,
   "metadata": {},
   "outputs": [
    {
     "name": "stderr",
     "output_type": "stream",
     "text": [
      "Warning message:\n",
      "\"package 'arules' is not available (for R version 3.6.1)\""
     ]
    }
   ],
   "source": [
    "install.packages(\"arules\")"
   ]
  },
  {
   "cell_type": "code",
   "execution_count": 2,
   "metadata": {},
   "outputs": [
    {
     "ename": "ERROR",
     "evalue": "Error in library(arules): there is no package called 'arules'\n",
     "output_type": "error",
     "traceback": [
      "Error in library(arules): there is no package called 'arules'\nTraceback:\n",
      "1. library(arules)"
     ]
    }
   ],
   "source": [
    "# arules 套件包含了 Apriori 演算法在 R 中的一種實現\n",
    "#install.packages(\"arules\")\n",
    "library(arules)\n",
    "library(dplyr)"
   ]
  },
  {
   "cell_type": "code",
   "execution_count": null,
   "metadata": {},
   "outputs": [],
   "source": [
    "# 想要深入了解 apriori 演算法的同學\n",
    "# 建議詳閱 arules 的 vignette\n",
    "# 裡面詳細介紹了 arules 提供的演算法、參數、以及範例\n",
    "\n",
    "vignette(\"arules\", package = \"arules\")"
   ]
  },
  {
   "cell_type": "code",
   "execution_count": null,
   "metadata": {},
   "outputs": [],
   "source": [
    "# 首先請參閱 apriori 函式的 help\n",
    "# 可以發現 apriori 的 data 項，必須要輸入 transactions 的型態\n",
    "# 所以我們需要參閱 transaction-class 的 help\n",
    "?\"transaction-class\"\n",
    "\n",
    "# 從中我們可以得知，apriori 的 transaction 可以從 list、matrix 或是 data.frame 轉換而來"
   ]
  },
  {
   "cell_type": "code",
   "execution_count": null,
   "metadata": {},
   "outputs": [],
   "source": [
    "# 舉例來說，如果我們有三種物品：`c(\"a\", \"b\", \"c\")`\n",
    "# 而第一筆交易有`c(\"a\", \"b\", \"c\")`， 第二筆交易有`c(\"a\",\"b\")`\n",
    "# 那我們就可以建立以下的list： record_list <- list(c(\"a\", \"b\", \"c\"), c(\"a\", \"b\"))\n",
    "# 然後進而將 list 轉換為 transaction\n",
    "record_list <- list(c(\"a\", \"b\", \"c\"), c(\"a\", \"b\"))\n",
    "record <- as(record_list, \"transactions\")\n",
    "record"
   ]
  },
  {
   "cell_type": "code",
   "execution_count": null,
   "metadata": {},
   "outputs": [],
   "source": [
    "# 我們也可以用 summary 來取得更詳細的資訊\n",
    "summary(record)"
   ]
  },
  {
   "cell_type": "code",
   "execution_count": null,
   "metadata": {},
   "outputs": [],
   "source": [
    "# 我們接下來做一個範例練習\n",
    "# 以下練習摘錄自 https://www.kirenz.com/post/2020-05-14-r-association-rule-mining/\n",
    "# create a list of baskets\n",
    "market_basket <-  \n",
    "  list(  \n",
    "  c(\"apple\", \"beer\", \"rice\", \"meat\"),\n",
    "  c(\"apple\", \"beer\", \"rice\"),\n",
    "  c(\"apple\", \"beer\"), \n",
    "  c(\"apple\", \"pear\"),\n",
    "  c(\"milk\", \"beer\", \"rice\", \"meat\"), \n",
    "  c(\"milk\", \"beer\", \"rice\"), \n",
    "  c(\"milk\", \"beer\"),\n",
    "  c(\"milk\", \"pear\")\n",
    "  )\n",
    "\n",
    "# set transaction names (T1 to T8)\n",
    "names(market_basket) <- paste(\"T\", c(1:8), sep = \"\")"
   ]
  },
  {
   "cell_type": "code",
   "execution_count": null,
   "metadata": {},
   "outputs": [],
   "source": [
    "trans <- as(market_basket, \"transactions\")\n",
    "dim(trans)\n",
    "itemLabels(trans)\n",
    "summary(trans)"
   ]
  },
  {
   "cell_type": "code",
   "execution_count": null,
   "metadata": {},
   "outputs": [],
   "source": [
    "rules <- apriori(trans, \n",
    "                 parameter = list(supp=0.3, conf=0.5, \n",
    "                                  maxlen=10, \n",
    "                                  target= \"rules\"))"
   ]
  },
  {
   "cell_type": "code",
   "execution_count": null,
   "metadata": {},
   "outputs": [],
   "source": [
    "summary(rules)"
   ]
  },
  {
   "cell_type": "code",
   "execution_count": null,
   "metadata": {},
   "outputs": [],
   "source": [
    "inspect(rules)"
   ]
  },
  {
   "cell_type": "code",
   "execution_count": null,
   "metadata": {},
   "outputs": [],
   "source": [
    "#Min Support 0.3, confidence as 0.5.\n",
    "# 設定 minlen 以避開只有一樣 item 的 rules\n",
    "rules <- apriori(trans, \n",
    "                 parameter = list(supp=0.3, conf=0.5,\n",
    "                                  maxlen=10,\n",
    "                                  minlen=2,\n",
    "                                  target= \"rules\"))\n",
    "inspect(rules)"
   ]
  },
  {
   "cell_type": "code",
   "execution_count": null,
   "metadata": {},
   "outputs": [],
   "source": [
    "# 分析 顧客在買啤酒前會買什麼 設定 rhs 為 beer\n",
    "beer_rules_rhs <- apriori(trans, \n",
    "                          parameter = list(supp=0.3, conf=0.5, \n",
    "                                         maxlen=10, \n",
    "                                         minlen=2),\n",
    "                          appearance = list(default=\"lhs\", rhs=\"beer\"))\n",
    "inspect(beer_rules_rhs)                          "
   ]
  },
  {
   "cell_type": "code",
   "execution_count": null,
   "metadata": {},
   "outputs": [],
   "source": [
    "# 分析 顧客在買啤酒後會買什麼 設定 lhs 為 beer\n",
    "beer_rules_lhs <- apriori(trans, \n",
    "                          parameter = list(supp=0.3, conf=0.5, \n",
    "                                         maxlen=10, \n",
    "                                         minlen=2),\n",
    "                          appearance = list(lhs=\"beer\", default=\"rhs\"))\n",
    "inspect(beer_rules_lhs)  "
   ]
  },
  {
   "cell_type": "code",
   "execution_count": null,
   "metadata": {},
   "outputs": [],
   "source": [
    "# 嘗試不同的 support 或 confidence 參數\n",
    "# 嘗試不同的 lhs 或 rhs 限制"
   ]
  },
  {
   "cell_type": "code",
   "execution_count": null,
   "metadata": {},
   "outputs": [],
   "source": [
    "# 接著，讓我們看一個真實的範例：AdultUCI資料\n",
    "# 使用下列指令載入 arules 套件隨附的 AdultUCI 資料集\n",
    "data(AdultUCI)"
   ]
  },
  {
   "cell_type": "code",
   "execution_count": null,
   "metadata": {},
   "outputs": [],
   "source": [
    "# 請參閱 AdultUCI 的 help 取得更詳細的資訊\n",
    "# 在 help 中，請注意其中 example 的 部分\n",
    "# 這邊講清楚了如果要將 AdultUCI 的資料轉換成可供 apriori 演算法使用的 transaction 需要經過哪些處理\n",
    "# 首先我們看一下 AdultUCI 資料表的內容\n",
    "dim(AdultUCI)\n",
    "AdultUCI[1:2,]"
   ]
  },
  {
   "cell_type": "code",
   "execution_count": null,
   "metadata": {},
   "outputs": [],
   "source": [
    "# 接下來進行資料處理\n",
    "AdultUCI[[\"fnlwgt\"]] <- NULL\n",
    "AdultUCI[[\"education-num\"]] <- NULL\n",
    "\n",
    "AdultUCI[[\"age\"]] <- ordered(cut(AdultUCI[[\"age\"]], c(15,25,45,65,100)),\n",
    "  labels = c(\"Young\", \"Middle-aged\", \"Senior\", \"Old\"))\n",
    "\n",
    "AdultUCI[[\"hours-per-week\"]] <- ordered(cut(AdultUCI[[\"hours-per-week\"]],\n",
    "  c(0,25,40,60,168)),\n",
    "  labels = c(\"Part-time\", \"Full-time\", \"Over-time\", \"Workaholic\"))\n",
    "\n",
    "AdultUCI[[\"capital-gain\"]] <- ordered(cut(AdultUCI[[\"capital-gain\"]],\n",
    "  c(-Inf,0,median(AdultUCI[[ \"capital-gain\"]][AdultUCI[[\"capital-gain\"]]>0]),\n",
    "  Inf)), labels = c(\"None\", \"Low\", \"High\"))\n",
    "\n",
    "AdultUCI[[\"capital-loss\"]] <- ordered(cut(AdultUCI[[\"capital-loss\"]],\n",
    "  c(-Inf,0, median(AdultUCI[[\"capital-loss\"]][AdultUCI[[\"capital-loss\"]]>0]),\n",
    "  Inf)), labels = c(\"None\", \"Low\", \"High\"))\n",
    "\n",
    "# 請解釋上述資料處理在做些什麼？\n",
    "# 為什麼在將 AdultUCI 資料套用 association rules 分析之前，要做這些處理？"
   ]
  },
  {
   "cell_type": "code",
   "execution_count": null,
   "metadata": {},
   "outputs": [],
   "source": [
    "# 將 AdultUCI 轉換成為 transactions\n",
    "Adult <- as(AdultUCI, \"transactions\")\n",
    "Adult\n",
    "\n",
    "# 各位可以直接以 example(AdultUCI) 執行上述程式碼\n",
    "# 各位可以以 class、summary、str 等指令，確認 Adult 變數的結構"
   ]
  },
  {
   "cell_type": "code",
   "execution_count": null,
   "metadata": {},
   "outputs": [],
   "source": [
    "summary(Adult)"
   ]
  },
  {
   "cell_type": "code",
   "execution_count": null,
   "metadata": {},
   "outputs": [],
   "source": [
    "# 試回答下列問題\n",
    "# 請問哪一個物品出現頻率最高？\n",
    "# 每筆交易中的 itemset 長度不一，可是 AdultUCI 是一個 data.frame\n",
    "# 每一列應該都有相同的欄位數，是什麼造成這種差異呢？"
   ]
  },
  {
   "cell_type": "code",
   "execution_count": null,
   "metadata": {},
   "outputs": [],
   "source": [
    "# 接下來我們從資料集中來學習關聯性規則\n",
    "rules <- apriori(Adult, parameter = list(support = 0.5, confidence = 0.9))\n",
    "\n",
    "# 函式中的 support 與 confidence 就是設定尋找規則需要的最低 support 與最低 confidence"
   ]
  },
  {
   "cell_type": "code",
   "execution_count": null,
   "metadata": {},
   "outputs": [],
   "source": [
    "# 這邊同樣可以藉由 summary 函式觀察找到的規則\n",
    "summary(rules)\n",
    "\n",
    "# 請問這邊一共學到多少規則？"
   ]
  },
  {
   "cell_type": "code",
   "execution_count": null,
   "metadata": {},
   "outputs": [],
   "source": [
    "# 使用 inpsect 函式來觀看規則\n",
    "inspect(rules[1])"
   ]
  },
  {
   "cell_type": "code",
   "execution_count": null,
   "metadata": {},
   "outputs": [],
   "source": [
    "# 請以 inspect 觀察第四條規則，並解釋與第一條規則有何不同？"
   ]
  },
  {
   "cell_type": "code",
   "execution_count": null,
   "metadata": {},
   "outputs": [],
   "source": [
    "# 這邊我們要利用 subset 函式來取出我們感興趣的規則\n",
    "# 例如取出所有 rhs 包含 capircal-gain 為 None 的規則\n",
    "rules.none = subset(rules, subset = rhs %in% \"capital-gain=None\")"
   ]
  },
  {
   "cell_type": "code",
   "execution_count": null,
   "metadata": {},
   "outputs": [],
   "source": [
    "# 請以 inspect 觀察 rules.none 中的第一條與第二條規則"
   ]
  },
  {
   "cell_type": "code",
   "execution_count": null,
   "metadata": {},
   "outputs": [],
   "source": [
    "# 請用 str 指令觀察 rules.none 的結構"
   ]
  },
  {
   "cell_type": "code",
   "execution_count": null,
   "metadata": {},
   "outputs": [],
   "source": [
    "# 練習一：請用上述方法觀察 rules 資料表，並從中找出你認為最有用的規則，並解釋原因"
   ]
  },
  {
   "cell_type": "code",
   "execution_count": null,
   "metadata": {},
   "outputs": [],
   "source": [
    "# 練習二：嘗試調整最低 support 與 confidence 產生新規則，並從中找尋有用的規則"
   ]
  }
 ],
 "metadata": {
  "kernelspec": {
   "display_name": "R",
   "language": "R",
   "name": "ir"
  },
  "language_info": {
   "codemirror_mode": "r",
   "file_extension": ".r",
   "mimetype": "text/x-r-source",
   "name": "R",
   "pygments_lexer": "r",
   "version": "3.6.1"
  }
 },
 "nbformat": 4,
 "nbformat_minor": 2
}
