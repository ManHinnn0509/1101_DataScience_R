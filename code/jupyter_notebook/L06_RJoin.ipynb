{
 "cells": [
  {
   "cell_type": "markdown",
   "metadata": {},
   "source": [
    "R 語言資料結合 (Join) 以下教材部分取材自 R 語言翻轉教室 by Wush Wu\n",
    "\n",
    "這堂課要教的是資料連結，資料的價值往往來自將不同資料源連結後\n",
    "\n",
    "從中找出原本從單一資料源中無法得知的洞見 (Insights)\n",
    "\n",
    "這堂課將教導同學們如何有效連結來自不同來源的資料"
   ]
  },
  {
   "cell_type": "code",
   "execution_count": 4,
   "metadata": {},
   "outputs": [
    {
     "name": "stderr",
     "output_type": "stream",
     "text": [
      "also installing the dependencies 'glue', 'lifecycle', 'rlang', 'tibble', 'tidyselect', 'pillar'\n",
      "\n"
     ]
    },
    {
     "name": "stdout",
     "output_type": "stream",
     "text": [
      "\n",
      "  There are binary versions available but the source versions are later:\n",
      "          binary source needs_compilation\n",
      "glue       1.4.2  1.5.1              TRUE\n",
      "lifecycle  1.0.0  1.0.1             FALSE\n",
      "rlang     0.4.11 0.4.12              TRUE\n",
      "tibble     3.1.1  3.1.6              TRUE\n",
      "pillar     1.6.0  1.6.4             FALSE\n",
      "dplyr      1.0.6  1.0.7              TRUE\n",
      "\n",
      "  Binaries will be installed\n",
      "package 'glue' successfully unpacked and MD5 sums checked\n"
     ]
    },
    {
     "name": "stderr",
     "output_type": "stream",
     "text": [
      "Warning message:\n",
      "\"cannot remove prior installation of package 'glue'\"Warning message in file.copy(savedcopy, lib, recursive = TRUE):\n",
      "\"複製 C:\\Users\\Hinnn\\anaconda3\\envs\\r-lang-data-science\\Lib\\R\\library\\00LOCK\\glue\\libs\\x64\\glue.dll 到 C:\\Users\\Hinnn\\anaconda3\\envs\\r-lang-data-science\\Lib\\R\\library\\glue\\libs\\x64\\glue.dll 時出了問題：Permission denied\"Warning message:\n",
      "\"restored 'glue'\""
     ]
    },
    {
     "name": "stdout",
     "output_type": "stream",
     "text": [
      "package 'rlang' successfully unpacked and MD5 sums checked\n"
     ]
    },
    {
     "name": "stderr",
     "output_type": "stream",
     "text": [
      "Warning message:\n",
      "\"cannot remove prior installation of package 'rlang'\"Warning message in file.copy(savedcopy, lib, recursive = TRUE):\n",
      "\"複製 C:\\Users\\Hinnn\\anaconda3\\envs\\r-lang-data-science\\Lib\\R\\library\\00LOCK\\rlang\\libs\\x64\\rlang.dll 到 C:\\Users\\Hinnn\\anaconda3\\envs\\r-lang-data-science\\Lib\\R\\library\\rlang\\libs\\x64\\rlang.dll 時出了問題：Permission denied\"Warning message:\n",
      "\"restored 'rlang'\""
     ]
    },
    {
     "name": "stdout",
     "output_type": "stream",
     "text": [
      "package 'tibble' successfully unpacked and MD5 sums checked\n",
      "package 'tidyselect' successfully unpacked and MD5 sums checked\n",
      "package 'dplyr' successfully unpacked and MD5 sums checked\n",
      "\n",
      "The downloaded binary packages are in\n",
      "\tC:\\Users\\Hinnn\\AppData\\Local\\Temp\\RtmpI9CL3q\\downloaded_packages\n"
     ]
    },
    {
     "name": "stderr",
     "output_type": "stream",
     "text": [
      "installing the source packages 'lifecycle', 'pillar'\n",
      "\n",
      "Warning message in install.packages(\"dplyr\"):\n",
      "\"installation of package 'lifecycle' had non-zero exit status\"Warning message in install.packages(\"dplyr\"):\n",
      "\"installation of package 'pillar' had non-zero exit status\""
     ]
    }
   ],
   "source": [
    "install.packages(\"dplyr\")"
   ]
  },
  {
   "cell_type": "code",
   "execution_count": 13,
   "metadata": {},
   "outputs": [],
   "source": [
    "vignette(package = \"dplyr\")"
   ]
  },
  {
   "cell_type": "code",
   "execution_count": 14,
   "metadata": {},
   "outputs": [
    {
     "name": "stderr",
     "output_type": "stream",
     "text": [
      "Warning message:\n",
      "\"vignette 'introduction' not found\""
     ]
    }
   ],
   "source": [
    "vignette(\"introduction\", package = \"dplyr\")"
   ]
  },
  {
   "cell_type": "code",
   "execution_count": 3,
   "metadata": {},
   "outputs": [
    {
     "name": "stderr",
     "output_type": "stream",
     "text": [
      "Warning message:\n",
      "\"package 'dplyr' was built under R version 3.6.3\""
     ]
    },
    {
     "ename": "ERROR",
     "evalue": "Error: package or namespace load failed for 'dplyr' in loadNamespace(i, c(lib.loc, .libPaths()), versionCheck = vI[[i]]):\n namespace 'rlang' 0.3.4 is being loaded, but >= 0.4.10 is required\n",
     "output_type": "error",
     "traceback": [
      "Error: package or namespace load failed for 'dplyr' in loadNamespace(i, c(lib.loc, .libPaths()), versionCheck = vI[[i]]):\n namespace 'rlang' 0.3.4 is being loaded, but >= 0.4.10 is required\nTraceback:\n",
      "1. library(dplyr)",
      "2. tryCatch({\n .     attr(package, \"LibPath\") <- which.lib.loc\n .     ns <- loadNamespace(package, lib.loc)\n .     env <- attachNamespace(ns, pos = pos, deps, exclude, include.only)\n . }, error = function(e) {\n .     P <- if (!is.null(cc <- conditionCall(e))) \n .         paste(\" in\", deparse(cc)[1L])\n .     else \"\"\n .     msg <- gettextf(\"package or namespace load failed for %s%s:\\n %s\", \n .         sQuote(package), P, conditionMessage(e))\n .     if (logical.return) \n .         message(paste(\"Error:\", msg), domain = NA)\n .     else stop(msg, call. = FALSE, domain = NA)\n . })",
      "3. tryCatchList(expr, classes, parentenv, handlers)",
      "4. tryCatchOne(expr, names, parentenv, handlers[[1L]])",
      "5. value[[3L]](cond)",
      "6. stop(msg, call. = FALSE, domain = NA)"
     ]
    }
   ],
   "source": [
    "# 各位同學可以嘗試閱讀 dplyr 套件的文件，了解其源流與用法\n",
    "library(dplyr)"
   ]
  },
  {
   "cell_type": "code",
   "execution_count": 4,
   "metadata": {},
   "outputs": [
    {
     "name": "stdout",
     "output_type": "stream",
     "text": [
      "package 'nycflights13' successfully unpacked and MD5 sums checked\n",
      "\n",
      "The downloaded binary packages are in\n",
      "\tC:\\Users\\Hinnn\\AppData\\Local\\Temp\\Rtmpc9PB8j\\downloaded_packages\n"
     ]
    }
   ],
   "source": [
    "install.packages(\"nycflights13\")"
   ]
  },
  {
   "cell_type": "code",
   "execution_count": 11,
   "metadata": {
    "scrolled": true
   },
   "outputs": [
    {
     "name": "stderr",
     "output_type": "stream",
     "text": [
      "Warning message:\n",
      "\"package 'nycflights13' was built under R version 3.6.3\""
     ]
    },
    {
     "ename": "ERROR",
     "evalue": "Error: package or namespace load failed for 'nycflights13' in loadNamespace(i, c(lib.loc, .libPaths()), versionCheck = vI[[i]]):\n there is no package called 'lifecycle'\n",
     "output_type": "error",
     "traceback": [
      "Error: package or namespace load failed for 'nycflights13' in loadNamespace(i, c(lib.loc, .libPaths()), versionCheck = vI[[i]]):\n there is no package called 'lifecycle'\nTraceback:\n",
      "1. library(nycflights13)",
      "2. tryCatch({\n .     attr(package, \"LibPath\") <- which.lib.loc\n .     ns <- loadNamespace(package, lib.loc)\n .     env <- attachNamespace(ns, pos = pos, deps, exclude, include.only)\n . }, error = function(e) {\n .     P <- if (!is.null(cc <- conditionCall(e))) \n .         paste(\" in\", deparse(cc)[1L])\n .     else \"\"\n .     msg <- gettextf(\"package or namespace load failed for %s%s:\\n %s\", \n .         sQuote(package), P, conditionMessage(e))\n .     if (logical.return) \n .         message(paste(\"Error:\", msg), domain = NA)\n .     else stop(msg, call. = FALSE, domain = NA)\n . })",
      "3. tryCatchList(expr, classes, parentenv, handlers)",
      "4. tryCatchOne(expr, names, parentenv, handlers[[1L]])",
      "5. value[[3L]](cond)",
      "6. stop(msg, call. = FALSE, domain = NA)"
     ]
    }
   ],
   "source": [
    "# 我們將使用紐約機場起降的飛機資料來進行練習\n",
    "# install.packages(\"nycflights13\")\n",
    "library(nycflights13)"
   ]
  },
  {
   "cell_type": "code",
   "execution_count": 13,
   "metadata": {},
   "outputs": [
    {
     "ename": "ERROR",
     "evalue": "Error in head(flights): 找不到物件 'flights'\n",
     "output_type": "error",
     "traceback": [
      "Error in head(flights): 找不到物件 'flights'\nTraceback:\n",
      "1. head(flights)"
     ]
    }
   ],
   "source": [
    "head(flights)"
   ]
  },
  {
   "cell_type": "code",
   "execution_count": 12,
   "metadata": {},
   "outputs": [
    {
     "ename": "ERROR",
     "evalue": "Error in eval(expr, envir, enclos): 找不到物件 'flights'\n",
     "output_type": "error",
     "traceback": [
      "Error in eval(expr, envir, enclos): 找不到物件 'flights'\nTraceback:\n"
     ]
    }
   ],
   "source": [
    "# 觀察 airlines 與 flights 資料表\n",
    "# 假如我們希望將 airlines 中航空公司的全名貼入 flights 中\n",
    "# 換言之，結合 airlines 與 flights 中的資料\n",
    "# 應該參照什麼欄位呢？\n"
   ]
  },
  {
   "cell_type": "code",
   "execution_count": 11,
   "metadata": {},
   "outputs": [],
   "source": [
    "# 當我們想要用某一張資料表的資料去補充主要資料表的內容時，會使用 left_join\n",
    "# 請參照 left_join 的 help\n",
    "# 讓我們從 flights中抽出前 100 筆資料\n",
    "# 然後「依序」選出 year:day, hour, origin, dest, tailnum, carrier等欄位\n",
    "# 最後和airlines做left_join，將資料存入 flights_info"
   ]
  },
  {
   "cell_type": "code",
   "execution_count": null,
   "metadata": {},
   "outputs": [],
   "source": [
    "# 假如我們想要將 weather 資料表的資訊與 flights_info 的資訊相結合，應該怎麼作呢？"
   ]
  },
  {
   "cell_type": "code",
   "execution_count": null,
   "metadata": {},
   "outputs": [],
   "source": [
    "# 若 沒有設定 by 參數，left_join 會自動搜尋兩張資料表中重複的名稱\n",
    "# 並且假設名稱重複的欄位意義相同，參照名稱重複的欄位進行結合\n",
    "# 請嘗試不要設定 by 參數，然後結合 flights_info 與 weather 資料表"
   ]
  },
  {
   "cell_type": "code",
   "execution_count": null,
   "metadata": {},
   "outputs": [],
   "source": [
    "# 請參照 union、intersect 與 setdiff 等函式的 help\n",
    "# 假如我們想要找出兩張資料表中名稱重複的欄位，應該要用哪個函式？"
   ]
  },
  {
   "cell_type": "code",
   "execution_count": 7,
   "metadata": {},
   "outputs": [
    {
     "data": {
      "text/html": [
       "<ol class=list-inline>\n",
       "\t<li>1</li>\n",
       "\t<li>2</li>\n",
       "\t<li>3</li>\n",
       "</ol>\n"
      ],
      "text/latex": [
       "\\begin{enumerate*}\n",
       "\\item 1\n",
       "\\item 2\n",
       "\\item 3\n",
       "\\end{enumerate*}\n"
      ],
      "text/markdown": [
       "1. 1\n",
       "2. 2\n",
       "3. 3\n",
       "\n",
       "\n"
      ],
      "text/plain": [
       "[1] 1 2 3"
      ]
     },
     "metadata": {},
     "output_type": "display_data"
    }
   ],
   "source": [
    "1:3"
   ]
  },
  {
   "cell_type": "code",
   "execution_count": 9,
   "metadata": {},
   "outputs": [
    {
     "ename": "ERROR",
     "evalue": "Error in eval(expr, envir, enclos): 找不到物件 'airports'\n",
     "output_type": "error",
     "traceback": [
      "Error in eval(expr, envir, enclos): 找不到物件 'airports'\nTraceback:\n"
     ]
    }
   ],
   "source": [
    "# 請觀察 airports 資料表\n",
    "# 假如我們想要結合 flights_info 與 airports 資料表\n",
    "# 應當參照哪個欄位來進行呢？\n",
    "\n",
    "names(airports)\n",
    "names(flights_info)"
   ]
  },
  {
   "cell_type": "code",
   "execution_count": null,
   "metadata": {},
   "outputs": [],
   "source": [
    "# 練習：\n",
    "# 我們現在要藉由資料表的結合，理解起飛機場的風速對於抵達時間的延遲是否有影響\n",
    "# Step 1\n",
    "# 結合 weather 與 flights 資料表\n",
    "# 最終只留下 wind_speed 與 arr_delay 兩個欄位存入 delay_info\n",
    "# hints: 過程中以 year:day, hour, origin 當成合併的key\n",
    "#        記得要檢查並且清除其中的 NA 或 NaN"
   ]
  },
  {
   "cell_type": "code",
   "execution_count": null,
   "metadata": {},
   "outputs": [],
   "source": [
    "# 畫圖觀察 wind_speed 與 arr_delay 的關係"
   ]
  },
  {
   "cell_type": "code",
   "execution_count": null,
   "metadata": {},
   "outputs": [],
   "source": [
    "delay_info <- select(flights, year:day, hour, origin, dest, tailnum, carrier, arr_delay) %>%\n",
    "    left_join(weather) %>%\n",
    "    select(wind_speed, arr_delay) %>%\n",
    "    filter(!is.na(wind_speed), !is.na(arr_delay))"
   ]
  },
  {
   "cell_type": "code",
   "execution_count": null,
   "metadata": {},
   "outputs": [],
   "source": [
    "# plot(arr_delay~wind_speed, flights_info)\n",
    "# 此函式在 Azure NB 中執行十分耗時，請見現場示範"
   ]
  },
  {
   "cell_type": "code",
   "execution_count": null,
   "metadata": {},
   "outputs": [],
   "source": [
    "# 從上面的圖形中會發現 抵達遲延與起飛風速之間的關係似乎有些微妙，難以釐清\n",
    "# 這邊我們要示範一個技巧，就是將連續型變數轉換成為類別型變數後再進行分析\n",
    "# 作法上我們會將風速平均分成若干級 (例如五級) 然後觀察每個級別的風速狀況"
   ]
  },
  {
   "cell_type": "code",
   "execution_count": null,
   "metadata": {},
   "outputs": [],
   "source": [
    "# 請參閱 quantile 函式的 help，並說明 quantile 函式的意義"
   ]
  },
  {
   "cell_type": "code",
   "execution_count": null,
   "metadata": {},
   "outputs": [],
   "source": [
    "# 請參閱 cut 函式的 help 並說明其意義"
   ]
  },
  {
   "cell_type": "code",
   "execution_count": null,
   "metadata": {},
   "outputs": [],
   "source": [
    "# quantile 函數可以找出一群資料中各個分差的值\n",
    "# cut 可以根據給定的分級依據將資料分群\n",
    "# 所以我們可以藉由 cut 以依照 wind_speed 資料分佈的分差來進行分群\n",
    "cut(delay_info$wind_speed, breaks = quantile(delay_info$wind_speed)) %>% head"
   ]
  },
  {
   "cell_type": "code",
   "execution_count": null,
   "metadata": {},
   "outputs": [],
   "source": [
    "# 這邊我們可以用 mutate 將分級資料納入 delay_info 中\n",
    "delay_info <- mutate(delay_info, wind_level = cut(wind_speed, breaks = quantile(wind_speed)))"
   ]
  },
  {
   "cell_type": "code",
   "execution_count": null,
   "metadata": {},
   "outputs": [],
   "source": [
    "# 觀察各級風速對於抵達延遲的影響\n",
    "plot(arr_delay~wind_level, data = delay_info)"
   ]
  },
  {
   "cell_type": "code",
   "execution_count": null,
   "metadata": {},
   "outputs": [],
   "source": [
    "# 上述圖表會發現許多離群值，所以我們稍微修改圖形的範圍進行觀察\n",
    "plot(arr_delay~wind_level, data = delay_info, ylim = c(-100, 100))"
   ]
  },
  {
   "cell_type": "code",
   "execution_count": null,
   "metadata": {},
   "outputs": [],
   "source": [
    "# 然後我們計算每級風速的平均抵達延遲\n",
    "delay_info %>% group_by(wind_level) %>%\n",
    "summarize(mean(arr_delay))"
   ]
  },
  {
   "cell_type": "code",
   "execution_count": null,
   "metadata": {},
   "outputs": [],
   "source": [
    "# 疑？怎麼會有 NA 應該如何解決？\n",
    "# hints: 請參照 cut 的 help 修改上述程式以解決 NA 的問題"
   ]
  },
  {
   "cell_type": "code",
   "execution_count": null,
   "metadata": {},
   "outputs": [],
   "source": [
    "# 翻轉教室中有提供另一種解決 NA 問題的方法\n",
    "\n",
    "delay_info2 <- select(flights, year:day, hour, origin, dest, tailnum, carrier, arr_delay) %>%\n",
    "left_join(weather) %>%\n",
    "select(wind_speed, arr_delay) %>%\n",
    "filter(!is.na(wind_speed), !is.na(arr_delay))\n",
    "\n"
   ]
  },
  {
   "cell_type": "code",
   "execution_count": null,
   "metadata": {},
   "outputs": [],
   "source": [
    "lvls = quantile(delay_info2$wind_speed)\n",
    "lvls"
   ]
  },
  {
   "cell_type": "code",
   "execution_count": null,
   "metadata": {},
   "outputs": [],
   "source": [
    "mutate(delay_info2, wind_level = cut(wind_speed, breaks = c(lvls[1] - 1e-5, tail(lvls, -1)))) %>%\n",
    "group_by(wind_level) %>%\n",
    "summarise(mean(arr_delay))"
   ]
  },
  {
   "cell_type": "code",
   "execution_count": null,
   "metadata": {},
   "outputs": [],
   "source": [
    "# 試比較兩種做法有何不同？"
   ]
  },
  {
   "cell_type": "code",
   "execution_count": null,
   "metadata": {},
   "outputs": [],
   "source": [
    "# 延伸練習：\n",
    "# 假如風速希望可以分成十級，應該如何進行呢？"
   ]
  },
  {
   "cell_type": "code",
   "execution_count": null,
   "metadata": {},
   "outputs": [],
   "source": [
    "# 延伸練習：\n",
    "# 假如出發機場的風速對於出發延遲的影響，應該如何進行呢？"
   ]
  },
  {
   "cell_type": "code",
   "execution_count": null,
   "metadata": {},
   "outputs": [],
   "source": [
    "# 假如我們希望比較目的地機場的風速對於抵達遲延的影響，有可能嗎？\n",
    "# 如果不行？為什麼不行？"
   ]
  }
 ],
 "metadata": {
  "interpreter": {
   "hash": "d0332e747a1d1dc2c268f9132909434890546ae5cbf244649cb98beae2dcb6e3"
  },
  "kernelspec": {
   "display_name": "R",
   "language": "R",
   "name": "ir"
  },
  "language_info": {
   "codemirror_mode": "r",
   "file_extension": ".r",
   "mimetype": "text/x-r-source",
   "name": "R",
   "pygments_lexer": "r",
   "version": "3.6.1"
  }
 },
 "nbformat": 4,
 "nbformat_minor": 2
}
