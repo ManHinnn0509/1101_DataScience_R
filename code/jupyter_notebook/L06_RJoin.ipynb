{
 "cells": [
  {
   "cell_type": "markdown",
   "metadata": {},
   "source": [
    "R 語言資料結合 (Join) 以下教材部分取材自 R 語言翻轉教室 by Wush Wu\n",
    "\n",
    "這堂課要教的是資料連結，資料的價值往往來自將不同資料源連結後\n",
    "\n",
    "從中找出原本從單一資料源中無法得知的洞見 (Insights)\n",
    "\n",
    "這堂課將教導同學們如何有效連結來自不同來源的資料"
   ]
  },
  {
   "cell_type": "code",
   "execution_count": 2,
   "metadata": {},
   "outputs": [
    {
     "name": "stderr",
     "output_type": "stream",
     "text": [
      "also installing the dependencies 'ellipsis', 'glue', 'lifecycle', 'rlang', 'tibble', 'tidyselect', 'vctrs', 'pillar'\n",
      "\n"
     ]
    },
    {
     "name": "stdout",
     "output_type": "stream",
     "text": [
      "\n",
      "  There are binary versions available but the source versions are later:\n",
      "          binary source needs_compilation\n",
      "glue       1.4.2  1.5.1              TRUE\n",
      "lifecycle  1.0.0  1.0.1             FALSE\n",
      "rlang     0.4.11 0.4.12              TRUE\n",
      "tibble     3.1.1  3.1.6              TRUE\n",
      "pillar     1.6.0  1.6.4             FALSE\n",
      "dplyr      1.0.6  1.0.7              TRUE\n",
      "\n",
      "  Binaries will be installed\n"
     ]
    },
    {
     "name": "stderr",
     "output_type": "stream",
     "text": [
      "Warning message:\n",
      "\"package 'dplyr' is in use and will not be installed\""
     ]
    },
    {
     "name": "stdout",
     "output_type": "stream",
     "text": [
      "package 'ellipsis' successfully unpacked and MD5 sums checked\n",
      "package 'glue' successfully unpacked and MD5 sums checked\n"
     ]
    },
    {
     "name": "stderr",
     "output_type": "stream",
     "text": [
      "Warning message:\n",
      "\"cannot remove prior installation of package 'glue'\"Warning message in file.copy(savedcopy, lib, recursive = TRUE):\n",
      "\"複製 C:\\Users\\User\\.conda\\envs\\R\\Lib\\R\\library\\00LOCK\\glue\\libs\\x64\\glue.dll 到 C:\\Users\\User\\.conda\\envs\\R\\Lib\\R\\library\\glue\\libs\\x64\\glue.dll 時出了問題：Permission denied\"Warning message:\n",
      "\"restored 'glue'\""
     ]
    },
    {
     "name": "stdout",
     "output_type": "stream",
     "text": [
      "package 'rlang' successfully unpacked and MD5 sums checked\n"
     ]
    },
    {
     "name": "stderr",
     "output_type": "stream",
     "text": [
      "Warning message:\n",
      "\"cannot remove prior installation of package 'rlang'\"Warning message in file.copy(savedcopy, lib, recursive = TRUE):\n",
      "\"複製 C:\\Users\\User\\.conda\\envs\\R\\Lib\\R\\library\\00LOCK\\rlang\\libs\\x64\\rlang.dll 到 C:\\Users\\User\\.conda\\envs\\R\\Lib\\R\\library\\rlang\\libs\\x64\\rlang.dll 時出了問題：Permission denied\"Warning message:\n",
      "\"restored 'rlang'\""
     ]
    },
    {
     "name": "stdout",
     "output_type": "stream",
     "text": [
      "package 'tibble' successfully unpacked and MD5 sums checked\n"
     ]
    },
    {
     "name": "stderr",
     "output_type": "stream",
     "text": [
      "Warning message:\n",
      "\"cannot remove prior installation of package 'tibble'\"Warning message in file.copy(savedcopy, lib, recursive = TRUE):\n",
      "\"複製 C:\\Users\\User\\.conda\\envs\\R\\Lib\\R\\library\\00LOCK\\tibble\\libs\\x64\\tibble.dll 到 C:\\Users\\User\\.conda\\envs\\R\\Lib\\R\\library\\tibble\\libs\\x64\\tibble.dll 時出了問題：Permission denied\"Warning message:\n",
      "\"restored 'tibble'\""
     ]
    },
    {
     "name": "stdout",
     "output_type": "stream",
     "text": [
      "package 'tidyselect' successfully unpacked and MD5 sums checked\n"
     ]
    },
    {
     "name": "stderr",
     "output_type": "stream",
     "text": [
      "Warning message:\n",
      "\"cannot remove prior installation of package 'tidyselect'\"Warning message in file.copy(savedcopy, lib, recursive = TRUE):\n",
      "\"複製 C:\\Users\\User\\.conda\\envs\\R\\Lib\\R\\library\\00LOCK\\tidyselect\\libs\\x64\\tidyselect.dll 到 C:\\Users\\User\\.conda\\envs\\R\\Lib\\R\\library\\tidyselect\\libs\\x64\\tidyselect.dll 時出了問題：Permission denied\"Warning message:\n",
      "\"restored 'tidyselect'\""
     ]
    },
    {
     "name": "stdout",
     "output_type": "stream",
     "text": [
      "package 'vctrs' successfully unpacked and MD5 sums checked\n",
      "\n",
      "The downloaded binary packages are in\n",
      "\tC:\\Users\\User\\AppData\\Local\\Temp\\Rtmp8aMSE1\\downloaded_packages\n"
     ]
    },
    {
     "name": "stderr",
     "output_type": "stream",
     "text": [
      "installing the source packages 'lifecycle', 'pillar'\n",
      "\n",
      "Warning message in install.packages(\"dplyr\"):\n",
      "\"installation of package 'lifecycle' had non-zero exit status\"Warning message in install.packages(\"dplyr\"):\n",
      "\"installation of package 'pillar' had non-zero exit status\"Warning message:\n",
      "\"vignette 'introduction' not found\""
     ]
    }
   ],
   "source": [
    "install.packages(\"dplyr\")\n",
    "vignette(package = \"dplyr\")\n",
    "vignette(\"introduction\", package = \"dplyr\")"
   ]
  },
  {
   "cell_type": "code",
   "execution_count": 3,
   "metadata": {},
   "outputs": [],
   "source": [
    "\n",
    "# 各位同學可以嘗試閱讀 dplyr 套件的文件，了解其源流與用法\n",
    "library(dplyr)"
   ]
  },
  {
   "cell_type": "code",
   "execution_count": 5,
   "metadata": {},
   "outputs": [
    {
     "name": "stdout",
     "output_type": "stream",
     "text": [
      "package 'nycflights13' successfully unpacked and MD5 sums checked\n",
      "\n",
      "The downloaded binary packages are in\n",
      "\tC:\\Users\\User\\AppData\\Local\\Temp\\Rtmp8aMSE1\\downloaded_packages\n"
     ]
    }
   ],
   "source": [
    "install.packages(\"nycflights13\")"
   ]
  },
  {
   "cell_type": "code",
   "execution_count": 6,
   "metadata": {},
   "outputs": [
    {
     "name": "stderr",
     "output_type": "stream",
     "text": [
      "Warning message:\n",
      "\"package 'nycflights13' was built under R version 3.6.3\""
     ]
    }
   ],
   "source": [
    "# 我們將使用紐約機場起降的飛機資料來進行練習\n",
    "# install.packages(\"nycflights13\")\n",
    "library(nycflights13)"
   ]
  },
  {
   "cell_type": "code",
   "execution_count": null,
   "metadata": {},
   "outputs": [],
   "source": [
    "# 觀察 airlines 與 flights 資料表\n",
    "# 假如我們希望將 airlines 中航空公司的全名貼入 flights 中\n",
    "# 換言之，結合 airlines 與 flights 中的資料\n",
    "# 應該參照什麼欄位呢？"
   ]
  },
  {
   "cell_type": "code",
   "execution_count": null,
   "metadata": {},
   "outputs": [],
   "source": [
    "# 當我們想要用某一張資料表的資料去補充主要資料表的內容時，會使用 left_join\n",
    "# 請參照 left_join 的 help\n",
    "# 讓我們從 flights中抽出前 100 筆資料\n",
    "# 然後「依序」選出 year:day, hour, origin, dest, tailnum, carrier等欄位\n",
    "# 最後和airlines做left_join，將資料存入 flights_info"
   ]
  },
  {
   "cell_type": "code",
   "execution_count": null,
   "metadata": {},
   "outputs": [],
   "source": [
    "# 假如我們想要將 weather 資料表的資訊與 flights_info 的資訊相結合，應該怎麼作呢？"
   ]
  },
  {
   "cell_type": "code",
   "execution_count": null,
   "metadata": {},
   "outputs": [],
   "source": [
    "# 若 沒有設定 by 參數，left_join 會自動搜尋兩張資料表中重複的名稱\n",
    "# 並且假設名稱重複的欄位意義相同，參照名稱重複的欄位進行結合\n",
    "# 請嘗試不要設定 by 參數，然後結合 flights_info 與 weather 資料表"
   ]
  },
  {
   "cell_type": "code",
   "execution_count": null,
   "metadata": {},
   "outputs": [],
   "source": [
    "# 請參照 union、intersect 與 setdiff 等函式的 help\n",
    "# 假如我們想要找出兩張資料表中名稱重複的欄位，應該要用哪個函式？"
   ]
  },
  {
   "cell_type": "code",
   "execution_count": null,
   "metadata": {},
   "outputs": [],
   "source": [
    "# 請觀察 airports 資料表\n",
    "# 假如我們想要結合 flights_info 與 airports 資料表\n",
    "# 應當參照哪個欄位來進行呢？"
   ]
  },
  {
   "cell_type": "code",
   "execution_count": 11,
   "metadata": {},
   "outputs": [
    {
     "name": "stderr",
     "output_type": "stream",
     "text": [
      "Warning message in read.dcf(file.path(p, \"DESCRIPTION\"), c(\"Package\", \"Version\")):\n",
      "\"無法開啟壓縮過的檔案 'C:/Users/User/.conda/envs/R/Lib/R/library/pillar/DESCRIPTION'，可能的原因是 'No such file or directory'\"Warning message in find.package(if (is.null(package)) loadedNamespaces() else package, :\n",
      "\"there is no package called 'pillar'\""
     ]
    }
   ],
   "source": [
    "help(left_join)"
   ]
  },
  {
   "cell_type": "code",
   "execution_count": 12,
   "metadata": {},
   "outputs": [
    {
     "name": "stderr",
     "output_type": "stream",
     "text": [
      "Joining, by = c(\"year\", \"month\", \"day\", \"origin\", \"hour\", \"time_hour\")\n"
     ]
    }
   ],
   "source": [
    "# 練習：\n",
    "# 我們現在要藉由資料表的結合，理解起飛機場的風速對於抵達時間的延遲是否有影響\n",
    "# Step 1\n",
    "# 結合 weather 與 flights 資料表\n",
    "# 最終只留下 wind_speed 與 arr_delay 兩個欄位存入 delay_info\n",
    "# hints: 過程中以 year:day, hour, origin 當成合併的key\n",
    "#        記得要檢查並且清除其中的 NA 或 NaN\n",
    "\n",
    "# head(weather)\n",
    "# head(flights)\n",
    "\n",
    "delay_info <- left_join(flights, weather) %>%\n",
    "select(wind_speed, arr_delay) %>%\n",
    "filter(!is.na(wind_speed), !is.na(arr_delay))"
   ]
  },
  {
   "cell_type": "code",
   "execution_count": 13,
   "metadata": {},
   "outputs": [
    {
     "data": {
      "text/plain": [
       "   wind_speed       arr_delay       \n",
       " Min.   : 0.000   Min.   : -86.000  \n",
       " 1st Qu.: 6.905   1st Qu.: -17.000  \n",
       " Median :10.357   Median :  -5.000  \n",
       " Mean   :11.060   Mean   :   6.885  \n",
       " 3rd Qu.:14.960   3rd Qu.:  14.000  \n",
       " Max.   :42.579   Max.   :1272.000  "
      ]
     },
     "metadata": {},
     "output_type": "display_data"
    }
   ],
   "source": [
    "summary(delay_info)"
   ]
  },
  {
   "cell_type": "code",
   "execution_count": 15,
   "metadata": {},
   "outputs": [
    {
     "data": {
      "text/plain": [
       "\n",
       "       0  3.45234  4.60312   5.7539  6.90468  8.05546  9.20624 10.35702 \n",
       "   11684    11355    17513    21745    25637    28279    29591    26466 \n",
       " 11.5078 12.65858 13.80936 14.96014 16.11092  17.2617 18.41248 19.56326 \n",
       "   27200    23829    20650    18463    14651    12208     9496     7057 \n",
       "20.71404 21.86482  23.0156 24.16638 25.31716 26.46794 27.61872  28.7695 \n",
       "    5590     4050     2476     2358     1509     1062      831      803 \n",
       "29.92028 31.07106 32.22184 33.37262  34.5234 35.67418 36.82496 37.97574 \n",
       "     349      269      175      175      106       61       32       15 \n",
       "39.12652 42.57886 \n",
       "      26       30 "
      ]
     },
     "metadata": {},
     "output_type": "display_data"
    }
   ],
   "source": [
    "table(delay_info$wind_speed)"
   ]
  },
  {
   "cell_type": "code",
   "execution_count": null,
   "metadata": {},
   "outputs": [],
   "source": [
    "# 畫圖觀察 wind_speed 與 arr_delay 的關係\n",
    "\n",
    "# plot(arr_delay~wind_speed, flights_info)\n",
    "# 此函式在 Azure NB 中執行十分耗時，請見現場示範"
   ]
  },
  {
   "cell_type": "code",
   "execution_count": 14,
   "metadata": {
    "scrolled": true
   },
   "outputs": [
    {
     "data": {
      "image/png": "[encoded data removed]",
      "text/plain": [
       "plot without title"
      ]
     },
     "metadata": {},
     "output_type": "display_data"
    }
   ],
   "source": [
    "plot(arr_delay~wind_speed, data=delay_info)"
   ]
  },
  {
   "cell_type": "code",
   "execution_count": null,
   "metadata": {},
   "outputs": [],
   "source": [
    "delay_info <- select(flights, year:day, hour, origin, dest, tailnum, carrier, arr_delay) %>%\n",
    "    left_join(weather) %>%\n",
    "    select(wind_speed, arr_delay) %>%\n",
    "    filter(!is.na(wind_speed), !is.na(arr_delay))"
   ]
  },
  {
   "cell_type": "code",
   "execution_count": null,
   "metadata": {},
   "outputs": [],
   "source": [
    "# 從上面的圖形中會發現 抵達遲延與起飛風速之間的關係似乎有些微妙，難以釐清\n",
    "# 這邊我們要示範一個技巧，就是將連續型變數轉換成為類別型變數後再進行分析\n",
    "# 作法上我們會將風速平均分成若干級 (例如五級) 然後觀察每個級別的風速狀況"
   ]
  },
  {
   "cell_type": "code",
   "execution_count": null,
   "metadata": {},
   "outputs": [],
   "source": [
    "# 請參閱 quantile 函式的 help，並說明 quantile 函式的意義"
   ]
  },
  {
   "cell_type": "code",
   "execution_count": null,
   "metadata": {},
   "outputs": [],
   "source": [
    "# 請參閱 cut 函式的 help 並說明其意義"
   ]
  },
  {
   "cell_type": "code",
   "execution_count": 16,
   "metadata": {},
   "outputs": [
    {
     "data": {
      "text/html": [
       "<ol class=list-inline>\n",
       "\t<li>(10.4,15]</li>\n",
       "\t<li>(10.4,15]</li>\n",
       "\t<li>(10.4,15]</li>\n",
       "\t<li>(10.4,15]</li>\n",
       "\t<li>(15,42.6]</li>\n",
       "\t<li>(10.4,15]</li>\n",
       "</ol>\n",
       "\n",
       "<details>\n",
       "\t<summary style=display:list-item;cursor:pointer>\n",
       "\t\t<strong>Levels</strong>:\n",
       "\t</summary>\n",
       "\t<ol class=list-inline>\n",
       "\t\t<li>'(0,6.9]'</li>\n",
       "\t\t<li>'(6.9,10.4]'</li>\n",
       "\t\t<li>'(10.4,15]'</li>\n",
       "\t\t<li>'(15,42.6]'</li>\n",
       "\t</ol>\n",
       "</details>"
      ],
      "text/latex": [
       "\\begin{enumerate*}\n",
       "\\item (10.4,15{]}\n",
       "\\item (10.4,15{]}\n",
       "\\item (10.4,15{]}\n",
       "\\item (10.4,15{]}\n",
       "\\item (15,42.6{]}\n",
       "\\item (10.4,15{]}\n",
       "\\end{enumerate*}\n",
       "\n",
       "\\emph{Levels}: \\begin{enumerate*}\n",
       "\\item '(0,6.9{]}'\n",
       "\\item '(6.9,10.4{]}'\n",
       "\\item '(10.4,15{]}'\n",
       "\\item '(15,42.6{]}'\n",
       "\\end{enumerate*}\n"
      ],
      "text/markdown": [
       "1. (10.4,15]\n",
       "2. (10.4,15]\n",
       "3. (10.4,15]\n",
       "4. (10.4,15]\n",
       "5. (15,42.6]\n",
       "6. (10.4,15]\n",
       "\n",
       "\n",
       "\n",
       "**Levels**: 1. '(0,6.9]'\n",
       "2. '(6.9,10.4]'\n",
       "3. '(10.4,15]'\n",
       "4. '(15,42.6]'\n",
       "\n",
       "\n"
      ],
      "text/plain": [
       "[1] (10.4,15] (10.4,15] (10.4,15] (10.4,15] (15,42.6] (10.4,15]\n",
       "Levels: (0,6.9] (6.9,10.4] (10.4,15] (15,42.6]"
      ]
     },
     "metadata": {},
     "output_type": "display_data"
    }
   ],
   "source": [
    "# quantile 函數可以找出一群資料中各個分差的值\n",
    "# cut 可以根據給定的分級依據將資料分群\n",
    "# 所以我們可以藉由 cut 以依照 wind_speed 資料分佈的分差來進行分群\n",
    "cut(delay_info$wind_speed, breaks = quantile(delay_info$wind_speed)) %>% head"
   ]
  },
  {
   "cell_type": "code",
   "execution_count": 17,
   "metadata": {},
   "outputs": [],
   "source": [
    "# 這邊我們可以用 mutate 將分級資料納入 delay_info 中\n",
    "delay_info <- mutate(delay_info, wind_level = cut(wind_speed, breaks = quantile(wind_speed)))"
   ]
  },
  {
   "cell_type": "code",
   "execution_count": 18,
   "metadata": {
    "scrolled": true
   },
   "outputs": [
    {
     "data": {
      "image/png": "[encoded data removed]",
      "text/plain": [
       "plot without title"
      ]
     },
     "metadata": {},
     "output_type": "display_data"
    }
   ],
   "source": [
    "# 觀察各級風速對於抵達延遲的影響\n",
    "plot(arr_delay~wind_level, data = delay_info)"
   ]
  },
  {
   "cell_type": "code",
   "execution_count": 19,
   "metadata": {
    "scrolled": true
   },
   "outputs": [
    {
     "data": {
      "image/png": "[encoded data removed]",
      "text/plain": [
       "plot without title"
      ]
     },
     "metadata": {},
     "output_type": "display_data"
    }
   ],
   "source": [
    "# 上述圖表會發現許多離群值，所以我們稍微修改圖形的範圍進行觀察\n",
    "plot(arr_delay~wind_level, data = delay_info, ylim = c(-100, 100))"
   ]
  },
  {
   "cell_type": "code",
   "execution_count": 20,
   "metadata": {},
   "outputs": [
    {
     "name": "stderr",
     "output_type": "stream",
     "text": [
      "Warning message:\n",
      "\"Factor `wind_level` contains implicit NA, consider using `forcats::fct_explicit_na`\""
     ]
    },
    {
     "data": {
      "text/html": [
       "<table>\n",
       "<thead><tr><th scope=col>wind_level</th><th scope=col>mean(arr_delay)</th></tr></thead>\n",
       "<tbody>\n",
       "\t<tr><td>(0,6.9]   </td><td> 3.729770 </td></tr>\n",
       "\t<tr><td>(6.9,10.4]</td><td> 6.022600 </td></tr>\n",
       "\t<tr><td>(10.4,15] </td><td> 7.556943 </td></tr>\n",
       "\t<tr><td>(15,42.6] </td><td>11.546464 </td></tr>\n",
       "\t<tr><td>NA        </td><td> 3.262581 </td></tr>\n",
       "</tbody>\n",
       "</table>\n"
      ],
      "text/latex": [
       "\\begin{tabular}{r|ll}\n",
       " wind\\_level & mean(arr\\_delay)\\\\\n",
       "\\hline\n",
       "\t (0,6.9{]}    &  3.729770   \\\\\n",
       "\t (6.9,10.4{]} &  6.022600   \\\\\n",
       "\t (10.4,15{]}  &  7.556943   \\\\\n",
       "\t (15,42.6{]}  & 11.546464   \\\\\n",
       "\t NA         &  3.262581 \\\\\n",
       "\\end{tabular}\n"
      ],
      "text/markdown": [
       "\n",
       "| wind_level | mean(arr_delay) |\n",
       "|---|---|\n",
       "| (0,6.9]    |  3.729770  |\n",
       "| (6.9,10.4] |  6.022600  |\n",
       "| (10.4,15]  |  7.556943  |\n",
       "| (15,42.6]  | 11.546464  |\n",
       "| NA         |  3.262581  |\n",
       "\n"
      ],
      "text/plain": [
       "  wind_level mean(arr_delay)\n",
       "1 (0,6.9]     3.729770      \n",
       "2 (6.9,10.4]  6.022600      \n",
       "3 (10.4,15]   7.556943      \n",
       "4 (15,42.6]  11.546464      \n",
       "5 NA          3.262581      "
      ]
     },
     "metadata": {},
     "output_type": "display_data"
    }
   ],
   "source": [
    "# 然後我們計算每級風速的平均抵達延遲\n",
    "delay_info %>% group_by(wind_level) %>%\n",
    "summarize(mean(arr_delay))"
   ]
  },
  {
   "cell_type": "code",
   "execution_count": null,
   "metadata": {},
   "outputs": [],
   "source": [
    "# 疑？怎麼會有 NA 應該如何解決？\n",
    "# NA is actually 0\n",
    "\n",
    "# hints: 請參照 cut 的 help 修改上述程式以解決 NA 的問題\n",
    "\n",
    "# delay_info %>% group_by(wind_level) %>%\n",
    "# summarize(mean(arr_delay))"
   ]
  },
  {
   "cell_type": "code",
   "execution_count": 29,
   "metadata": {},
   "outputs": [
    {
     "name": "stderr",
     "output_type": "stream",
     "text": [
      "Joining, by = c(\"year\", \"month\", \"day\", \"hour\", \"origin\")\n"
     ]
    }
   ],
   "source": [
    "# 翻轉教室中有提供另一種解決 NA 問題的方法\n",
    "\n",
    "delay_info2 <- select(flights, year:day, hour, origin, dest, tailnum, carrier, arr_delay) %>%\n",
    "left_join(weather) %>%\n",
    "select(wind_speed, arr_delay) %>%\n",
    "filter(!is.na(wind_speed), !is.na(arr_delay))\n",
    "\n"
   ]
  },
  {
   "cell_type": "code",
   "execution_count": 30,
   "metadata": {},
   "outputs": [
    {
     "data": {
      "text/html": [
       "<dl class=dl-horizontal>\n",
       "\t<dt>0%</dt>\n",
       "\t\t<dd>0</dd>\n",
       "\t<dt>25%</dt>\n",
       "\t\t<dd>6.90468</dd>\n",
       "\t<dt>50%</dt>\n",
       "\t\t<dd>10.35702</dd>\n",
       "\t<dt>75%</dt>\n",
       "\t\t<dd>14.96014</dd>\n",
       "\t<dt>100%</dt>\n",
       "\t\t<dd>42.57886</dd>\n",
       "</dl>\n"
      ],
      "text/latex": [
       "\\begin{description*}\n",
       "\\item[0\\textbackslash{}\\%] 0\n",
       "\\item[25\\textbackslash{}\\%] 6.90468\n",
       "\\item[50\\textbackslash{}\\%] 10.35702\n",
       "\\item[75\\textbackslash{}\\%] 14.96014\n",
       "\\item[100\\textbackslash{}\\%] 42.57886\n",
       "\\end{description*}\n"
      ],
      "text/markdown": [
       "0%\n",
       ":   025%\n",
       ":   6.9046850%\n",
       ":   10.3570275%\n",
       ":   14.96014100%\n",
       ":   42.57886\n",
       "\n"
      ],
      "text/plain": [
       "      0%      25%      50%      75%     100% \n",
       " 0.00000  6.90468 10.35702 14.96014 42.57886 "
      ]
     },
     "metadata": {},
     "output_type": "display_data"
    }
   ],
   "source": [
    "lvls = quantile(delay_info2$wind_speed)\n",
    "lvls"
   ]
  },
  {
   "cell_type": "code",
   "execution_count": null,
   "metadata": {},
   "outputs": [],
   "source": [
    "mutate(delay_info2, wind_level = cut(wind_speed, breaks = c(lvls[1] - 1e-5, tail(lvls, -1)))) %>%\n",
    "group_by(wind_level) %>%\n",
    "summarise(mean(arr_delay))"
   ]
  },
  {
   "cell_type": "code",
   "execution_count": null,
   "metadata": {},
   "outputs": [],
   "source": [
    "# 試比較兩種做法有何不同？"
   ]
  },
  {
   "cell_type": "code",
   "execution_count": 33,
   "metadata": {},
   "outputs": [
    {
     "data": {
      "text/html": [
       "<dl class=dl-horizontal>\n",
       "\t<dt>0%</dt>\n",
       "\t\t<dd>0</dd>\n",
       "\t<dt>10%</dt>\n",
       "\t\t<dd>4.60312</dd>\n",
       "\t<dt>20%</dt>\n",
       "\t\t<dd>6.90468</dd>\n",
       "\t<dt>30%</dt>\n",
       "\t\t<dd>8.05546</dd>\n",
       "\t<dt>40%</dt>\n",
       "\t\t<dd>9.20624</dd>\n",
       "\t<dt>50%</dt>\n",
       "\t\t<dd>10.35702</dd>\n",
       "\t<dt>60%</dt>\n",
       "\t\t<dd>11.5078</dd>\n",
       "\t<dt>70%</dt>\n",
       "\t\t<dd>13.80936</dd>\n",
       "\t<dt>80%</dt>\n",
       "\t\t<dd>14.96014</dd>\n",
       "\t<dt>90%</dt>\n",
       "\t\t<dd>18.41248</dd>\n",
       "\t<dt>100%</dt>\n",
       "\t\t<dd>42.57886</dd>\n",
       "</dl>\n"
      ],
      "text/latex": [
       "\\begin{description*}\n",
       "\\item[0\\textbackslash{}\\%] 0\n",
       "\\item[10\\textbackslash{}\\%] 4.60312\n",
       "\\item[20\\textbackslash{}\\%] 6.90468\n",
       "\\item[30\\textbackslash{}\\%] 8.05546\n",
       "\\item[40\\textbackslash{}\\%] 9.20624\n",
       "\\item[50\\textbackslash{}\\%] 10.35702\n",
       "\\item[60\\textbackslash{}\\%] 11.5078\n",
       "\\item[70\\textbackslash{}\\%] 13.80936\n",
       "\\item[80\\textbackslash{}\\%] 14.96014\n",
       "\\item[90\\textbackslash{}\\%] 18.41248\n",
       "\\item[100\\textbackslash{}\\%] 42.57886\n",
       "\\end{description*}\n"
      ],
      "text/markdown": [
       "0%\n",
       ":   010%\n",
       ":   4.6031220%\n",
       ":   6.9046830%\n",
       ":   8.0554640%\n",
       ":   9.2062450%\n",
       ":   10.3570260%\n",
       ":   11.507870%\n",
       ":   13.8093680%\n",
       ":   14.9601490%\n",
       ":   18.41248100%\n",
       ":   42.57886\n",
       "\n"
      ],
      "text/plain": [
       "      0%      10%      20%      30%      40%      50%      60%      70% \n",
       " 0.00000  4.60312  6.90468  8.05546  9.20624 10.35702 11.50780 13.80936 \n",
       "     80%      90%     100% \n",
       "14.96014 18.41248 42.57886 "
      ]
     },
     "metadata": {},
     "output_type": "display_data"
    }
   ],
   "source": [
    "# 延伸練習：\n",
    "# 假如風速希望可以分成十級，應該如何進行呢？\n",
    "\n",
    "# help(cut)\n",
    "# c = cut(delay_info$wind_speed, breaks=c(1:10)) %>% group_by(wind_level)\n",
    "\n",
    "quantile(delay_info2$wind_speed, probs=seq(0, 1, 0.1))"
   ]
  },
  {
   "cell_type": "code",
   "execution_count": 31,
   "metadata": {},
   "outputs": [
    {
     "name": "stderr",
     "output_type": "stream",
     "text": [
      "Warning message in read.dcf(file.path(p, \"DESCRIPTION\"), c(\"Package\", \"Version\")):\n",
      "\"無法開啟壓縮過的檔案 'C:/Users/User/.conda/envs/R/Lib/R/library/pillar/DESCRIPTION'，可能的原因是 'No such file or directory'\"Warning message in find.package(if (is.null(package)) loadedNamespaces() else package, :\n",
      "\"there is no package called 'pillar'\""
     ]
    }
   ],
   "source": [
    "help(quantile)"
   ]
  },
  {
   "cell_type": "code",
   "execution_count": null,
   "metadata": {},
   "outputs": [],
   "source": [
    "# 延伸練習：\n",
    "# 假如出發機場的風速對於出發延遲的影響，應該如何進行呢？"
   ]
  },
  {
   "cell_type": "code",
   "execution_count": null,
   "metadata": {},
   "outputs": [],
   "source": [
    "# 假如我們希望比較目的地機場的風速對於抵達遲延的影響，有可能嗎？\n",
    "# 如果不行？為什麼不行？"
   ]
  }
 ],
 "metadata": {
  "kernelspec": {
   "display_name": "R",
   "language": "R",
   "name": "ir"
  },
  "language_info": {
   "codemirror_mode": "r",
   "file_extension": ".r",
   "mimetype": "text/x-r-source",
   "name": "R",
   "pygments_lexer": "r",
   "version": "3.6.1"
  }
 },
 "nbformat": 4,
 "nbformat_minor": 2
}
