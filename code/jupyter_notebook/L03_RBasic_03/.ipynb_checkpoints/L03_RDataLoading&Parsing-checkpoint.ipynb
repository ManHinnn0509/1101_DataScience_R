{
 "cells": [
  {
   "cell_type": "markdown",
   "metadata": {
    "collapsed": true
   },
   "source": [
    "以下教材部分出自 Wush Wu 所編寫之 R 語言翻轉教室\n",
    "\n",
    "R 支援各式各樣的資料載入方式\n",
    "\n",
    "這個章節將介紹最普遍與基礎的方式\n",
    "\n",
    "讓同學可以將 csv、json 以及儲存在資料庫中的資料載入 R 環境"
   ]
  },
  {
   "cell_type": "markdown",
   "metadata": {},
   "source": [
    "csv 文件的背景請參照 https://tinyurl.com/csv-wiki-tch\n",
    "\n",
    "csv 本質是一種文字檔案\n",
    "\n",
    "其格式是以行(Line)為單位。每一行(Line)就是一筆紀錄(Record)\n",
    "\n",
    "每一筆紀錄中，以一個分隔符號來讓使用者或程式分辨欄位\n",
    "\n",
    "常見的分隔符號有： tab 或逗號 \n",
    "\n",
    "若以逗號做為分隔符號，則學生姓名加上4次小考分數的一筆紀錄，可用CSV表達如下：\n",
    "\n",
    "王小明,77,58,61,92"
   ]
  },
  {
   "cell_type": "code",
   "execution_count": 1,
   "metadata": {},
   "outputs": [
    {
     "data": {
      "text/html": [
       "<table>\n",
       "<thead><tr><th scope=col>Sepal.Length</th><th scope=col>Sepal.Width</th><th scope=col>Petal.Length</th><th scope=col>Petal.Width</th><th scope=col>Species</th></tr></thead>\n",
       "<tbody>\n",
       "\t<tr><td>5.1   </td><td>3.5   </td><td>1.4   </td><td>0.2   </td><td>setosa</td></tr>\n",
       "\t<tr><td>4.9   </td><td>3.0   </td><td>1.4   </td><td>0.2   </td><td>setosa</td></tr>\n",
       "\t<tr><td>4.7   </td><td>3.2   </td><td>1.3   </td><td>0.2   </td><td>setosa</td></tr>\n",
       "\t<tr><td>4.6   </td><td>3.1   </td><td>1.5   </td><td>0.2   </td><td>setosa</td></tr>\n",
       "\t<tr><td>5.0   </td><td>3.6   </td><td>1.4   </td><td>0.2   </td><td>setosa</td></tr>\n",
       "\t<tr><td>5.4   </td><td>3.9   </td><td>1.7   </td><td>0.4   </td><td>setosa</td></tr>\n",
       "</tbody>\n",
       "</table>\n"
      ],
      "text/latex": [
       "\\begin{tabular}{r|lllll}\n",
       " Sepal.Length & Sepal.Width & Petal.Length & Petal.Width & Species\\\\\n",
       "\\hline\n",
       "\t 5.1    & 3.5    & 1.4    & 0.2    & setosa\\\\\n",
       "\t 4.9    & 3.0    & 1.4    & 0.2    & setosa\\\\\n",
       "\t 4.7    & 3.2    & 1.3    & 0.2    & setosa\\\\\n",
       "\t 4.6    & 3.1    & 1.5    & 0.2    & setosa\\\\\n",
       "\t 5.0    & 3.6    & 1.4    & 0.2    & setosa\\\\\n",
       "\t 5.4    & 3.9    & 1.7    & 0.4    & setosa\\\\\n",
       "\\end{tabular}\n"
      ],
      "text/markdown": [
       "\n",
       "| Sepal.Length | Sepal.Width | Petal.Length | Petal.Width | Species |\n",
       "|---|---|---|---|---|\n",
       "| 5.1    | 3.5    | 1.4    | 0.2    | setosa |\n",
       "| 4.9    | 3.0    | 1.4    | 0.2    | setosa |\n",
       "| 4.7    | 3.2    | 1.3    | 0.2    | setosa |\n",
       "| 4.6    | 3.1    | 1.5    | 0.2    | setosa |\n",
       "| 5.0    | 3.6    | 1.4    | 0.2    | setosa |\n",
       "| 5.4    | 3.9    | 1.7    | 0.4    | setosa |\n",
       "\n"
      ],
      "text/plain": [
       "  Sepal.Length Sepal.Width Petal.Length Petal.Width Species\n",
       "1 5.1          3.5         1.4          0.2         setosa \n",
       "2 4.9          3.0         1.4          0.2         setosa \n",
       "3 4.7          3.2         1.3          0.2         setosa \n",
       "4 4.6          3.1         1.5          0.2         setosa \n",
       "5 5.0          3.6         1.4          0.2         setosa \n",
       "6 5.4          3.9         1.7          0.4         setosa "
      ]
     },
     "metadata": {},
     "output_type": "display_data"
    }
   ],
   "source": [
    "# 請嘗試下列指令 將 csv 檔案載入環境\n",
    "iris2 = read.csv(\"data/iris_text.csv\")\n",
    "head(iris2)"
   ]
  },
  {
   "cell_type": "code",
   "execution_count": null,
   "metadata": {},
   "outputs": [],
   "source": [
    "# 請嘗試下列指令 將 csv 檔案載入環境\n",
    "land = read.csv(\"data/land-big5.CSV\")\n",
    "head(land)"
   ]
  },
  {
   "cell_type": "code",
   "execution_count": 5,
   "metadata": {},
   "outputs": [
    {
     "name": "stderr",
     "output_type": "stream",
     "text": [
      "Warning message in read.table(file = file, header = header, sep = sep, quote = quote, :\n",
      "\"輸入連結 'data/land-big5.CSV' 中的輸入不正確\"Warning message in read.table(file = file, header = header, sep = sep, quote = quote, :\n",
      "\"line 1 appears to contain embedded nulls\"Warning message in read.table(file = file, header = header, sep = sep, quote = quote, :\n",
      "\"incomplete final line found by readTableHeader on 'data/land-big5.CSV'\""
     ]
    },
    {
     "ename": "ERROR",
     "evalue": "Error in read.table(file = file, header = header, sep = sep, quote = quote, : empty beginning of file\n",
     "output_type": "error",
     "traceback": [
      "Error in read.table(file = file, header = header, sep = sep, quote = quote, : empty beginning of file\nTraceback:\n",
      "1. read.csv(\"data/land-big5.CSV\", fileEncoding = \"utf8\")",
      "2. read.table(file = file, header = header, sep = sep, quote = quote, \n .     dec = dec, fill = fill, comment.char = comment.char, ...)",
      "3. stop(\"empty beginning of file\")"
     ]
    }
   ],
   "source": [
    "# 在載入中文檔案時，需要設定其編碼\n",
    "# 中文檔案常用的編碼有 utf8 與 big5 兩種\n",
    "\n",
    "# land = read.csv(\"data/land-big5.CSV\", fileEncoding = \"big5\")\n",
    "# head(land)\n",
    "\n",
    "# Change big5 to utf-8 -> error\n",
    "land = read.csv(\"data/land-big5.CSV\", fileEncoding = \"utf8\")\n",
    "head(land)"
   ]
  },
  {
   "cell_type": "code",
   "execution_count": 6,
   "metadata": {},
   "outputs": [
    {
     "data": {
      "text/plain": [
       " [1] b6 6d c2 ed a5 ab b0 cf 2c a5 e6 a9 f6 bc d0 aa ba 2c a4 67 a6 61 b0 cf ac\n",
       "[26] 71 a6 ec b8 6d"
      ]
     },
     "metadata": {},
     "output_type": "display_data"
    }
   ],
   "source": [
    "# 但是有時候仍然會有不知道檔案是什麼編碼因此無法載入的狀況\n",
    "# 這時候就需要先把一部分資料載入並且偵測其編碼才能繼續進行\n",
    "data.raw = readBin(\"data/land-big5.CSV\", what = \"raw\", n = 30)\n",
    "data.raw"
   ]
  },
  {
   "cell_type": "code",
   "execution_count": 7,
   "metadata": {},
   "outputs": [
    {
     "data": {
      "text/html": [
       "<ol>\n",
       "\t<li><table>\n",
       "<thead><tr><th scope=col>Encoding</th><th scope=col>Language</th><th scope=col>Confidence</th></tr></thead>\n",
       "<tbody>\n",
       "\t<tr><td>Big5      </td><td>zh        </td><td>0.88      </td></tr>\n",
       "\t<tr><td>ISO-8859-7</td><td>el        </td><td>0.22      </td></tr>\n",
       "\t<tr><td>IBM420_ltr</td><td>ar        </td><td>0.18      </td></tr>\n",
       "\t<tr><td>ISO-8859-1</td><td>en        </td><td>0.11      </td></tr>\n",
       "\t<tr><td>UTF-16BE  </td><td>          </td><td>0.10      </td></tr>\n",
       "\t<tr><td>UTF-16LE  </td><td>          </td><td>0.10      </td></tr>\n",
       "\t<tr><td>Shift_JIS </td><td>ja        </td><td>0.10      </td></tr>\n",
       "\t<tr><td>GB18030   </td><td>zh        </td><td>0.10      </td></tr>\n",
       "</tbody>\n",
       "</table>\n",
       "</li>\n",
       "</ol>\n"
      ],
      "text/latex": [
       "\\begin{enumerate}\n",
       "\\item \\begin{tabular}{r|lll}\n",
       " Encoding & Language & Confidence\\\\\n",
       "\\hline\n",
       "\t Big5       & zh         & 0.88      \\\\\n",
       "\t ISO-8859-7 & el         & 0.22      \\\\\n",
       "\t IBM420\\_ltr & ar           & 0.18        \\\\\n",
       "\t ISO-8859-1 & en         & 0.11      \\\\\n",
       "\t UTF-16BE   &            & 0.10      \\\\\n",
       "\t UTF-16LE   &            & 0.10      \\\\\n",
       "\t Shift\\_JIS  & ja           & 0.10        \\\\\n",
       "\t GB18030    & zh         & 0.10      \\\\\n",
       "\\end{tabular}\n",
       "\n",
       "\\end{enumerate}\n"
      ],
      "text/markdown": [
       "1. \n",
       "| Encoding | Language | Confidence |\n",
       "|---|---|---|\n",
       "| Big5       | zh         | 0.88       |\n",
       "| ISO-8859-7 | el         | 0.22       |\n",
       "| IBM420_ltr | ar         | 0.18       |\n",
       "| ISO-8859-1 | en         | 0.11       |\n",
       "| UTF-16BE   |            | 0.10       |\n",
       "| UTF-16LE   |            | 0.10       |\n",
       "| Shift_JIS  | ja         | 0.10       |\n",
       "| GB18030    | zh         | 0.10       |\n",
       "\n",
       "\n",
       "\n",
       "\n"
      ],
      "text/plain": [
       "[[1]]\n",
       "    Encoding Language Confidence\n",
       "1       Big5       zh       0.88\n",
       "2 ISO-8859-7       el       0.22\n",
       "3 IBM420_ltr       ar       0.18\n",
       "4 ISO-8859-1       en       0.11\n",
       "5   UTF-16BE                0.10\n",
       "6   UTF-16LE                0.10\n",
       "7  Shift_JIS       ja       0.10\n",
       "8    GB18030       zh       0.10\n"
      ]
     },
     "metadata": {},
     "output_type": "display_data"
    }
   ],
   "source": [
    "stringi::stri_enc_detect(data.raw)"
   ]
  },
  {
   "cell_type": "code",
   "execution_count": 39,
   "metadata": {},
   "outputs": [
    {
     "name": "stdout",
     "output_type": "stream",
     "text": [
      "data/land-ule.CSV \n",
      "ff fe 09 91 ae 93 02 5e 40 53\n",
      "\n",
      "data/land-ube.CSV \n",
      "fe ff 91 09 93 ae 5e 02 53 40\n",
      "\n",
      "data/land-utf8.csv \n",
      "e9 84 89 e9 8e ae e5 b8 82 e5\n",
      "\n",
      "data/land-utf8-bom.csv \n",
      "ef bb bf e9 84 89 e9 8e ae e5\n",
      "\n"
     ]
    }
   ],
   "source": [
    "# 請各位嘗試利用上面教授的編碼偵測方式\n",
    "# 將 land-ule.CSV、land-ube.CSV、land-utf8.CSV、land-utf8-bom.CSV\n",
    "# 載入環境中\n",
    "\n",
    "files = c(\n",
    "    'data/land-ule.CSV',\n",
    "    'data/land-ube.CSV',\n",
    "    'data/land-utf8.csv',\n",
    "    'data/land-utf8-bom.csv'\n",
    ")\n",
    "\n",
    "for (f in files) {\n",
    "    cat(f, '\\n')\n",
    "    raw <- readBin(f, what='raw', n=10)\n",
    "    cat(raw)\n",
    "    cat('\\n\\n')\n",
    "}\n",
    "\n",
    "# ule = readBin('data/land-ule.CSV', what='raw', n=30)\n",
    "# stringi::stri_enc_detect(ule)\n",
    "\n",
    "# ube = readBin('data/land-ube.CSV', what='raw', n=30)\n",
    "# stringi::stri_enc_detect(ube)\n",
    "\n",
    "# utf8 = readBin('data/land-utf8.csv', what='raw', n=30)\n",
    "# stringi::stri_enc_detect(utf8)\n",
    "\n",
    "# utf8bom = readBin('data/land-utf8-bom.csv', what='raw', n=30)\n",
    "# stringi::stri_enc_detect(utf8bom)"
   ]
  },
  {
   "cell_type": "code",
   "execution_count": null,
   "metadata": {},
   "outputs": [],
   "source": [
    "# 利用上述的 readBin 指令，我們可以自行辨識帶有 BOM 檔頭的檔案\n",
    "# 所謂的 BOM 就是 Byte-Order Mark \n",
    "# 各位可以參照 https://tinyurl.com/wiki-bom-tch\n",
    "# 請各位嘗試用 readBin 指令辨識\n",
    "# land-ule.CSV、land-ube.CSV、land-utf8.CSV、land-utf8-bom.CSV\n",
    "# 四個檔案的擋頭"
   ]
  },
  {
   "cell_type": "markdown",
   "metadata": {},
   "source": [
    "接下來我們嘗試針對讀取出來的資料，進行字串上的處理"
   ]
  },
  {
   "cell_type": "code",
   "execution_count": 11,
   "metadata": {},
   "outputs": [
    {
     "data": {
      "text/plain": [
       "[1] 59 45 41"
      ]
     },
     "metadata": {},
     "output_type": "display_data"
    },
    {
     "data": {
      "text/plain": [
       "[1] 59 45 41"
      ]
     },
     "metadata": {},
     "output_type": "display_data"
    }
   ],
   "source": [
    "# 請嘗試用先前介紹的方法，讀取 \"data/DataGov25511.csv\" 的 BOM\n",
    "# 並且判斷編碼\n",
    "\n",
    "# Kinda like:\n",
    "# https://medium.com/@kevinhsu_83500/r-learning-notes-parsing-%E5%AD%97%E4%B8%B2%E8%99%95%E7%90%86-587264518581\n",
    "\n",
    "raw = readBin('data/DataGov25511.csv', what='raw', n=3)\n",
    "\n",
    "raw\n",
    "head(raw)\n",
    "\n",
    "# Result: no header (?)\n",
    "# 無法判斷編碼"
   ]
  },
  {
   "cell_type": "code",
   "execution_count": null,
   "metadata": {},
   "outputs": [],
   "source": [
    "# 無法從 BOM 判斷編碼時，只能嘗試幾種常見的編碼如 BIG5 或 UTF-8\n",
    "# 政府公開資料檔案上宣稱該檔案為 UTF-8 編碼\n",
    "\n",
    "# ERROR\n",
    "# readLines(file(\"data/DataGov25511.csv\", encoding = \"UTF-8\"))\n",
    "\n",
    "# NO ERROR. WORKS FINE\n",
    "# readLines(file(\"data/DataGov25511.csv\", encoding = \"big5\"))\n",
    "\n",
    "# Dont load.\n",
    "# This will cause error in JupyterNotebook"
   ]
  },
  {
   "cell_type": "code",
   "execution_count": 10,
   "metadata": {},
   "outputs": [
    {
     "data": {
      "text/html": [
       "'character'"
      ],
      "text/latex": [
       "'character'"
      ],
      "text/markdown": [
       "'character'"
      ],
      "text/plain": [
       "[1] \"character\""
      ]
     },
     "metadata": {},
     "output_type": "display_data"
    }
   ],
   "source": [
    "# 確定編碼之後，就可以順利將這個檔案讀取出來\n",
    "# 請將表格讀出存入 hospital 變數中，並且以 head 觀察資料\n",
    "\n",
    "# --- GG\n",
    "# 5G JM9\n",
    "\n",
    "hospital <- readLines(file(\"data/DataGov25511.csv\", encoding = \"big5\"))\n",
    "# hospital <- head(hospital)\n",
    "# hospital\n"
   ]
  },
  {
   "cell_type": "code",
   "execution_count": 3,
   "metadata": {},
   "outputs": [
    {
     "ename": "ERROR",
     "evalue": "Error in hospital$YEARYY: $ operator is invalid for atomic vectors\n",
     "output_type": "error",
     "traceback": [
      "Error in hospital$YEARYY: $ operator is invalid for atomic vectors\nTraceback:\n",
      "1. substring(head(hospital$YEARYY), 1, 3)",
      "2. head(hospital$YEARYY)"
     ]
    }
   ],
   "source": [
    "# 觀察資料中的 YEARYY，YEARYY 是什麼資料型態？包含了哪些資訊？\n",
    "# 假如單獨只想要年份資訊，可以怎麼做呢？\n",
    "# 請參閱 substring 函式的說明並執行下列程式碼\n",
    "substring(head(hospital$YEARYY), 1, 3)"
   ]
  },
  {
   "cell_type": "code",
   "execution_count": null,
   "metadata": {},
   "outputs": [],
   "source": [
    "# 不過由於年份可能是兩位或三位，substring 本身並不夠用\n",
    "# 我們需要更強的工具，請參閱 strsplit 的 help"
   ]
  },
  {
   "cell_type": "markdown",
   "metadata": {},
   "source": [
    "`strsplit`會利用`split`參數來切割`x`字串，並回傳一個`list`。\n",
    "\n",
    "回傳 list 的原因次，`x` 可能包含多個字串\n",
    "\n",
    "而`strsplit`會用`split`去切割每一個`x` 中的每一個字串\n",
    "\n",
    "而切割出來的結果，第一個字串可能切出兩段，但是第二個字串可能切出三段\n",
    "\n",
    "所以R 使用`list`這個結構來處理"
   ]
  },
  {
   "cell_type": "code",
   "execution_count": 5,
   "metadata": {},
   "outputs": [
    {
     "ename": "ERROR",
     "evalue": "Error in hospital$YEARYY: $ operator is invalid for atomic vectors\n",
     "output_type": "error",
     "traceback": [
      "Error in hospital$YEARYY: $ operator is invalid for atomic vectors\nTraceback:\n"
     ]
    }
   ],
   "source": [
    "# `strsplit` 不接受 factor 參數，只接受字串向量，需要先將 factor 轉成 字串\n",
    "yearyy <- as.character(hospital$YEARYY)\n",
    "tmp <- tmp <- strsplit(yearyy, \"Q\")\n",
    "\n",
    "tmp"
   ]
  },
  {
   "cell_type": "code",
   "execution_count": null,
   "metadata": {},
   "outputs": [],
   "source": [
    "# 觀察 tmp，可以發現我們想要的年份，在每個 list 中的第一個元素裡\n",
    "# 所以我們要先用 [[ 拿出第一個 list 中的字串向量，而這個向量的第一個字串就是第一筆資料的年份\n",
    "# 依此類推，我們就可以嘗試取出所有的年份資料"
   ]
  },
  {
   "cell_type": "code",
   "execution_count": null,
   "metadata": {},
   "outputs": [],
   "source": [
    "# 很明顯，我們需要一個可以對 list 中每一個元素進行相同操作的方法\n",
    "# 請參照 lapply 函式的 help"
   ]
  },
  {
   "cell_type": "markdown",
   "metadata": {},
   "source": [
    "lapply 是 R 的重要函式，也是決定是否真正學會 R 語言的第一個關鍵\n",
    "\n",
    "lapply 的第一個參數 `X`通常是一個vector，第二個參數`FUN`則是代表一種「動作」\n",
    "\n",
    "lapply會對 `X`中的每一個元素進行 `FUN`所定義的動作，並且把結果彙整傳回"
   ]
  },
  {
   "cell_type": "code",
   "execution_count": 22,
   "metadata": {},
   "outputs": [],
   "source": [
    "# Weird shits\n",
    "\n",
    "a = 1:5\n",
    "a[1]\n",
    "`[`(a, 1)\n",
    "\n",
    "# [ <- This is also a function"
   ]
  },
  {
   "cell_type": "code",
   "execution_count": 27,
   "metadata": {},
   "outputs": [],
   "source": [
    "vl <- list(1:5, 101:105, 1001:1005)\n",
    "vl\n",
    "\n",
    "# lapply(obj, action / function)\n",
    "lapply(vl, mean)\n",
    "# Perform mean() to every element in vl"
   ]
  },
  {
   "cell_type": "code",
   "execution_count": 26,
   "metadata": {},
   "outputs": [],
   "source": [
    "# 很明顯，我們想要對 tmp 這個 list 中的每個字串向量做 [1] 的動作\n",
    "# 但是 `lapply(tmp, [1])` 並不合乎語法規則\n",
    "# 在 R 中，所有的動作都是一種函數，[1] 在 R 中其實是一個名為 `[` 的函數，參數為 1\n",
    "# 請嘗試執行下列程式碼\n",
    "`[`(tmp, 1)\n",
    "# 同理 [[1]] 是一個名為 `[[` 的函數，參數為 1\n",
    "`[[`(tmp, 1)\n",
    "`[`(tmp[[1]], 1)"
   ]
  },
  {
   "cell_type": "code",
   "execution_count": null,
   "metadata": {},
   "outputs": [],
   "source": [
    "# 在此基礎上，我們就可以使用 lapply 來取出 tmp 這個 list 中每個字串向量的第一個字串\n",
    "lapply(tmp, \"[\", 1)"
   ]
  },
  {
   "cell_type": "code",
   "execution_count": null,
   "metadata": {},
   "outputs": [],
   "source": [
    "# 那假如我們要的資訊不是年份，而是季度，又該如何行呢？"
   ]
  },
  {
   "cell_type": "markdown",
   "metadata": {},
   "source": [
    "參照說明，lapply 中除了 `X` 和 `FUN` 兩個參數外，還有 `...` 這個參數\n",
    "\n",
    "這因為 `lapply` 並不清楚執行 `FUN` 需要什麼樣的參數，所以使用者可以在指定`X`和`FUN`之後，放入任意的參數，而這些參數並不是由 `lapply` 所使用，而是由 `FUN` 所使用，例如 `lapply(tmp, \"[\", 1)` 中的第三個參數`1`就會透過`lapply`轉交給`[`，如此一來，R 就可以知道要從`tmp`的每個元素中拿出第 1 個元素。"
   ]
  },
  {
   "cell_type": "code",
   "execution_count": null,
   "metadata": {},
   "outputs": [],
   "source": [
    "# lapply 輸出的結果還是一個 list，可以藉由 unlist 將 list 的包裝拆去\n",
    "tmp2 <- lapply(tmp, \"[\", 1)\n",
    "year <- unlist(tmp2)"
   ]
  },
  {
   "cell_type": "code",
   "execution_count": null,
   "metadata": {},
   "outputs": [],
   "source": [
    "# 此外，請參照 sapply 的 help\n",
    "# 請各位試試看，用相同的語法，但是以 sapply 取代 lapply 會如何"
   ]
  },
  {
   "cell_type": "markdown",
   "metadata": {},
   "source": [
    "練習，請依照指示完成資料處理"
   ]
  },
  {
   "cell_type": "code",
   "execution_count": null,
   "metadata": {},
   "outputs": [],
   "source": [
    "# 這是從 <http://data.gov.tw/node/7769> 下載的海盜通報資料，\n",
    "# 由於這份文件並沒有遵循任何已知的常見格式，\n",
    "# 所以我們必須要利用這個章節中所學的技巧，\n",
    "# 才能從中萃取出資訊。\n",
    "# 首先，先將該檔案載入到R 之中。\n",
    "# pirate_info <- readLines(file(\"data/pirate-info-2015-09.txt\", encoding = ??))\n"
   ]
  },
  {
   "cell_type": "code",
   "execution_count": null,
   "metadata": {},
   "outputs": [],
   "source": [
    "# 接著我們要將經緯度從這份資料中萃取出來，\n",
    "# 這份資料的格式，可以用`：`分割出資料的欄位與內容，\n",
    "# 請同學利用`strsplit`將`pirate_info`進行切割，\n",
    "# 並將結果儲存到`pirate_info_key_value`之中。"
   ]
  },
  {
   "cell_type": "code",
   "execution_count": null,
   "metadata": {},
   "outputs": [],
   "source": [
    "# 我們需要的欄位名稱是「經緯度」，\n",
    "# 請同學先把`pirate_info_key_value`中每個元素（這些元素均為字串向量）的第一個值取出，\n",
    "# 你的答案應該要為字串向量。"
   ]
  },
  {
   "cell_type": "code",
   "execution_count": null,
   "metadata": {},
   "outputs": [],
   "source": [
    "# 我們將`pirate_info_key`和`\"經緯度\"`做比較後，把結果存到變數`pirate_is_coordinate`中，\n",
    "# 結果應該為一個布林向量，同時總共有11件海盜通報事件"
   ]
  },
  {
   "cell_type": "code",
   "execution_count": null,
   "metadata": {},
   "outputs": [],
   "source": [
    "# 接著我們可以利用`pirate_is_coordinate`和`pirate_info_key_value`，\n",
    "# 找出所有的經緯度資料。\n",
    "# 請把這個資料存到變數`pirate_coordinate_raw`中，這將會是個長度為11的字串向量。"
   ]
  },
  {
   "cell_type": "code",
   "execution_count": null,
   "metadata": {},
   "outputs": [],
   "source": [
    "# 接著可以使用`substring`抓出經緯度的數字，\n",
    "# 請先抓出緯度並忽略「分」的部份，並存入 pirate_coordinate_latitude"
   ]
  },
  {
   "cell_type": "code",
   "execution_count": null,
   "metadata": {},
   "outputs": [],
   "source": [
    "# 請用同樣的要領取出經度，忽略「分」的部份，並存入 pirate_coordinate_longitude"
   ]
  },
  {
   "cell_type": "code",
   "execution_count": null,
   "metadata": {},
   "outputs": [],
   "source": [
    "# 為了方便後續的分析，我們經常把非結構化的資料整理為結構化資料。\n",
    "# 在R 中，結構化的資料結構就是data.frame。\n",
    "# 請同學利用上述的數據，建立一個有11筆資料的data.frame，\n",
    "# 其中有兩個欄位，一個是latitude, 另一個則是longitude。\n",
    "# 這兩個欄位紀錄著海盜事件的位置。\n",
    "pirate_df <- data.frame(\n",
    "  latitude = pirate_coordinate_latitude,\n",
    "  longitude = pirate_coordinate_longitude\n",
    ")\n",
    "\n",
    "# 下列兩項 check 都應該要是 True 答案才是對的\n",
    "sum(pirate_df$latitude) == 43\n",
    "sum(pirate_df$longitude) == 1151"
   ]
  },
  {
   "cell_type": "markdown",
   "metadata": {},
   "source": [
    "CSV 幾乎可以說是在用 R 分析結構化資料的過程中最常見的資料格式，\n",
    "然而說到結構化資料，同學們過去接觸最多的應該是 Excel 檔\n",
    "下面我們就來說說如何用 R 來存取 Excel 檔"
   ]
  },
  {
   "cell_type": "markdown",
   "metadata": {},
   "source": [
    "要用 R 存取 excel 檔案需要引入相對應的 library，\n",
    "以下介紹兩種常用的 library readxl 與 xlsx"
   ]
  },
  {
   "cell_type": "code",
   "execution_count": 14,
   "metadata": {},
   "outputs": [],
   "source": [
    "help(read_excel)\n",
    "# sheet=2 <- To get the second sheet (or 2nd page)\n",
    "\n",
    "\n",
    "# trim_ws <- trim strings (both head and tail)\n",
    "# ^ default: true"
   ]
  },
  {
   "cell_type": "code",
   "execution_count": 16,
   "metadata": {},
   "outputs": [
    {
     "data": {
      "text/html": [
       "<table>\n",
       "<thead><tr><th scope=col>OrderDate</th><th scope=col>Region</th><th scope=col>Rep</th><th scope=col>Item</th><th scope=col>Units</th><th scope=col>Unit Cost</th><th scope=col>Total</th></tr></thead>\n",
       "<tbody>\n",
       "\t<tr><td>2019-01-06</td><td>East      </td><td>Jones     </td><td>Pencil    </td><td>95        </td><td> 1.99     </td><td>189.05    </td></tr>\n",
       "\t<tr><td>2019-01-23</td><td>Central   </td><td>Kivell    </td><td>Binder    </td><td>50        </td><td>19.99     </td><td>999.50    </td></tr>\n",
       "\t<tr><td>2019-02-09</td><td>Central   </td><td>Jardine   </td><td>Pencil    </td><td>36        </td><td> 4.99     </td><td>179.64    </td></tr>\n",
       "\t<tr><td>2019-02-26</td><td>Central   </td><td>Gill      </td><td>Pen       </td><td>27        </td><td>19.99     </td><td>539.73    </td></tr>\n",
       "\t<tr><td>2019-03-15</td><td>West      </td><td>Sorvino   </td><td>Pencil    </td><td>56        </td><td> 2.99     </td><td>167.44    </td></tr>\n",
       "\t<tr><td>2019-04-01</td><td>East      </td><td>Jones     </td><td>Binder    </td><td>60        </td><td> 4.99     </td><td>299.40    </td></tr>\n",
       "</tbody>\n",
       "</table>\n"
      ],
      "text/latex": [
       "\\begin{tabular}{r|lllllll}\n",
       " OrderDate & Region & Rep & Item & Units & Unit Cost & Total\\\\\n",
       "\\hline\n",
       "\t 2019-01-06 & East       & Jones      & Pencil     & 95         &  1.99      & 189.05    \\\\\n",
       "\t 2019-01-23 & Central    & Kivell     & Binder     & 50         & 19.99      & 999.50    \\\\\n",
       "\t 2019-02-09 & Central    & Jardine    & Pencil     & 36         &  4.99      & 179.64    \\\\\n",
       "\t 2019-02-26 & Central    & Gill       & Pen        & 27         & 19.99      & 539.73    \\\\\n",
       "\t 2019-03-15 & West       & Sorvino    & Pencil     & 56         &  2.99      & 167.44    \\\\\n",
       "\t 2019-04-01 & East       & Jones      & Binder     & 60         &  4.99      & 299.40    \\\\\n",
       "\\end{tabular}\n"
      ],
      "text/markdown": [
       "\n",
       "| OrderDate | Region | Rep | Item | Units | Unit Cost | Total |\n",
       "|---|---|---|---|---|---|---|\n",
       "| 2019-01-06 | East       | Jones      | Pencil     | 95         |  1.99      | 189.05     |\n",
       "| 2019-01-23 | Central    | Kivell     | Binder     | 50         | 19.99      | 999.50     |\n",
       "| 2019-02-09 | Central    | Jardine    | Pencil     | 36         |  4.99      | 179.64     |\n",
       "| 2019-02-26 | Central    | Gill       | Pen        | 27         | 19.99      | 539.73     |\n",
       "| 2019-03-15 | West       | Sorvino    | Pencil     | 56         |  2.99      | 167.44     |\n",
       "| 2019-04-01 | East       | Jones      | Binder     | 60         |  4.99      | 299.40     |\n",
       "\n"
      ],
      "text/plain": [
       "  OrderDate  Region  Rep     Item   Units Unit Cost Total \n",
       "1 2019-01-06 East    Jones   Pencil 95     1.99     189.05\n",
       "2 2019-01-23 Central Kivell  Binder 50    19.99     999.50\n",
       "3 2019-02-09 Central Jardine Pencil 36     4.99     179.64\n",
       "4 2019-02-26 Central Gill    Pen    27    19.99     539.73\n",
       "5 2019-03-15 West    Sorvino Pencil 56     2.99     167.44\n",
       "6 2019-04-01 East    Jones   Binder 60     4.99     299.40"
      ]
     },
     "metadata": {},
     "output_type": "display_data"
    },
    {
     "data": {
      "text/html": [
       "<ol class=list-inline>\n",
       "\t<li>'tbl_df'</li>\n",
       "\t<li>'tbl'</li>\n",
       "\t<li>'data.frame'</li>\n",
       "</ol>\n"
      ],
      "text/latex": [
       "\\begin{enumerate*}\n",
       "\\item 'tbl\\_df'\n",
       "\\item 'tbl'\n",
       "\\item 'data.frame'\n",
       "\\end{enumerate*}\n"
      ],
      "text/markdown": [
       "1. 'tbl_df'\n",
       "2. 'tbl'\n",
       "3. 'data.frame'\n",
       "\n",
       "\n"
      ],
      "text/plain": [
       "[1] \"tbl_df\"     \"tbl\"        \"data.frame\""
      ]
     },
     "metadata": {},
     "output_type": "display_data"
    }
   ],
   "source": [
    "# 請嘗試執行下列指令\n",
    "library(readxl)\n",
    "xl_data <- read_excel(\"data/excel_sample.xlsx\", sheet=2)\n",
    "# 請嘗試觀察一下 load 進來的資料\n",
    "\n",
    "head(xl_data)"
   ]
  },
  {
   "cell_type": "code",
   "execution_count": 18,
   "metadata": {},
   "outputs": [
    {
     "data": {
      "text/html": [
       "<table>\n",
       "<thead><tr><th scope=col>OrderDate</th><th scope=col>Region</th><th scope=col>Rep</th><th scope=col>Item</th><th scope=col>Units</th><th scope=col>Unit Cost</th><th scope=col>Total</th></tr></thead>\n",
       "<tbody>\n",
       "\t<tr><td>2019-01-06</td><td>East      </td><td>Jones     </td><td>Pencil    </td><td>95        </td><td> 1.99     </td><td>189.05    </td></tr>\n",
       "\t<tr><td>2019-01-23</td><td>Central   </td><td>Kivell    </td><td>Binder    </td><td>50        </td><td>19.99     </td><td>999.50    </td></tr>\n",
       "\t<tr><td>2019-02-09</td><td>Central   </td><td>Jardine   </td><td>Pencil    </td><td>36        </td><td> 4.99     </td><td>179.64    </td></tr>\n",
       "\t<tr><td>2019-02-26</td><td>Central   </td><td>Gill      </td><td>Pen       </td><td>27        </td><td>19.99     </td><td>539.73    </td></tr>\n",
       "\t<tr><td>2019-03-15</td><td>West      </td><td>Sorvino   </td><td>Pencil    </td><td>56        </td><td> 2.99     </td><td>167.44    </td></tr>\n",
       "\t<tr><td>2019-04-01</td><td>East      </td><td>Jones     </td><td>Binder    </td><td>60        </td><td> 4.99     </td><td>299.40    </td></tr>\n",
       "</tbody>\n",
       "</table>\n"
      ],
      "text/latex": [
       "\\begin{tabular}{r|lllllll}\n",
       " OrderDate & Region & Rep & Item & Units & Unit Cost & Total\\\\\n",
       "\\hline\n",
       "\t 2019-01-06 & East       & Jones      & Pencil     & 95         &  1.99      & 189.05    \\\\\n",
       "\t 2019-01-23 & Central    & Kivell     & Binder     & 50         & 19.99      & 999.50    \\\\\n",
       "\t 2019-02-09 & Central    & Jardine    & Pencil     & 36         &  4.99      & 179.64    \\\\\n",
       "\t 2019-02-26 & Central    & Gill       & Pen        & 27         & 19.99      & 539.73    \\\\\n",
       "\t 2019-03-15 & West       & Sorvino    & Pencil     & 56         &  2.99      & 167.44    \\\\\n",
       "\t 2019-04-01 & East       & Jones      & Binder     & 60         &  4.99      & 299.40    \\\\\n",
       "\\end{tabular}\n"
      ],
      "text/markdown": [
       "\n",
       "| OrderDate | Region | Rep | Item | Units | Unit Cost | Total |\n",
       "|---|---|---|---|---|---|---|\n",
       "| 2019-01-06 | East       | Jones      | Pencil     | 95         |  1.99      | 189.05     |\n",
       "| 2019-01-23 | Central    | Kivell     | Binder     | 50         | 19.99      | 999.50     |\n",
       "| 2019-02-09 | Central    | Jardine    | Pencil     | 36         |  4.99      | 179.64     |\n",
       "| 2019-02-26 | Central    | Gill       | Pen        | 27         | 19.99      | 539.73     |\n",
       "| 2019-03-15 | West       | Sorvino    | Pencil     | 56         |  2.99      | 167.44     |\n",
       "| 2019-04-01 | East       | Jones      | Binder     | 60         |  4.99      | 299.40     |\n",
       "\n"
      ],
      "text/plain": [
       "  OrderDate  Region  Rep     Item   Units Unit Cost Total \n",
       "1 2019-01-06 East    Jones   Pencil 95     1.99     189.05\n",
       "2 2019-01-23 Central Kivell  Binder 50    19.99     999.50\n",
       "3 2019-02-09 Central Jardine Pencil 36     4.99     179.64\n",
       "4 2019-02-26 Central Gill    Pen    27    19.99     539.73\n",
       "5 2019-03-15 West    Sorvino Pencil 56     2.99     167.44\n",
       "6 2019-04-01 East    Jones   Binder 60     4.99     299.40"
      ]
     },
     "metadata": {},
     "output_type": "display_data"
    },
    {
     "data": {
      "text/html": [
       "<ol class=list-inline>\n",
       "\t<li>'tbl_df'</li>\n",
       "\t<li>'tbl'</li>\n",
       "\t<li>'data.frame'</li>\n",
       "</ol>\n"
      ],
      "text/latex": [
       "\\begin{enumerate*}\n",
       "\\item 'tbl\\_df'\n",
       "\\item 'tbl'\n",
       "\\item 'data.frame'\n",
       "\\end{enumerate*}\n"
      ],
      "text/markdown": [
       "1. 'tbl_df'\n",
       "2. 'tbl'\n",
       "3. 'data.frame'\n",
       "\n",
       "\n"
      ],
      "text/plain": [
       "[1] \"tbl_df\"     \"tbl\"        \"data.frame\""
      ]
     },
     "metadata": {},
     "output_type": "display_data"
    }
   ],
   "source": [
    "# 由於可用的資料表格並不在 sheet 1，而在 sheet 2\n",
    "# 請閱讀 read_excel 的 help，理解應該要如何撰寫指令\n",
    "\n",
    "xl_data <- read_excel(\"data/excel_sample.xlsx\", sheet=2)\n",
    "head(xl_data)\n",
    "\n",
    "class(xl_data)\n",
    "\n",
    "# 同樣也請觀察載入的資料"
   ]
  },
  {
   "cell_type": "code",
   "execution_count": 19,
   "metadata": {},
   "outputs": [
    {
     "data": {
      "text/html": [
       "<ol class=list-inline>\n",
       "\t<li>'POSIXct'</li>\n",
       "\t<li>'POSIXt'</li>\n",
       "</ol>\n"
      ],
      "text/latex": [
       "\\begin{enumerate*}\n",
       "\\item 'POSIXct'\n",
       "\\item 'POSIXt'\n",
       "\\end{enumerate*}\n"
      ],
      "text/markdown": [
       "1. 'POSIXct'\n",
       "2. 'POSIXt'\n",
       "\n",
       "\n"
      ],
      "text/plain": [
       "[1] \"POSIXct\" \"POSIXt\" "
      ]
     },
     "metadata": {},
     "output_type": "display_data"
    }
   ],
   "source": [
    "# 載入後的日期格式似乎與原本資料檔中的日期不同，這是怎麼回事呢？\n",
    "# 請觀察 OrderDate 欄位的 class\n",
    "class(xl_data$OrderDate)"
   ]
  },
  {
   "cell_type": "markdown",
   "metadata": {},
   "source": [
    "POSIX 是 Unix 的描述時間的標準格式，有許多的應用方式\n",
    "\n",
    "R系統中 DataTimeClasses 有 POSIXct 與 POSIXlt 兩種主要的 class\n",
    "1. POSIXct代表的是總秒數從1970/1/1開始算起\n",
    "2. POSIXlt則是一個列表，裡面有跟時間相關的數值（秒、分、時、日、月、年等）\n"
   ]
  },
  {
   "cell_type": "code",
   "execution_count": 20,
   "metadata": {},
   "outputs": [
    {
     "data": {
      "text/plain": [
       "[1] \"2021-10-19 15:49:09 CST\""
      ]
     },
     "metadata": {},
     "output_type": "display_data"
    },
    {
     "data": {
      "text/plain": [
       "[1] \"2019-01-06 UTC\""
      ]
     },
     "metadata": {},
     "output_type": "display_data"
    },
    {
     "data": {
      "text/plain": [
       "[1] \"2019-01-23 UTC\""
      ]
     },
     "metadata": {},
     "output_type": "display_data"
    }
   ],
   "source": [
    "# R 的系統時間也是用 POSIXct 存儲的，請嘗試下列指令\n",
    "Sys.time()\n",
    "# ^ CST = Central Standard Time\n",
    "\n",
    "# 可以比較一下系統時間與 excel_sample 中時間的差異\n",
    "xl_data$OrderDate[1]\n",
    "xl_data$OrderDate[2]"
   ]
  },
  {
   "cell_type": "code",
   "execution_count": 21,
   "metadata": {},
   "outputs": [
    {
     "data": {
      "text/plain": [
       "[1] \"2019-01-06 08:00:00 CST\""
      ]
     },
     "metadata": {},
     "output_type": "display_data"
    }
   ],
   "source": [
    "# 從上面可以發現，兩者時區不同\n",
    "\n",
    "date <- xl_data$OrderDate[1]\n",
    "\n",
    "# Removes the timezone?... = convert to CST time?...\n",
    "attr(date, \"tzone\") <- NULL\n",
    "date"
   ]
  },
  {
   "cell_type": "code",
   "execution_count": 25,
   "metadata": {},
   "outputs": [
    {
     "data": {
      "text/plain": [
       "[1] \"2019-01-06 08:00:00 CST\""
      ]
     },
     "metadata": {},
     "output_type": "display_data"
    },
    {
     "data": {
      "text/plain": [
       "[1] \"2019-01-06 CST\""
      ]
     },
     "metadata": {},
     "output_type": "display_data"
    }
   ],
   "source": [
    "# 在 R 中，比較方便的做法是使用 with_tz 或 force_tz 來轉換時區\n",
    "# 請各位嘗試下列程式碼\n",
    "\n",
    "library(lubridate)\n",
    "date <- xl_data$OrderDate[1]\n",
    "\n",
    "# Convert date, time\n",
    "with_tz(date, \"Asia/Taipei\")\n",
    "\n",
    "# SAME TIME BUT DIFFERENT TIME ZONE\n",
    "force_tz(date, \"Asia/Taipei\")\n",
    "# ^ Change time zone only\n",
    "\n",
    "# 請思考這兩者意義有何不同，為何會如此？\n",
    "# 請參閱 difftime 函式的 help 並且計算 date 與 Sys.time() 的差\n",
    "# 試思考應該怎樣計算才合理呢？"
   ]
  },
  {
   "cell_type": "code",
   "execution_count": 30,
   "metadata": {},
   "outputs": [
    {
     "data": {
      "text/plain": [
       "[1] \"2019-01-06 UTC\""
      ]
     },
     "metadata": {},
     "output_type": "display_data"
    },
    {
     "data": {
      "text/html": [
       "'2019'"
      ],
      "text/latex": [
       "'2019'"
      ],
      "text/markdown": [
       "'2019'"
      ],
      "text/plain": [
       "[1] \"2019\""
      ]
     },
     "metadata": {},
     "output_type": "display_data"
    },
    {
     "data": {
      "text/html": [
       "'00'"
      ],
      "text/latex": [
       "'00'"
      ],
      "text/markdown": [
       "'00'"
      ],
      "text/plain": [
       "[1] \"00\""
      ]
     },
     "metadata": {},
     "output_type": "display_data"
    },
    {
     "data": {
      "text/html": [
       "'2019-01-06 00:00:00'"
      ],
      "text/latex": [
       "'2019-01-06 00:00:00'"
      ],
      "text/markdown": [
       "'2019-01-06 00:00:00'"
      ],
      "text/plain": [
       "[1] \"2019-01-06 00:00:00\""
      ]
     },
     "metadata": {},
     "output_type": "display_data"
    }
   ],
   "source": [
    "# 我們可以從 POSIX 格式的資料中取出各自的年、日、時、分等項目\n",
    "date <- xl_data$OrderDate[1]\n",
    "date\n",
    "\n",
    "format(date, format = \"%Y\")\n",
    "\n",
    "# 請查閱 format 的 help 並嘗試個別取出日、時、分、秒等其他資訊\n",
    "format(date, format = \"%M\")\n",
    "\n",
    "format(date, format = \"%Y-%m-%d %H:%M:%S\")"
   ]
  },
  {
   "cell_type": "code",
   "execution_count": 27,
   "metadata": {},
   "outputs": [],
   "source": [
    "help(format)"
   ]
  },
  {
   "cell_type": "code",
   "execution_count": null,
   "metadata": {},
   "outputs": [],
   "source": [
    "# 最後我們稍微來看看 POSIXlt\n",
    "date2 = as.POSIXlt(date)\n",
    "mode(date)\n",
    "mode(date2)"
   ]
  },
  {
   "cell_type": "markdown",
   "metadata": {},
   "source": [
    "除了 CSV 以外，JSON 格式也是目前常見的資料交換格式\n",
    "\n",
    "尤其常見於各種傳遞資料的API之中\n",
    "\n",
    "其格式可以參照 https://zh.wikipedia.org/wiki/JSON"
   ]
  },
  {
   "cell_type": "code",
   "execution_count": null,
   "metadata": {},
   "outputs": [],
   "source": [
    "# 在 R 中 要讀取 json 格式的資料，需要仰賴套件\n",
    "# 這邊介紹最常用的 jsonlite 套件，該套件在 Azure Notebook 上已經安裝\n",
    "# 各位在自己的環境如需要安裝 jsonlite 請用下列指令\n",
    "# install.packages(\"jsonlite\")\n",
    "library(jsonlite)"
   ]
  },
  {
   "cell_type": "code",
   "execution_count": null,
   "metadata": {},
   "outputs": [],
   "source": [
    "land = fromJSON(\"data/land.json\")\n",
    "head(land)"
   ]
  },
  {
   "cell_type": "code",
   "execution_count": null,
   "metadata": {},
   "outputs": [],
   "source": [
    "# jsonlite 套件不只可以載入 json 檔案\n",
    "# 也可以將 R 物件轉換為 json 格式進行傳遞\n",
    "toJSON(1:5)\n",
    "toJSON(list(num = 1:5, str = c(\"a\", \"b\")))\n",
    "toJSON(head(iris))"
   ]
  },
  {
   "cell_type": "code",
   "execution_count": null,
   "metadata": {},
   "outputs": [],
   "source": [
    "fromJSON(toJSON(head(iris)))"
   ]
  },
  {
   "cell_type": "markdown",
   "metadata": {},
   "source": [
    "以下摘錄自 R 語言翻轉教室 (Author: Wush Wu)\n",
    "\n",
    "資料庫（Database）泛指能夠儲存資料的檔案 repository。 使用者可以對檔案中的資料進行新增、讀取、更新和刪除 (CRUD)\n",
    "\n",
    "關聯式資料庫（Relational database）是近代資訊科學發展得非常成熟的一個領域。 目前當人們提到「資料庫」時，在沒有額外說明下，通常都是指「關聯式資料庫」，也就是基於 Relational Model 的資料庫。\n",
    "\n",
    "以下課程中，我們會描述R 語言如何透過DBI和其系列套件，操作關聯式資料庫。 而這裡我們以SQLite這套精巧的關聯式資料庫系統為例。"
   ]
  },
  {
   "cell_type": "code",
   "execution_count": null,
   "metadata": {},
   "outputs": [],
   "source": [
    "# R 與 SQLite 對接需要安裝 RSQLite 套件\n",
    "# 在同學們自己的 R 環境中，需要自行安裝該套件\n",
    "library(RSQLite)"
   ]
  },
  {
   "cell_type": "markdown",
   "metadata": {},
   "source": [
    "雖然目前市面上有許多不同的SQL 資料庫，但是這些資料庫在R 中操作起來都是非常類似的。 R 都是透過 DBI (Database Interface) 套件所定義的函數，讓使用者操作資料庫。\n",
    "\n",
    "接下來的內容中，我們要帶同學操作一次SQLite 資料庫的連線、寫入資料、讀取資料、更改資料和刪除資料。 這樣的操作是最基本的，未來在使用R 操作其他資料庫，甚至是NoSQL等外部儲存裝置時，流程也是一樣的：連線、寫入、讀取、更改和刪除。"
   ]
  },
  {
   "cell_type": "code",
   "execution_count": null,
   "metadata": {},
   "outputs": [],
   "source": [
    "# 請以下列指令連結課程預先預備下載的資料庫\n",
    "\n",
    "# 首先準備存取 SQLite 所需的 DB driver\n",
    "drv <- dbDriver(\"SQLite\")\n",
    "\n",
    "# 以適當的 driver 與 指定資料庫建立連線\n",
    "db <- dbConnect(drv, \"data/example.db\")\n",
    "\n",
    "# 這裡的 db 物件，就是這個資料庫在 R 中的代表\n",
    "# 若要對這個資料庫作任何動作，需要把db這個物件當成函數的參數之一\n",
    "# DBI 的文件中會將 db 這種角色的物件記載為：connection。"
   ]
  },
  {
   "cell_type": "code",
   "execution_count": null,
   "metadata": {},
   "outputs": [],
   "source": [
    "# 接下來要對 db 進行操作，請先查閱適用函式的幫助文件\n",
    "?dbWriteTable"
   ]
  },
  {
   "cell_type": "code",
   "execution_count": null,
   "metadata": {},
   "outputs": [],
   "source": [
    "?RSQLite::dbWriteTable"
   ]
  },
  {
   "cell_type": "code",
   "execution_count": null,
   "metadata": {},
   "outputs": [],
   "source": [
    "??dbWriteTable"
   ]
  },
  {
   "cell_type": "code",
   "execution_count": null,
   "metadata": {},
   "outputs": [],
   "source": [
    "help(\"dbWriteTable,SQLiteConnection,character,data.frame-method\")"
   ]
  },
  {
   "cell_type": "markdown",
   "metadata": {},
   "source": [
    "DBI 套件提供了通用的 資料庫存取介面，可以適用於不同資料庫\n",
    "\n",
    "然而程式碼中假如使用到針對特定資料庫才有的參數\n",
    "\n",
    "那麼當資料轉換到不同資料庫中時，就需要考慮相容性問題來進行修改"
   ]
  },
  {
   "cell_type": "code",
   "execution_count": null,
   "metadata": {},
   "outputs": [],
   "source": [
    "# 我們可以嘗試將剛才載入環境的 land 資料表寫入 db 中\n",
    "dbWriteTable(db, \"lvr_land2\", land)"
   ]
  },
  {
   "cell_type": "code",
   "execution_count": null,
   "metadata": {},
   "outputs": [],
   "source": [
    "# 現在來將方才寫入的資料讀出\n",
    "dbReadTable(db, \"lvr_land2\")"
   ]
  },
  {
   "cell_type": "code",
   "execution_count": null,
   "metadata": {},
   "outputs": [],
   "source": [
    "# 這時假如再度寫入同一張 table 會出現錯誤\n",
    "# 需要設定 append 或 overwrite = TRUE\n",
    "# 請嘗試下列指令\n",
    "dbWriteTable(db, \"lvr_land2\", land, append = TRUE)"
   ]
  },
  {
   "cell_type": "code",
   "execution_count": null,
   "metadata": {},
   "outputs": [],
   "source": [
    "# 再次 read 應該會發現，資料庫大小變成兩倍\n",
    "# 這是因為我們鋼材將同樣的資料 copy 了一份，放到了後面\n",
    "dbReadTable(db, \"lvr_land2\")"
   ]
  },
  {
   "cell_type": "code",
   "execution_count": null,
   "metadata": {},
   "outputs": [],
   "source": [
    "# 列出目前已經存在於資料庫的表格\n",
    "dbListTables(db)"
   ]
  },
  {
   "cell_type": "code",
   "execution_count": null,
   "metadata": {},
   "outputs": [],
   "source": [
    "# 這個 iris 是將 R 中的 iris 事先存入範例資料庫中的\n",
    "# 請各位同學將此資料表讀出，並且存入 iris2 中\n",
    "iris2 = dbReadTable(db, \"iris\")"
   ]
  },
  {
   "cell_type": "code",
   "execution_count": null,
   "metadata": {},
   "outputs": [],
   "source": [
    "# 比較一下 iris 與 iris2 的異同\n",
    "all.equal(iris, iris2)"
   ]
  },
  {
   "cell_type": "code",
   "execution_count": null,
   "metadata": {},
   "outputs": [],
   "source": [
    "summary(iris)"
   ]
  },
  {
   "cell_type": "code",
   "execution_count": null,
   "metadata": {},
   "outputs": [],
   "source": [
    "summary(iris2)"
   ]
  },
  {
   "cell_type": "code",
   "execution_count": null,
   "metadata": {},
   "outputs": [],
   "source": [
    "# DBI界面中，我們可以利用dbGetQuery和dbSendQuery來執行SQL語句\n",
    "# 請各位嘗試：dbGetQuery(db, \"SELECT * FROM iris WHERE species = \\\"virginica\\\"\")\n",
    "dbGetQuery(db, \"SELECT * FROM iris WHERE species = \\\"virginica\\\"\")"
   ]
  },
  {
   "cell_type": "code",
   "execution_count": null,
   "metadata": {},
   "outputs": [],
   "source": [
    "# 相較來說，dbSendQuery 指令比較接近以其他程式語言操作資料庫的經驗\n",
    "# 回傳結果會被存入一個 resultsets 中，再用迴圈一步步取出\n",
    "dbSendQuery(db, \"SELECT * FROM iris WHERE species = \\\"virginica\\\"\")"
   ]
  },
  {
   "cell_type": "code",
   "execution_count": null,
   "metadata": {},
   "outputs": [],
   "source": [
    "# 所以接下來我們將結果存入一個變數，並且將其一行一行取出\n",
    "rs <- dbSendQuery(db, \"SELECT * FROM iris WHERE species = \\\"virginica\\\"\")"
   ]
  },
  {
   "cell_type": "code",
   "execution_count": null,
   "metadata": {},
   "outputs": [],
   "source": [
    "fetch(rs, 1)"
   ]
  },
  {
   "cell_type": "code",
   "execution_count": null,
   "metadata": {},
   "outputs": [],
   "source": [
    "fetch(rs, 1)"
   ]
  },
  {
   "cell_type": "code",
   "execution_count": null,
   "metadata": {},
   "outputs": [],
   "source": [
    "# 連續執行 fetch 就會發現拿出來的資料不同\n",
    "# 利用 dbClearResult 可以清除 ResultSets 物件\n",
    "dbClearResult(rs)\n",
    "rs"
   ]
  },
  {
   "cell_type": "raw",
   "metadata": {},
   "source": [
    "dbSendQuery和fetch的技巧在使用R 處理「大量資料」，是非常有用的\n",
    "\n",
    "尤其是當資料量「超過記憶體」時，運用資料庫可以很有效率地優化硬碟處理資料的效能。 此時可以利用 dbSendQuery 和 fetch 批次處理資料。"
   ]
  },
  {
   "cell_type": "code",
   "execution_count": null,
   "metadata": {},
   "outputs": [],
   "source": [
    "# 從 db 中斷連線\n",
    "dbDisconnect(db)"
   ]
  },
  {
   "cell_type": "code",
   "execution_count": null,
   "metadata": {},
   "outputs": [],
   "source": [
    "# 接下來，請各位同學測試下列指令的效果\n",
    "db <- dbConnect(drv, \"data/example.db\")\n",
    "dbBegin(db)\n",
    "dbRemoveTable(db, \"CO2\")\n",
    "dbListTables(db)"
   ]
  },
  {
   "cell_type": "code",
   "execution_count": null,
   "metadata": {},
   "outputs": [],
   "source": [
    "dbDisconnect(db)\n",
    "db <- dbConnect(drv, \"data/example.db\")\n",
    "dbListTables(db)"
   ]
  },
  {
   "cell_type": "code",
   "execution_count": null,
   "metadata": {},
   "outputs": [],
   "source": [
    "dbBegin(db)\n",
    "dbRemoveTable(db, \"CO2\")\n",
    "dbListTables(db)\n",
    "dbRollback(db)\n",
    "dbListTables(db)"
   ]
  },
  {
   "cell_type": "code",
   "execution_count": null,
   "metadata": {},
   "outputs": [],
   "source": [
    "dbBegin(db)\n",
    "dbRemoveTable(db, \"CO2\")\n",
    "dbCommit(db)\n",
    "dbListTables(db)"
   ]
  },
  {
   "cell_type": "code",
   "execution_count": null,
   "metadata": {},
   "outputs": [],
   "source": [
    "# 上述指令展示了如何利用 R 操作資料庫的 Transaction 功能\n",
    "# 透過 DBI 介面，也可以從 R 之中以 SQL 程式碼對資料庫進行新增、修改、刪除\n",
    "# 請查閱 dbExecute、dbSendStatement 的文件"
   ]
  },
  {
   "cell_type": "code",
   "execution_count": null,
   "metadata": {},
   "outputs": [],
   "source": [
    "# 練習\n",
    "# (1) 請嘗試取出範例資料庫中 TWII 資料表的資料，進而了解其日期範圍\n",
    "# (2) 請將 iris 資料表中，setosa 物種的資料寫入範例資料庫，並且取名為 setosa\n",
    "# (3) 請嘗試以 SQL 指令進行上述動作"
   ]
  }
 ],
 "metadata": {
  "kernelspec": {
   "display_name": "R",
   "language": "R",
   "name": "ir"
  },
  "language_info": {
   "codemirror_mode": "r",
   "file_extension": ".r",
   "mimetype": "text/x-r-source",
   "name": "R",
   "pygments_lexer": "r",
   "version": "3.6.1"
  }
 },
 "nbformat": 4,
 "nbformat_minor": 2
}
