{
 "cells": [
  {
   "cell_type": "markdown",
   "metadata": {},
   "source": [
    "R 語言基礎資料結構 1\n",
    "\n",
    "以下教材部分出自 Wush Wu 所編寫之 R 語言翻轉教室\n",
    "\n",
    "R 的物件結構是針對資料分析設計的，所以在 R 之中最簡單的資料單位會是一串資料\n",
    "\n",
    "也就是一個向量，而非單一筆資料，運算的單位也是以處理多筆資料為主"
   ]
  },
  {
   "cell_type": "code",
   "execution_count": null,
   "metadata": {},
   "outputs": [],
   "source": [
    "# 在 R 之中建立向量的方法最簡單的指令是 c()\n",
    "# c 的作用是將輸入其中的資料連結成一個向量\n",
    "c(10.4, 5.6, 3.1, 6.4)"
   ]
  },
  {
   "cell_type": "code",
   "execution_count": null,
   "metadata": {},
   "outputs": [],
   "source": [
    "# 使用 ?c 可以看到該函式的文件\n",
    "?c"
   ]
  },
  {
   "cell_type": "code",
   "execution_count": null,
   "metadata": {},
   "outputs": [],
   "source": [
    "# R 可以利用 = 或 <- 進行左賦值，也就是將資料 assign 到運算子左邊的變數中\n",
    "x <- c(10.4, 5.6, 3.1, 6.4)\n",
    "x\n",
    "y = 1:5\n",
    "y"
   ]
  },
  {
   "cell_type": "code",
   "execution_count": null,
   "metadata": {},
   "outputs": [],
   "source": [
    "# 1:5 代表一個從 1 到 5 的向量\n",
    "# 試撰寫程式碼產生一個從 10 到 1 的向量\n"
   ]
  },
  {
   "cell_type": "code",
   "execution_count": null,
   "metadata": {},
   "outputs": [],
   "source": [
    "# c() 可以接受任意數量的向量參數，可以將多個向量連結在一起，例如：\n",
    "c(1:5, 101:105)"
   ]
  },
  {
   "cell_type": "code",
   "execution_count": null,
   "metadata": {},
   "outputs": [],
   "source": [
    "# 試撰寫程式碼，產生一個在 x 後面接上 x 的向量"
   ]
  },
  {
   "cell_type": "code",
   "execution_count": null,
   "metadata": {},
   "outputs": [],
   "source": [
    "# 在 R 之中，所有的運算都是向量計算，例如：\n",
    "c(1, 2, 3) + c(2, 4, 6)"
   ]
  },
  {
   "cell_type": "code",
   "execution_count": null,
   "metadata": {},
   "outputs": [],
   "source": [
    "# 也就是運算子前後的兩個向量中，相對應的各個元素會兩兩進行運算\n",
    "# 請各位同學嘗試 -, *, / 等運算子"
   ]
  },
  {
   "cell_type": "code",
   "execution_count": null,
   "metadata": {},
   "outputs": [],
   "source": [
    "# 當相加的兩個向量長度不同時，R 會自動重複比較短的向量\n",
    "# 補到和較長的向量相同的長度，然後用 一樣的方式去做計算，例如：\n",
    "2 + c(1, 2, 3)"
   ]
  },
  {
   "cell_type": "code",
   "execution_count": null,
   "metadata": {},
   "outputs": [],
   "source": [
    "# 請嘗試 1:5 + 1:3 並且解釋發生了什麼事情"
   ]
  },
  {
   "cell_type": "code",
   "execution_count": null,
   "metadata": {},
   "outputs": [],
   "source": [
    "# 除了加減乘除以外，在 R 中所有的數學運算都是向量計算，例如：\n",
    "(1:5)^2"
   ]
  },
  {
   "cell_type": "code",
   "execution_count": null,
   "metadata": {},
   "outputs": [],
   "source": [
    "# 也請嘗試 1:5^2 請理解有什麼不同？"
   ]
  },
  {
   "cell_type": "code",
   "execution_count": null,
   "metadata": {},
   "outputs": [],
   "source": [
    "# 請各位同學嘗試 log()、exp()、sin()、cos()、tan()、sqrt() 等 函式"
   ]
  },
  {
   "cell_type": "code",
   "execution_count": null,
   "metadata": {},
   "outputs": [],
   "source": [
    "# 在 R 之中也有許多函式可以幫助你取出一個向量的某些統計量\n",
    "# 例如\n",
    "min(x)"
   ]
  },
  {
   "cell_type": "code",
   "execution_count": null,
   "metadata": {},
   "outputs": [],
   "source": [
    "# min 可以取出一個向量中的最小值\n",
    "# 請嘗試 max()、mean()、median()、sd()、vae() 等函式\n",
    "# 嘗試之餘，請養成閱讀各個函式的幫助文檔的習慣"
   ]
  },
  {
   "cell_type": "code",
   "execution_count": null,
   "metadata": {},
   "outputs": [],
   "source": [
    "# sum() 可以加總一個向量中的所有值、length() 則會回傳向量的長度\n",
    "# 請嘗試以上述兩個函式計算 x 的平均值"
   ]
  },
  {
   "cell_type": "code",
   "execution_count": null,
   "metadata": {},
   "outputs": [],
   "source": [
    "# 在數學中，計算中輸入的x ，代表的可能是整數、實數或甚至是複數。 \n",
    "# 而 R 中的數學計算，則會自動根據x 的屬性做出調整，例如：\n",
    "sqrt(-1)\n",
    "sqrt(-1 + 0i)"
   ]
  },
  {
   "cell_type": "code",
   "execution_count": null,
   "metadata": {},
   "outputs": [],
   "source": [
    "# NaN 是 Not a Number 之意\n",
    "# 在 R 之中還有幾個不同的保留字，如 NA 是 Not Available、NULL 則是代表空值"
   ]
  },
  {
   "cell_type": "code",
   "execution_count": null,
   "metadata": {},
   "outputs": [],
   "source": [
    "# sort() 會將輸入的向量排序並且回傳，例如\n",
    "sort(x)"
   ]
  },
  {
   "cell_type": "code",
   "execution_count": null,
   "metadata": {},
   "outputs": [],
   "source": [
    "# sort() 預設的排序是哪種順序呢？\n",
    "# 藉由設定 sort() 函式中的 decreasing 參數，可以改變排序的方向\n",
    "# 參閱 sort() 的文件，請嘗試將其排序的順序反向"
   ]
  },
  {
   "cell_type": "code",
   "execution_count": null,
   "metadata": {},
   "outputs": [],
   "source": [
    "# 剛剛我們介紹過了 1:10 這種用法，就是產生一個 1 到 10 的向量\n",
    "# 而 seq(1, 10) 則是與上述指令等效的作法\n",
    "seq(1, 10)"
   ]
  },
  {
   "cell_type": "code",
   "execution_count": null,
   "metadata": {},
   "outputs": [],
   "source": [
    "# 然而 seq() 是一個更加泛用的函式，可以產生具有任意間距的數列\n",
    "# 參閱 seq() 的幫助文件\n",
    "# 試產生一個從 1 開始，不超過 15 的奇數數列"
   ]
  },
  {
   "cell_type": "code",
   "execution_count": null,
   "metadata": {},
   "outputs": [],
   "source": [
    "# help 文件中有部分範例程式碼\n",
    "# 只要輸入 example(seq) 就可以執行 seq() 的 help 中的範例程式碼\n",
    "# 可以從中了解 seq 的各種用法\n",
    "example(seq)"
   ]
  },
  {
   "cell_type": "code",
   "execution_count": null,
   "metadata": {},
   "outputs": [],
   "source": [
    "# 在 R 之中，呼叫函式時，假如不指定參數的名稱\n",
    "# 則 R 會依照函式定義的參數順序填入參數的數值\n",
    "# 如 seq(1, 10) 與 seq(from = 1, to = 10) 是一樣的\n",
    "# 因為 seq 的定義中，from 是第一個參數、to 是第二個參數\n",
    "# seq(to = 10, from = 1) 會輸出怎樣的數列？"
   ]
  },
  {
   "cell_type": "code",
   "execution_count": null,
   "metadata": {},
   "outputs": [],
   "source": [
    "# seq() 的參數可以輸入任意實數，例如\n",
    "seq(0, 1, 0.1)"
   ]
  },
  {
   "cell_type": "code",
   "execution_count": null,
   "metadata": {},
   "outputs": [],
   "source": [
    "# 試產生從 0 開始，間距為 0.1，長度為 20 的數列"
   ]
  },
  {
   "cell_type": "code",
   "execution_count": null,
   "metadata": {},
   "outputs": [],
   "source": [
    "# R 很聰明，在指定argument時不須指定全名\n",
    "# 只要給出前面幾個可以讓R 辨別argument名稱的字母即可\n",
    "# 例如下列程式碼也是有用的\n",
    "seq(from = 1, by = 2, length = 10)"
   ]
  },
  {
   "cell_type": "code",
   "execution_count": null,
   "metadata": {},
   "outputs": [],
   "source": [
    "# rep 可以產生重複數值的向量，例如\n",
    "rep(1, 5)"
   ]
  },
  {
   "cell_type": "code",
   "execution_count": null,
   "metadata": {},
   "outputs": [],
   "source": [
    "# 請參閱 help 文件\n",
    "# 並且分辨 rep(x, times = 2) 與 rep(x, each = 2) 有什麼不同"
   ]
  },
  {
   "cell_type": "markdown",
   "metadata": {},
   "source": [
    "R 有三種基礎資料型態\n",
    "\n",
    "前述課程中操弄的均為數值資料 (numeric)\n",
    "\n",
    "其他還有 邏輯資料 (logical) 與 文字資料 (character)\n",
    "\n",
    "邏輯資料就是代表邏輯條件式的「真」或「偽」，在 R 中以保留字 TRUE 與 FALSE 呈現"
   ]
  },
  {
   "cell_type": "code",
   "execution_count": null,
   "metadata": {},
   "outputs": [],
   "source": [
    "# 為了簡單，在 R 之中也可以使用 T 與 F 表示 TRUE 與 FALSE\n",
    "T\n",
    "F"
   ]
  },
  {
   "cell_type": "code",
   "execution_count": null,
   "metadata": {},
   "outputs": [],
   "source": [
    "# 但是需要注意的是，T 與 F 並非保留字，僅僅是預設的 alias，所以是可能被修改的"
   ]
  },
  {
   "cell_type": "code",
   "execution_count": null,
   "metadata": {},
   "outputs": [],
   "source": [
    "# 就如同 numeric，在 R 之中，logical 也都是向量，例如\n",
    "x > 5"
   ]
  },
  {
   "cell_type": "code",
   "execution_count": null,
   "metadata": {},
   "outputs": [],
   "source": [
    "# 其實等效於\n",
    "x > rep(5, length(x))"
   ]
  },
  {
   "cell_type": "code",
   "execution_count": null,
   "metadata": {},
   "outputs": [],
   "source": [
    "# 試解釋 rep(5, length(x)) 是什麼意思"
   ]
  },
  {
   "cell_type": "code",
   "execution_count": null,
   "metadata": {},
   "outputs": [],
   "source": [
    "# 可以用於建立邏輯向量的運算子有 >, <, >=, <=, ==, !=\n",
    "# 此外還有 & 與 | 兩種邏輯運算子，例如\n",
    "x > 5 & x < 10\n",
    "x < 5 | x > 10"
   ]
  },
  {
   "cell_type": "code",
   "execution_count": null,
   "metadata": {},
   "outputs": [],
   "source": [
    "# 試解釋上述指令的意義"
   ]
  },
  {
   "cell_type": "code",
   "execution_count": null,
   "metadata": {},
   "outputs": [],
   "source": [
    "# 這些運算子經常用於篩選資料，例如\n",
    "x[x>5]\n",
    "# 會將 x 向量中 > 5 的元素回傳 (回傳的結果當然也還是一個向量)"
   ]
  },
  {
   "cell_type": "code",
   "execution_count": null,
   "metadata": {},
   "outputs": [],
   "source": [
    "# 這道指令的效果其實與下列程式碼相同\n",
    "x[c(1, 2, 4)]"
   ]
  },
  {
   "cell_type": "code",
   "execution_count": null,
   "metadata": {},
   "outputs": [],
   "source": [
    "# 也與下列程式碼相同\n",
    "x[which(x>5)]"
   ]
  },
  {
   "cell_type": "code",
   "execution_count": null,
   "metadata": {},
   "outputs": [],
   "source": [
    "# which() 的輸入是一個邏輯向量，回傳該邏輯向量中哪幾個元素為真\n",
    "# 對於資訊系的同學來說，使用 which 的這種做法比較接近過去的程式邏輯\n",
    "# 也就是先取出符合條件的索引值，再藉由該索引值取出符合條件的數列\n",
    "# 然而在 R 之中這是多餘的，試觀察下列程式碼，並且思考在 R 之中的邏輯為何\n",
    "x\n",
    "x>5\n",
    "x[x>5]"
   ]
  },
  {
   "cell_type": "code",
   "execution_count": null,
   "metadata": {},
   "outputs": [],
   "source": [
    "# 此外 x[c(1, 2, 4)] 與 下列程式碼也相同\n",
    "x[-3]"
   ]
  },
  {
   "cell_type": "code",
   "execution_count": null,
   "metadata": {},
   "outputs": [],
   "source": [
    "# 練習一下，如何取得一個從 x 中去除了第一個與第三個元素的向量"
   ]
  },
  {
   "cell_type": "code",
   "execution_count": null,
   "metadata": {},
   "outputs": [],
   "source": [
    "# 這邊值得注意的是在資料處理的過程中，有可能會出現 NA (Not Available)\n",
    "# NA 代表資料不可得，通常代表缺失值\n",
    "# 對 NA 作任何邏輯或數值運算都是無效的，例如\n",
    "NA > 5\n",
    "NA + 1"
   ]
  },
  {
   "cell_type": "code",
   "execution_count": null,
   "metadata": {},
   "outputs": [],
   "source": [
    "# 所以也無法使用 == 這種邏輯運算子來偵測數列中 NA 的位置\n",
    "# 而需要用 is.na() 函式，例如\n",
    "index <- c(1, NA, 3, 4)\n",
    "index == NA\n",
    "is.na(index)"
   ]
  },
  {
   "cell_type": "code",
   "execution_count": null,
   "metadata": {},
   "outputs": [],
   "source": [
    "# 嘗試以目前學到的函式回答，index 中有哪些元素是 NA，index 中有幾個 NA\n"
   ]
  },
  {
   "cell_type": "code",
   "execution_count": null,
   "metadata": {},
   "outputs": [],
   "source": [
    "# 查閱 is.na 的 help 會發現另一個函式 anyNA()，這兩者有什麼不同呢？"
   ]
  },
  {
   "cell_type": "code",
   "execution_count": null,
   "metadata": {},
   "outputs": [],
   "source": [
    "# is.na 不僅僅會偵測向量中的 NA 同時也會偵測向量中的 NaN，例如\n",
    "na.example = c(NA, NaN, 1)\n",
    "is.na(na.example)"
   ]
  },
  {
   "cell_type": "code",
   "execution_count": null,
   "metadata": {},
   "outputs": [],
   "source": [
    "# 假如想要單獨偵測 NaN，需要用 is.nan()\n",
    "is.nan(na.example)"
   ]
  },
  {
   "cell_type": "code",
   "execution_count": null,
   "metadata": {},
   "outputs": [],
   "source": [
    "# 試利用上面學到的各種方式，單獨偵測 na.example 向量中的 na"
   ]
  },
  {
   "cell_type": "markdown",
   "metadata": {},
   "source": [
    "最後，我們來學習一下如何操弄字串向量"
   ]
  },
  {
   "cell_type": "code",
   "execution_count": null,
   "metadata": {},
   "outputs": [],
   "source": [
    "# R 中的字串可以使用 單引號 '' 或者雙引號 \"\" 來表示，效果相同\n",
    "'a'\n",
    "\"a\""
   ]
  },
  {
   "cell_type": "code",
   "execution_count": null,
   "metadata": {},
   "outputs": [],
   "source": [
    "# 也同樣可以用 c() 函式來連結\n",
    "c(\"a\", \"b\", 1:5)"
   ]
  },
  {
   "cell_type": "code",
   "execution_count": null,
   "metadata": {},
   "outputs": [],
   "source": [
    "# 上面那道程式碼有沒有什麼奇特之處？"
   ]
  },
  {
   "cell_type": "code",
   "execution_count": null,
   "metadata": {},
   "outputs": [],
   "source": [
    "# 假如想要將兩個字串黏起來，則需要使用 paste 函式，例如 \n",
    "paste(\"a\", \"b\")"
   ]
  },
  {
   "cell_type": "code",
   "execution_count": null,
   "metadata": {},
   "outputs": [],
   "source": [
    "# paste 也同樣支持向量計算\n",
    "paste(c(\"a\", \"b\"), 1:10)"
   ]
  },
  {
   "cell_type": "code",
   "execution_count": null,
   "metadata": {},
   "outputs": [],
   "source": [
    "# 請參閱 paste 的 help，找出如何讓黏合時中間的空白消失的方法"
   ]
  },
  {
   "cell_type": "code",
   "execution_count": null,
   "metadata": {},
   "outputs": [],
   "source": [
    "# paste 或 paste0 函式中的 collapse 參數有什麼作用？"
   ]
  },
  {
   "cell_type": "code",
   "execution_count": null,
   "metadata": {},
   "outputs": [],
   "source": [
    "# 了解字串後，我們嘗試為向量中的每個元素命名\n",
    "names(x) <- c(\"a\", \"b\", \"c\", \"d\")\n",
    "x\n",
    "names(y)"
   ]
  },
  {
   "cell_type": "code",
   "execution_count": null,
   "metadata": {},
   "outputs": [],
   "source": [
    "# 命名的作用在於，從此可以用名稱來索引向量中的元素，例如：\n",
    "x[\"a\"]"
   ]
  },
  {
   "cell_type": "code",
   "execution_count": null,
   "metadata": {},
   "outputs": [],
   "source": [
    "# 試將 x 中名稱為 \"c\", \"d\" 的元素取出成為一個向量"
   ]
  },
  {
   "cell_type": "code",
   "execution_count": null,
   "metadata": {},
   "outputs": [],
   "source": [
    "# 試取出 x 中數值大於 5 的元素其名稱"
   ]
  },
  {
   "cell_type": "markdown",
   "metadata": {},
   "source": [
    "練習 1：\n",
    "\n",
    "雖然目前我們還沒有學習到 data.frame 這個實務上真正會面對到的資料結構 (也就是表格)\n",
    "\n",
    "但是也已經可以利用向量來進行一些資料分析了\n",
    "\n",
    "下面我們就用 R 內建的 iris 資料表來作一些練習"
   ]
  },
  {
   "cell_type": "code",
   "execution_count": null,
   "metadata": {},
   "outputs": [],
   "source": [
    "# 我們先將 iris 資料表中部分的資料取出\n",
    "sepal.len = iris$Sepal.Length # 花萼的長度\n",
    "petal.len = iris$Petal.Length # 花瓣的長度\n",
    "species = as.character(iris$Species) # 花的種類"
   ]
  },
  {
   "cell_type": "code",
   "execution_count": null,
   "metadata": {},
   "outputs": [],
   "source": [
    "# 試回答下列問題\n",
    "# 資料集中，有幾筆樣本其品種為 setosa\n",
    "# 分別計算各品種之其花瓣與花萼長度的平均數值，你發現了什麼？\n",
    "# 各品種中，花萼長度超過 5 cm 的樣本各有幾株？\n",
    "# versicolor 品種的樣本中，其花萼長度大於 virginica 品種之平均花萼長度 的樣本有幾株？\n",
    "# 資料集中，花辦與花萼之總長最長的一株樣本，是什麼品種的？\n",
    "#     (hint: 請查閱 which.max() 函式的 help，並且嘗試使用之)\n",
    "# 資料集中，各品種花瓣與花萼之長度總和的平均各為多少？"
   ]
  },
  {
   "cell_type": "code",
   "execution_count": null,
   "metadata": {},
   "outputs": [],
   "source": [
    "# 順便教兩個經常用於整理類別型變數的函式，請嘗試\n",
    "# unique(species)\n",
    "# table(species)\n",
    "# 請詳閱上述兩函式的 help 文件"
   ]
  },
  {
   "cell_type": "markdown",
   "metadata": {},
   "source": [
    "練習 2: (以下習題出自 R 翻轉教室 RBasic01)"
   ]
  },
  {
   "cell_type": "code",
   "execution_count": 27,
   "metadata": {},
   "outputs": [
    {
     "data": {
      "text/html": [
       "<ol class=list-inline>\n",
       "\t<li>90</li>\n",
       "\t<li>91</li>\n",
       "</ol>\n"
      ],
      "text/latex": [
       "\\begin{enumerate*}\n",
       "\\item 90\n",
       "\\item 91\n",
       "\\end{enumerate*}\n"
      ],
      "text/markdown": [
       "1. 90\n",
       "2. 91\n",
       "\n",
       "\n"
      ],
      "text/plain": [
       "[1] 90 91"
      ]
     },
     "metadata": {},
     "output_type": "display_data"
    },
    {
     "data": {
      "text/html": [
       "6956751679.70687"
      ],
      "text/latex": [
       "6956751679.70687"
      ],
      "text/markdown": [
       "6956751679.70687"
      ],
      "text/plain": [
       "[1] 6956751680"
      ]
     },
     "metadata": {},
     "output_type": "display_data"
    },
    {
     "data": {
      "text/html": [
       "733382947.600376"
      ],
      "text/latex": [
       "733382947.600376"
      ],
      "text/markdown": [
       "733382947.600376"
      ],
      "text/plain": [
       "[1] 733382948"
      ]
     },
     "metadata": {},
     "output_type": "display_data"
    },
    {
     "data": {
      "text/html": [
       "<table>\n",
       "<tbody>\n",
       "\t<tr><td>-1.17222844</td></tr>\n",
       "\t<tr><td>-0.72385615</td></tr>\n",
       "\t<tr><td> 0.03521672</td></tr>\n",
       "\t<tr><td> 0.50074920</td></tr>\n",
       "\t<tr><td> 1.36011867</td></tr>\n",
       "</tbody>\n",
       "</table>\n"
      ],
      "text/latex": [
       "\\begin{tabular}{l}\n",
       "\t -1.17222844\\\\\n",
       "\t -0.72385615\\\\\n",
       "\t  0.03521672\\\\\n",
       "\t  0.50074920\\\\\n",
       "\t  1.36011867\\\\\n",
       "\\end{tabular}\n"
      ],
      "text/markdown": [
       "\n",
       "| -1.17222844 |\n",
       "| -0.72385615 |\n",
       "|  0.03521672 |\n",
       "|  0.50074920 |\n",
       "|  1.36011867 |\n",
       "\n"
      ],
      "text/plain": [
       "     [,1]       \n",
       "[1,] -1.17222844\n",
       "[2,] -0.72385615\n",
       "[3,]  0.03521672\n",
       "[4,]  0.50074920\n",
       "[5,]  1.36011867"
      ]
     },
     "metadata": {},
     "output_type": "display_data"
    },
    {
     "data": {
      "text/html": [
       "64854854859.6686"
      ],
      "text/latex": [
       "64854854859.6686"
      ],
      "text/markdown": [
       "64854854859.6686"
      ],
      "text/plain": [
       "[1] 64854854860"
      ]
     },
     "metadata": {},
     "output_type": "display_data"
    },
    {
     "data": {
      "text/html": [
       "4269407714.15836"
      ],
      "text/latex": [
       "4269407714.15836"
      ],
      "text/markdown": [
       "4269407714.15836"
      ],
      "text/plain": [
       "[1] 4269407714"
      ]
     },
     "metadata": {},
     "output_type": "display_data"
    },
    {
     "data": {
      "text/html": [
       "<table>\n",
       "<tbody>\n",
       "\t<tr><td>-1.3501660</td></tr>\n",
       "\t<tr><td>-0.6729712</td></tr>\n",
       "\t<tr><td> 0.5910596</td></tr>\n",
       "\t<tr><td> 0.2980754</td></tr>\n",
       "\t<tr><td> 1.1340023</td></tr>\n",
       "</tbody>\n",
       "</table>\n"
      ],
      "text/latex": [
       "\\begin{tabular}{l}\n",
       "\t -1.3501660\\\\\n",
       "\t -0.6729712\\\\\n",
       "\t  0.5910596\\\\\n",
       "\t  0.2980754\\\\\n",
       "\t  1.1340023\\\\\n",
       "\\end{tabular}\n"
      ],
      "text/markdown": [
       "\n",
       "| -1.3501660 |\n",
       "| -0.6729712 |\n",
       "|  0.5910596 |\n",
       "|  0.2980754 |\n",
       "|  1.1340023 |\n",
       "\n"
      ],
      "text/plain": [
       "     [,1]      \n",
       "[1,] -1.3501660\n",
       "[2,] -0.6729712\n",
       "[3,]  0.5910596\n",
       "[4,]  0.2980754\n",
       "[5,]  1.1340023"
      ]
     },
     "metadata": {},
     "output_type": "display_data"
    },
    {
     "data": {
      "text/html": [
       "<ol class=list-inline>\n",
       "\t<li>87</li>\n",
       "\t<li>88</li>\n",
       "\t<li>89</li>\n",
       "\t<li>90</li>\n",
       "\t<li>91</li>\n",
       "</ol>\n"
      ],
      "text/latex": [
       "\\begin{enumerate*}\n",
       "\\item 87\n",
       "\\item 88\n",
       "\\item 89\n",
       "\\item 90\n",
       "\\item 91\n",
       "\\end{enumerate*}\n"
      ],
      "text/markdown": [
       "1. 87\n",
       "2. 88\n",
       "3. 89\n",
       "4. 90\n",
       "5. 91\n",
       "\n",
       "\n"
      ],
      "text/plain": [
       "[1] 87 88 89 90 91"
      ]
     },
     "metadata": {},
     "output_type": "display_data"
    }
   ],
   "source": [
    "year1 <- 87:91\n",
    "\n",
    "# 社會服務業自民國87至民國91年的年度用電量（度）\n",
    "power1 <- c(6097059332, 6425887925, 6982579022, 7323992602.53436, 7954239517) \n",
    "\n",
    "# 製造業自民國87至民國91年的年度用電量（度）\n",
    "power2 <- c(59090445718, 61981666330, 67378329131, 66127460204.6482, 69696372914.6949)\n",
    "\n",
    "\n",
    "# 請選出各年度 (`year1`)中，社會服務業的的用電量超過 `7e9` 的年份。\n",
    "# (`7e9`是R 的科學符號，代表`7 * 10^9`)\n",
    "year1[power1 > 7e9]\n",
    "\n",
    "# 請計算「社會服務業從民國87年到91年的平均用電量」\n",
    "mean(power1)\n",
    "\n",
    "\n",
    "# 請計算「社會服務業從民國87年到91年用電量的標準差」\n",
    "sd(power1)\n",
    "\n",
    "# 在統計中，我們常常會計算一筆數據的「標準分數」，也就是將數據減去平均數後除以標準差。\n",
    "# 請同學計算「社會服務業從民國87年到91年用電量的標準分數」\n",
    "scale(power1)\n",
    "\n",
    "\n",
    "# 同樣的道理，請同學算出「製造業自民國87年至民國91年用電量的平均數、標準差和標準分數」\n",
    "# power2\n",
    "\n",
    "mean(power2)\n",
    "sd(power2)\n",
    "scale(power2)\n",
    "\n",
    "# 最後，請同學找出年度中，「社會服務業的用電量」，超過「製造業的10%用電量」的年份\n",
    "#                        power1                   power2\n",
    "year1[power1 > (power2 * 0.1)]"
   ]
  },
  {
   "cell_type": "code",
   "execution_count": null,
   "metadata": {},
   "outputs": [],
   "source": []
  }
 ],
 "metadata": {
  "kernelspec": {
   "display_name": "R",
   "language": "R",
   "name": "ir"
  },
  "language_info": {
   "codemirror_mode": "r",
   "file_extension": ".r",
   "mimetype": "text/x-r-source",
   "name": "R",
   "pygments_lexer": "r",
   "version": "3.6.1"
  }
 },
 "nbformat": 4,
 "nbformat_minor": 2
}
